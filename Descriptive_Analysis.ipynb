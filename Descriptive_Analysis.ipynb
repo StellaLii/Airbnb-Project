{
  "cells": [
    {
      "cell_type": "code",
      "execution_count": 2,
      "metadata": {
        "id": "BZB87MF3EG8M"
      },
      "outputs": [],
      "source": [
        "import numpy as np\n",
        "import pandas as pd\n",
        "import matplotlib.pyplot as plt\n",
        "import matplotlib.image as mpimg\n",
        "%matplotlib inline\n",
        "import seaborn as sns"
      ]
    },
    {
      "cell_type": "code",
      "source": [
        "from google.colab import drive\n",
        "drive.mount('/content/gdrive')\n",
        "import sys\n",
        "sys.path.append('/content/gdrive/MyDrive/Colab Notebooks/733proj')"
      ],
      "metadata": {
        "colab": {
          "base_uri": "https://localhost:8080/"
        },
        "id": "NQhyHMjHvvoI",
        "outputId": "4e6d7b59-3796-4f55-f965-e0701a8eaf00"
      },
      "execution_count": 1,
      "outputs": [
        {
          "output_type": "stream",
          "name": "stdout",
          "text": [
            "Mounted at /content/gdrive\n"
          ]
        }
      ]
    },
    {
      "cell_type": "code",
      "source": [
        "cd 733proj"
      ],
      "metadata": {
        "colab": {
          "base_uri": "https://localhost:8080/"
        },
        "id": "u_K-bscav5yQ",
        "outputId": "0b129e70-cc6d-4c60-f446-55be26b1ccee"
      },
      "execution_count": 6,
      "outputs": [
        {
          "output_type": "stream",
          "name": "stdout",
          "text": [
            "/content/gdrive/MyDrive/Colab Notebooks/733proj\n"
          ]
        }
      ]
    },
    {
      "cell_type": "code",
      "execution_count": 7,
      "metadata": {
        "colab": {
          "base_uri": "https://localhost:8080/",
          "height": 410
        },
        "id": "pkVG9FjrEPOR",
        "outputId": "affe275c-21bd-416f-f300-c8f2f8c35aa6"
      },
      "outputs": [
        {
          "output_type": "execute_result",
          "data": {
            "text/plain": [
              "      id                         listing_url       scrape_id last_scraped  \\\n",
              "0   1419   https://www.airbnb.com/rooms/1419  20221206172219   2022-12-07   \n",
              "1   8077   https://www.airbnb.com/rooms/8077  20221206172219   2022-12-06   \n",
              "2  26654  https://www.airbnb.com/rooms/26654  20221206172219   2022-12-07   \n",
              "\n",
              "            source                                               name  \\\n",
              "0  previous scrape                    Beautiful home in amazing area!   \n",
              "1      city scrape                 Downtown Harbourfront Private Room   \n",
              "2      city scrape  World Class downtown @CN Tower Theatre MTCC ga...   \n",
              "\n",
              "                                         description  \\\n",
              "0  This large, family home is located in one of T...   \n",
              "1  Guest room in a luxury condo with access to al...   \n",
              "2  CN Tower, TIFF Bell Lightbox, Metro Convention...   \n",
              "\n",
              "                               neighborhood_overview  \\\n",
              "0  The apartment is located in the Ossington stri...   \n",
              "1                                                NaN   \n",
              "2  There's a reason they call it the Entertainmen...   \n",
              "\n",
              "                                         picture_url  host_id  ...  \\\n",
              "0  https://a0.muscache.com/pictures/76206750/d643...     1565  ...   \n",
              "1  https://a0.muscache.com/pictures/11780344/141c...    22795  ...   \n",
              "2  https://a0.muscache.com/pictures/81811785/5dcd...   113345  ...   \n",
              "\n",
              "  review_scores_communication review_scores_location review_scores_value  \\\n",
              "0                        5.00                   5.00                5.00   \n",
              "1                        4.90                   4.92                4.83   \n",
              "2                        4.75                   4.85                4.65   \n",
              "\n",
              "  license instant_bookable calculated_host_listings_count  \\\n",
              "0     NaN                f                              1   \n",
              "1     NaN                t                              2   \n",
              "2     NaN                f                              3   \n",
              "\n",
              "  calculated_host_listings_count_entire_homes  \\\n",
              "0                                           1   \n",
              "1                                           1   \n",
              "2                                           3   \n",
              "\n",
              "  calculated_host_listings_count_private_rooms  \\\n",
              "0                                            0   \n",
              "1                                            1   \n",
              "2                                            0   \n",
              "\n",
              "  calculated_host_listings_count_shared_rooms reviews_per_month  \n",
              "0                                           0              0.08  \n",
              "1                                           0              1.04  \n",
              "2                                           0              0.28  \n",
              "\n",
              "[3 rows x 75 columns]"
            ],
            "text/html": [
              "\n",
              "  <div id=\"df-381dd79f-dcb7-4b03-868c-d84c8b327d94\">\n",
              "    <div class=\"colab-df-container\">\n",
              "      <div>\n",
              "<style scoped>\n",
              "    .dataframe tbody tr th:only-of-type {\n",
              "        vertical-align: middle;\n",
              "    }\n",
              "\n",
              "    .dataframe tbody tr th {\n",
              "        vertical-align: top;\n",
              "    }\n",
              "\n",
              "    .dataframe thead th {\n",
              "        text-align: right;\n",
              "    }\n",
              "</style>\n",
              "<table border=\"1\" class=\"dataframe\">\n",
              "  <thead>\n",
              "    <tr style=\"text-align: right;\">\n",
              "      <th></th>\n",
              "      <th>id</th>\n",
              "      <th>listing_url</th>\n",
              "      <th>scrape_id</th>\n",
              "      <th>last_scraped</th>\n",
              "      <th>source</th>\n",
              "      <th>name</th>\n",
              "      <th>description</th>\n",
              "      <th>neighborhood_overview</th>\n",
              "      <th>picture_url</th>\n",
              "      <th>host_id</th>\n",
              "      <th>...</th>\n",
              "      <th>review_scores_communication</th>\n",
              "      <th>review_scores_location</th>\n",
              "      <th>review_scores_value</th>\n",
              "      <th>license</th>\n",
              "      <th>instant_bookable</th>\n",
              "      <th>calculated_host_listings_count</th>\n",
              "      <th>calculated_host_listings_count_entire_homes</th>\n",
              "      <th>calculated_host_listings_count_private_rooms</th>\n",
              "      <th>calculated_host_listings_count_shared_rooms</th>\n",
              "      <th>reviews_per_month</th>\n",
              "    </tr>\n",
              "  </thead>\n",
              "  <tbody>\n",
              "    <tr>\n",
              "      <th>0</th>\n",
              "      <td>1419</td>\n",
              "      <td>https://www.airbnb.com/rooms/1419</td>\n",
              "      <td>20221206172219</td>\n",
              "      <td>2022-12-07</td>\n",
              "      <td>previous scrape</td>\n",
              "      <td>Beautiful home in amazing area!</td>\n",
              "      <td>This large, family home is located in one of T...</td>\n",
              "      <td>The apartment is located in the Ossington stri...</td>\n",
              "      <td>https://a0.muscache.com/pictures/76206750/d643...</td>\n",
              "      <td>1565</td>\n",
              "      <td>...</td>\n",
              "      <td>5.00</td>\n",
              "      <td>5.00</td>\n",
              "      <td>5.00</td>\n",
              "      <td>NaN</td>\n",
              "      <td>f</td>\n",
              "      <td>1</td>\n",
              "      <td>1</td>\n",
              "      <td>0</td>\n",
              "      <td>0</td>\n",
              "      <td>0.08</td>\n",
              "    </tr>\n",
              "    <tr>\n",
              "      <th>1</th>\n",
              "      <td>8077</td>\n",
              "      <td>https://www.airbnb.com/rooms/8077</td>\n",
              "      <td>20221206172219</td>\n",
              "      <td>2022-12-06</td>\n",
              "      <td>city scrape</td>\n",
              "      <td>Downtown Harbourfront Private Room</td>\n",
              "      <td>Guest room in a luxury condo with access to al...</td>\n",
              "      <td>NaN</td>\n",
              "      <td>https://a0.muscache.com/pictures/11780344/141c...</td>\n",
              "      <td>22795</td>\n",
              "      <td>...</td>\n",
              "      <td>4.90</td>\n",
              "      <td>4.92</td>\n",
              "      <td>4.83</td>\n",
              "      <td>NaN</td>\n",
              "      <td>t</td>\n",
              "      <td>2</td>\n",
              "      <td>1</td>\n",
              "      <td>1</td>\n",
              "      <td>0</td>\n",
              "      <td>1.04</td>\n",
              "    </tr>\n",
              "    <tr>\n",
              "      <th>2</th>\n",
              "      <td>26654</td>\n",
              "      <td>https://www.airbnb.com/rooms/26654</td>\n",
              "      <td>20221206172219</td>\n",
              "      <td>2022-12-07</td>\n",
              "      <td>city scrape</td>\n",
              "      <td>World Class downtown @CN Tower Theatre MTCC ga...</td>\n",
              "      <td>CN Tower, TIFF Bell Lightbox, Metro Convention...</td>\n",
              "      <td>There's a reason they call it the Entertainmen...</td>\n",
              "      <td>https://a0.muscache.com/pictures/81811785/5dcd...</td>\n",
              "      <td>113345</td>\n",
              "      <td>...</td>\n",
              "      <td>4.75</td>\n",
              "      <td>4.85</td>\n",
              "      <td>4.65</td>\n",
              "      <td>NaN</td>\n",
              "      <td>f</td>\n",
              "      <td>3</td>\n",
              "      <td>3</td>\n",
              "      <td>0</td>\n",
              "      <td>0</td>\n",
              "      <td>0.28</td>\n",
              "    </tr>\n",
              "  </tbody>\n",
              "</table>\n",
              "<p>3 rows × 75 columns</p>\n",
              "</div>\n",
              "      <button class=\"colab-df-convert\" onclick=\"convertToInteractive('df-381dd79f-dcb7-4b03-868c-d84c8b327d94')\"\n",
              "              title=\"Convert this dataframe to an interactive table.\"\n",
              "              style=\"display:none;\">\n",
              "        \n",
              "  <svg xmlns=\"http://www.w3.org/2000/svg\" height=\"24px\"viewBox=\"0 0 24 24\"\n",
              "       width=\"24px\">\n",
              "    <path d=\"M0 0h24v24H0V0z\" fill=\"none\"/>\n",
              "    <path d=\"M18.56 5.44l.94 2.06.94-2.06 2.06-.94-2.06-.94-.94-2.06-.94 2.06-2.06.94zm-11 1L8.5 8.5l.94-2.06 2.06-.94-2.06-.94L8.5 2.5l-.94 2.06-2.06.94zm10 10l.94 2.06.94-2.06 2.06-.94-2.06-.94-.94-2.06-.94 2.06-2.06.94z\"/><path d=\"M17.41 7.96l-1.37-1.37c-.4-.4-.92-.59-1.43-.59-.52 0-1.04.2-1.43.59L10.3 9.45l-7.72 7.72c-.78.78-.78 2.05 0 2.83L4 21.41c.39.39.9.59 1.41.59.51 0 1.02-.2 1.41-.59l7.78-7.78 2.81-2.81c.8-.78.8-2.07 0-2.86zM5.41 20L4 18.59l7.72-7.72 1.47 1.35L5.41 20z\"/>\n",
              "  </svg>\n",
              "      </button>\n",
              "      \n",
              "  <style>\n",
              "    .colab-df-container {\n",
              "      display:flex;\n",
              "      flex-wrap:wrap;\n",
              "      gap: 12px;\n",
              "    }\n",
              "\n",
              "    .colab-df-convert {\n",
              "      background-color: #E8F0FE;\n",
              "      border: none;\n",
              "      border-radius: 50%;\n",
              "      cursor: pointer;\n",
              "      display: none;\n",
              "      fill: #1967D2;\n",
              "      height: 32px;\n",
              "      padding: 0 0 0 0;\n",
              "      width: 32px;\n",
              "    }\n",
              "\n",
              "    .colab-df-convert:hover {\n",
              "      background-color: #E2EBFA;\n",
              "      box-shadow: 0px 1px 2px rgba(60, 64, 67, 0.3), 0px 1px 3px 1px rgba(60, 64, 67, 0.15);\n",
              "      fill: #174EA6;\n",
              "    }\n",
              "\n",
              "    [theme=dark] .colab-df-convert {\n",
              "      background-color: #3B4455;\n",
              "      fill: #D2E3FC;\n",
              "    }\n",
              "\n",
              "    [theme=dark] .colab-df-convert:hover {\n",
              "      background-color: #434B5C;\n",
              "      box-shadow: 0px 1px 3px 1px rgba(0, 0, 0, 0.15);\n",
              "      filter: drop-shadow(0px 1px 2px rgba(0, 0, 0, 0.3));\n",
              "      fill: #FFFFFF;\n",
              "    }\n",
              "  </style>\n",
              "\n",
              "      <script>\n",
              "        const buttonEl =\n",
              "          document.querySelector('#df-381dd79f-dcb7-4b03-868c-d84c8b327d94 button.colab-df-convert');\n",
              "        buttonEl.style.display =\n",
              "          google.colab.kernel.accessAllowed ? 'block' : 'none';\n",
              "\n",
              "        async function convertToInteractive(key) {\n",
              "          const element = document.querySelector('#df-381dd79f-dcb7-4b03-868c-d84c8b327d94');\n",
              "          const dataTable =\n",
              "            await google.colab.kernel.invokeFunction('convertToInteractive',\n",
              "                                                     [key], {});\n",
              "          if (!dataTable) return;\n",
              "\n",
              "          const docLinkHtml = 'Like what you see? Visit the ' +\n",
              "            '<a target=\"_blank\" href=https://colab.research.google.com/notebooks/data_table.ipynb>data table notebook</a>'\n",
              "            + ' to learn more about interactive tables.';\n",
              "          element.innerHTML = '';\n",
              "          dataTable['output_type'] = 'display_data';\n",
              "          await google.colab.output.renderOutput(dataTable, element);\n",
              "          const docLink = document.createElement('div');\n",
              "          docLink.innerHTML = docLinkHtml;\n",
              "          element.appendChild(docLink);\n",
              "        }\n",
              "      </script>\n",
              "    </div>\n",
              "  </div>\n",
              "  "
            ]
          },
          "metadata": {},
          "execution_count": 7
        }
      ],
      "source": [
        "airbnb_df=pd.read_csv(\"listings.csv\")\n",
        "\n",
        "airbnb_df.head(3)"
      ]
    },
    {
      "cell_type": "code",
      "execution_count": 8,
      "metadata": {
        "colab": {
          "base_uri": "https://localhost:8080/"
        },
        "id": "8pZqYByPMFfJ",
        "outputId": "11ae13d7-13ca-40b0-bc8d-201e7ce8dff4"
      },
      "outputs": [
        {
          "output_type": "stream",
          "name": "stdout",
          "text": [
            "980\n",
            "6\n",
            "4157\n",
            "4157\n"
          ]
        }
      ],
      "source": [
        "print(airbnb_df['bedrooms'].isnull().sum())\n",
        "print(airbnb_df['bathrooms_text'].isnull().sum())\n",
        "print(airbnb_df['review_scores_rating'].isnull().sum())\n",
        "print(airbnb_df['reviews_per_month'].isnull().sum())"
      ]
    },
    {
      "cell_type": "markdown",
      "metadata": {
        "id": "4Ta_5B4dvm22"
      },
      "source": [
        "Let's take a look at some variables that can affect customers choice"
      ]
    },
    {
      "cell_type": "code",
      "execution_count": 30,
      "metadata": {
        "colab": {
          "base_uri": "https://localhost:8080/",
          "height": 468
        },
        "id": "RbnIyAWxEXMD",
        "outputId": "7ccab0dc-cbf4-4880-e8af-d65fde920a46"
      },
      "outputs": [
        {
          "output_type": "display_data",
          "data": {
            "text/plain": [
              "                                                    name  price  \\\n",
              "0                        Beautiful home in amazing area!  469.0   \n",
              "1                     Downtown Harbourfront Private Room  101.0   \n",
              "2      World Class downtown @CN Tower Theatre MTCC ga...  125.0   \n",
              "4                    Calming Bedroom 2 - Beaches Toronto   37.0   \n",
              "6                    Calming Bedroom 3 - Beaches Toronto   37.0   \n",
              "...                                                  ...    ...   \n",
              "16575  Delux City Escape Penthhouse - The grand Lake ...  229.0   \n",
              "16577                              Cn tower views 1+ den  166.0   \n",
              "16602                                             London   61.0   \n",
              "16617                    2Bdr Apt direct access to Metro  186.0   \n",
              "16644                    Easy 2BR close to all WIFI park  122.0   \n",
              "\n",
              "                           neighbourhood                         type  \\\n",
              "0                        Little Portugal                  Entire home   \n",
              "1      Waterfront Communities-The Island  Private room in rental unit   \n",
              "2      Waterfront Communities-The Island                 Entire condo   \n",
              "4                      Woodbine Corridor         Private room in home   \n",
              "6                      Woodbine Corridor         Private room in home   \n",
              "...                                  ...                          ...   \n",
              "16575  Waterfront Communities-The Island           Entire rental unit   \n",
              "16577  Waterfront Communities-The Island           Entire rental unit   \n",
              "16602      Kingsview Village-The Westway         Private room in home   \n",
              "16617                   Lansing-Westgate           Entire rental unit   \n",
              "16644                    High Park North           Entire rental unit   \n",
              "\n",
              "       bedrooms      bathrooms  scores  monthly_review  \n",
              "0           5.0        3 baths    5.00            0.08  \n",
              "1           1.0      1.5 baths    4.84            1.04  \n",
              "2           1.0         1 bath    4.78            0.28  \n",
              "4           1.0  1 shared bath    5.00            0.18  \n",
              "6           1.0  1 shared bath    4.89            0.08  \n",
              "...         ...            ...     ...             ...  \n",
              "16575       1.0         1 bath    5.00            1.00  \n",
              "16577       1.0         1 bath    4.50            2.00  \n",
              "16602       1.0      1.5 baths    5.00            1.00  \n",
              "16617       2.0        2 baths    5.00            1.00  \n",
              "16644       2.0         1 bath    5.00            1.00  \n",
              "\n",
              "[11833 rows x 8 columns]"
            ],
            "text/html": [
              "\n",
              "  <div id=\"df-014af450-f1bd-482a-8051-df33f61af9ea\">\n",
              "    <div class=\"colab-df-container\">\n",
              "      <div>\n",
              "<style scoped>\n",
              "    .dataframe tbody tr th:only-of-type {\n",
              "        vertical-align: middle;\n",
              "    }\n",
              "\n",
              "    .dataframe tbody tr th {\n",
              "        vertical-align: top;\n",
              "    }\n",
              "\n",
              "    .dataframe thead th {\n",
              "        text-align: right;\n",
              "    }\n",
              "</style>\n",
              "<table border=\"1\" class=\"dataframe\">\n",
              "  <thead>\n",
              "    <tr style=\"text-align: right;\">\n",
              "      <th></th>\n",
              "      <th>name</th>\n",
              "      <th>price</th>\n",
              "      <th>neighbourhood</th>\n",
              "      <th>type</th>\n",
              "      <th>bedrooms</th>\n",
              "      <th>bathrooms</th>\n",
              "      <th>scores</th>\n",
              "      <th>monthly_review</th>\n",
              "    </tr>\n",
              "  </thead>\n",
              "  <tbody>\n",
              "    <tr>\n",
              "      <th>0</th>\n",
              "      <td>Beautiful home in amazing area!</td>\n",
              "      <td>469.0</td>\n",
              "      <td>Little Portugal</td>\n",
              "      <td>Entire home</td>\n",
              "      <td>5.0</td>\n",
              "      <td>3 baths</td>\n",
              "      <td>5.00</td>\n",
              "      <td>0.08</td>\n",
              "    </tr>\n",
              "    <tr>\n",
              "      <th>1</th>\n",
              "      <td>Downtown Harbourfront Private Room</td>\n",
              "      <td>101.0</td>\n",
              "      <td>Waterfront Communities-The Island</td>\n",
              "      <td>Private room in rental unit</td>\n",
              "      <td>1.0</td>\n",
              "      <td>1.5 baths</td>\n",
              "      <td>4.84</td>\n",
              "      <td>1.04</td>\n",
              "    </tr>\n",
              "    <tr>\n",
              "      <th>2</th>\n",
              "      <td>World Class downtown @CN Tower Theatre MTCC ga...</td>\n",
              "      <td>125.0</td>\n",
              "      <td>Waterfront Communities-The Island</td>\n",
              "      <td>Entire condo</td>\n",
              "      <td>1.0</td>\n",
              "      <td>1 bath</td>\n",
              "      <td>4.78</td>\n",
              "      <td>0.28</td>\n",
              "    </tr>\n",
              "    <tr>\n",
              "      <th>4</th>\n",
              "      <td>Calming Bedroom 2 - Beaches Toronto</td>\n",
              "      <td>37.0</td>\n",
              "      <td>Woodbine Corridor</td>\n",
              "      <td>Private room in home</td>\n",
              "      <td>1.0</td>\n",
              "      <td>1 shared bath</td>\n",
              "      <td>5.00</td>\n",
              "      <td>0.18</td>\n",
              "    </tr>\n",
              "    <tr>\n",
              "      <th>6</th>\n",
              "      <td>Calming Bedroom 3 - Beaches Toronto</td>\n",
              "      <td>37.0</td>\n",
              "      <td>Woodbine Corridor</td>\n",
              "      <td>Private room in home</td>\n",
              "      <td>1.0</td>\n",
              "      <td>1 shared bath</td>\n",
              "      <td>4.89</td>\n",
              "      <td>0.08</td>\n",
              "    </tr>\n",
              "    <tr>\n",
              "      <th>...</th>\n",
              "      <td>...</td>\n",
              "      <td>...</td>\n",
              "      <td>...</td>\n",
              "      <td>...</td>\n",
              "      <td>...</td>\n",
              "      <td>...</td>\n",
              "      <td>...</td>\n",
              "      <td>...</td>\n",
              "    </tr>\n",
              "    <tr>\n",
              "      <th>16575</th>\n",
              "      <td>Delux City Escape Penthhouse - The grand Lake ...</td>\n",
              "      <td>229.0</td>\n",
              "      <td>Waterfront Communities-The Island</td>\n",
              "      <td>Entire rental unit</td>\n",
              "      <td>1.0</td>\n",
              "      <td>1 bath</td>\n",
              "      <td>5.00</td>\n",
              "      <td>1.00</td>\n",
              "    </tr>\n",
              "    <tr>\n",
              "      <th>16577</th>\n",
              "      <td>Cn tower views 1+ den</td>\n",
              "      <td>166.0</td>\n",
              "      <td>Waterfront Communities-The Island</td>\n",
              "      <td>Entire rental unit</td>\n",
              "      <td>1.0</td>\n",
              "      <td>1 bath</td>\n",
              "      <td>4.50</td>\n",
              "      <td>2.00</td>\n",
              "    </tr>\n",
              "    <tr>\n",
              "      <th>16602</th>\n",
              "      <td>London</td>\n",
              "      <td>61.0</td>\n",
              "      <td>Kingsview Village-The Westway</td>\n",
              "      <td>Private room in home</td>\n",
              "      <td>1.0</td>\n",
              "      <td>1.5 baths</td>\n",
              "      <td>5.00</td>\n",
              "      <td>1.00</td>\n",
              "    </tr>\n",
              "    <tr>\n",
              "      <th>16617</th>\n",
              "      <td>2Bdr Apt direct access to Metro</td>\n",
              "      <td>186.0</td>\n",
              "      <td>Lansing-Westgate</td>\n",
              "      <td>Entire rental unit</td>\n",
              "      <td>2.0</td>\n",
              "      <td>2 baths</td>\n",
              "      <td>5.00</td>\n",
              "      <td>1.00</td>\n",
              "    </tr>\n",
              "    <tr>\n",
              "      <th>16644</th>\n",
              "      <td>Easy 2BR close to all WIFI park</td>\n",
              "      <td>122.0</td>\n",
              "      <td>High Park North</td>\n",
              "      <td>Entire rental unit</td>\n",
              "      <td>2.0</td>\n",
              "      <td>1 bath</td>\n",
              "      <td>5.00</td>\n",
              "      <td>1.00</td>\n",
              "    </tr>\n",
              "  </tbody>\n",
              "</table>\n",
              "<p>11833 rows × 8 columns</p>\n",
              "</div>\n",
              "      <button class=\"colab-df-convert\" onclick=\"convertToInteractive('df-014af450-f1bd-482a-8051-df33f61af9ea')\"\n",
              "              title=\"Convert this dataframe to an interactive table.\"\n",
              "              style=\"display:none;\">\n",
              "        \n",
              "  <svg xmlns=\"http://www.w3.org/2000/svg\" height=\"24px\"viewBox=\"0 0 24 24\"\n",
              "       width=\"24px\">\n",
              "    <path d=\"M0 0h24v24H0V0z\" fill=\"none\"/>\n",
              "    <path d=\"M18.56 5.44l.94 2.06.94-2.06 2.06-.94-2.06-.94-.94-2.06-.94 2.06-2.06.94zm-11 1L8.5 8.5l.94-2.06 2.06-.94-2.06-.94L8.5 2.5l-.94 2.06-2.06.94zm10 10l.94 2.06.94-2.06 2.06-.94-2.06-.94-.94-2.06-.94 2.06-2.06.94z\"/><path d=\"M17.41 7.96l-1.37-1.37c-.4-.4-.92-.59-1.43-.59-.52 0-1.04.2-1.43.59L10.3 9.45l-7.72 7.72c-.78.78-.78 2.05 0 2.83L4 21.41c.39.39.9.59 1.41.59.51 0 1.02-.2 1.41-.59l7.78-7.78 2.81-2.81c.8-.78.8-2.07 0-2.86zM5.41 20L4 18.59l7.72-7.72 1.47 1.35L5.41 20z\"/>\n",
              "  </svg>\n",
              "      </button>\n",
              "      \n",
              "  <style>\n",
              "    .colab-df-container {\n",
              "      display:flex;\n",
              "      flex-wrap:wrap;\n",
              "      gap: 12px;\n",
              "    }\n",
              "\n",
              "    .colab-df-convert {\n",
              "      background-color: #E8F0FE;\n",
              "      border: none;\n",
              "      border-radius: 50%;\n",
              "      cursor: pointer;\n",
              "      display: none;\n",
              "      fill: #1967D2;\n",
              "      height: 32px;\n",
              "      padding: 0 0 0 0;\n",
              "      width: 32px;\n",
              "    }\n",
              "\n",
              "    .colab-df-convert:hover {\n",
              "      background-color: #E2EBFA;\n",
              "      box-shadow: 0px 1px 2px rgba(60, 64, 67, 0.3), 0px 1px 3px 1px rgba(60, 64, 67, 0.15);\n",
              "      fill: #174EA6;\n",
              "    }\n",
              "\n",
              "    [theme=dark] .colab-df-convert {\n",
              "      background-color: #3B4455;\n",
              "      fill: #D2E3FC;\n",
              "    }\n",
              "\n",
              "    [theme=dark] .colab-df-convert:hover {\n",
              "      background-color: #434B5C;\n",
              "      box-shadow: 0px 1px 3px 1px rgba(0, 0, 0, 0.15);\n",
              "      filter: drop-shadow(0px 1px 2px rgba(0, 0, 0, 0.3));\n",
              "      fill: #FFFFFF;\n",
              "    }\n",
              "  </style>\n",
              "\n",
              "      <script>\n",
              "        const buttonEl =\n",
              "          document.querySelector('#df-014af450-f1bd-482a-8051-df33f61af9ea button.colab-df-convert');\n",
              "        buttonEl.style.display =\n",
              "          google.colab.kernel.accessAllowed ? 'block' : 'none';\n",
              "\n",
              "        async function convertToInteractive(key) {\n",
              "          const element = document.querySelector('#df-014af450-f1bd-482a-8051-df33f61af9ea');\n",
              "          const dataTable =\n",
              "            await google.colab.kernel.invokeFunction('convertToInteractive',\n",
              "                                                     [key], {});\n",
              "          if (!dataTable) return;\n",
              "\n",
              "          const docLinkHtml = 'Like what you see? Visit the ' +\n",
              "            '<a target=\"_blank\" href=https://colab.research.google.com/notebooks/data_table.ipynb>data table notebook</a>'\n",
              "            + ' to learn more about interactive tables.';\n",
              "          element.innerHTML = '';\n",
              "          dataTable['output_type'] = 'display_data';\n",
              "          await google.colab.output.renderOutput(dataTable, element);\n",
              "          const docLink = document.createElement('div');\n",
              "          docLink.innerHTML = docLinkHtml;\n",
              "          element.appendChild(docLink);\n",
              "        }\n",
              "      </script>\n",
              "    </div>\n",
              "  </div>\n",
              "  "
            ]
          },
          "metadata": {}
        }
      ],
      "source": [
        "df = pd.DataFrame()\n",
        "airbnb_df = airbnb_df.dropna(subset=['bedrooms'])\n",
        "airbnb_df = airbnb_df.dropna(subset=['bathrooms_text'])\n",
        "airbnb_df = airbnb_df.dropna(subset=['review_scores_rating'])\n",
        "airbnb_df = airbnb_df.dropna(subset=['reviews_per_month'])\n",
        "\n",
        "df['name'] = airbnb_df.apply(lambda x: x['name'], axis = 1)\n",
        "df['price'] = airbnb_df.apply(lambda x: x['price'],axis = 1)\n",
        "df['neighbourhood'] = airbnb_df.apply(lambda x: x['neighbourhood_cleansed'], axis = 1)\n",
        "df['type'] = airbnb_df.apply(lambda x: x['property_type'], axis = 1)\n",
        "df['bedrooms'] = airbnb_df.apply(lambda x: x['bedrooms'], axis = 1)  \n",
        "df['bathrooms'] = airbnb_df.apply(lambda x: x['bathrooms_text'], axis = 1)\n",
        "df['scores'] = airbnb_df.apply(lambda x: x['review_scores_rating'], axis = 1)\n",
        "df['monthly_review'] = airbnb_df.apply(lambda x: x['reviews_per_month'], axis = 1)\n",
        "display(df)"
      ]
    },
    {
      "cell_type": "code",
      "execution_count": 31,
      "metadata": {
        "colab": {
          "base_uri": "https://localhost:8080/"
        },
        "id": "LsqET6k8-Fbw",
        "outputId": "c7e61e03-be5c-4a91-b9a8-273220f44e73"
      },
      "outputs": [
        {
          "output_type": "stream",
          "name": "stdout",
          "text": [
            "0        469.0\n",
            "1        101.0\n",
            "2        125.0\n",
            "4         37.0\n",
            "6         37.0\n",
            "         ...  \n",
            "16575    229.0\n",
            "16577    166.0\n",
            "16602     61.0\n",
            "16617    186.0\n",
            "16644    122.0\n",
            "Name: price, Length: 11833, dtype: float64\n"
          ]
        }
      ],
      "source": [
        "print(df['price'])"
      ]
    },
    {
      "cell_type": "markdown",
      "metadata": {
        "id": "c5_6gMvDsRDP"
      },
      "source": [
        "# **Discriptive Analysis**"
      ]
    },
    {
      "cell_type": "markdown",
      "metadata": {
        "id": "FlIGFKMCUDvh"
      },
      "source": [
        "The correlation we might need to analyze:\n",
        " \n",
        "1.   frequency (top listing, neighbourhood, roomtype, price ranges, etc.)\n",
        "2.   monthly review\n",
        "4.   scores\n"
      ]
    },
    {
      "cell_type": "markdown",
      "metadata": {
        "id": "MxhSkFGrVJjF"
      },
      "source": [
        "Variables Frequency Distribution Tables"
      ]
    },
    {
      "cell_type": "markdown",
      "metadata": {
        "id": "BT-Un5Gpvm25"
      },
      "source": [
        "What are the top listing hosts in Great Toronto area?"
      ]
    },
    {
      "cell_type": "code",
      "execution_count": 11,
      "metadata": {
        "id": "TG-qOnYZvm25"
      },
      "outputs": [],
      "source": [
        "top_host_init = pd.DataFrame({\n",
        "    'Frequency': airbnb_df['host_id'].value_counts(),\n",
        "    'Percent': airbnb_df['host_id'].value_counts(normalize=True) * 100\n",
        "})\n",
        "#top_host = top_host_init['Frequency'].head(10)"
      ]
    },
    {
      "cell_type": "code",
      "execution_count": 12,
      "metadata": {
        "colab": {
          "base_uri": "https://localhost:8080/",
          "height": 363
        },
        "id": "Djk1RVfRvm26",
        "outputId": "3d6848b1-f5cd-4a10-9539-02b347fb9513"
      },
      "outputs": [
        {
          "output_type": "execute_result",
          "data": {
            "text/plain": [
              "           Frequency   Percent\n",
              "785826            52  0.439449\n",
              "269243315         44  0.371841\n",
              "10202618          40  0.338038\n",
              "846505            37  0.312685\n",
              "135718015         33  0.278881\n",
              "416677873         28  0.236626\n",
              "301014754         28  0.236626\n",
              "460443520         25  0.211274\n",
              "146226441         24  0.202823\n",
              "54422135          23  0.194372"
            ],
            "text/html": [
              "\n",
              "  <div id=\"df-4c93c9fd-d359-4db5-9001-b79f77c71457\">\n",
              "    <div class=\"colab-df-container\">\n",
              "      <div>\n",
              "<style scoped>\n",
              "    .dataframe tbody tr th:only-of-type {\n",
              "        vertical-align: middle;\n",
              "    }\n",
              "\n",
              "    .dataframe tbody tr th {\n",
              "        vertical-align: top;\n",
              "    }\n",
              "\n",
              "    .dataframe thead th {\n",
              "        text-align: right;\n",
              "    }\n",
              "</style>\n",
              "<table border=\"1\" class=\"dataframe\">\n",
              "  <thead>\n",
              "    <tr style=\"text-align: right;\">\n",
              "      <th></th>\n",
              "      <th>Frequency</th>\n",
              "      <th>Percent</th>\n",
              "    </tr>\n",
              "  </thead>\n",
              "  <tbody>\n",
              "    <tr>\n",
              "      <th>785826</th>\n",
              "      <td>52</td>\n",
              "      <td>0.439449</td>\n",
              "    </tr>\n",
              "    <tr>\n",
              "      <th>269243315</th>\n",
              "      <td>44</td>\n",
              "      <td>0.371841</td>\n",
              "    </tr>\n",
              "    <tr>\n",
              "      <th>10202618</th>\n",
              "      <td>40</td>\n",
              "      <td>0.338038</td>\n",
              "    </tr>\n",
              "    <tr>\n",
              "      <th>846505</th>\n",
              "      <td>37</td>\n",
              "      <td>0.312685</td>\n",
              "    </tr>\n",
              "    <tr>\n",
              "      <th>135718015</th>\n",
              "      <td>33</td>\n",
              "      <td>0.278881</td>\n",
              "    </tr>\n",
              "    <tr>\n",
              "      <th>416677873</th>\n",
              "      <td>28</td>\n",
              "      <td>0.236626</td>\n",
              "    </tr>\n",
              "    <tr>\n",
              "      <th>301014754</th>\n",
              "      <td>28</td>\n",
              "      <td>0.236626</td>\n",
              "    </tr>\n",
              "    <tr>\n",
              "      <th>460443520</th>\n",
              "      <td>25</td>\n",
              "      <td>0.211274</td>\n",
              "    </tr>\n",
              "    <tr>\n",
              "      <th>146226441</th>\n",
              "      <td>24</td>\n",
              "      <td>0.202823</td>\n",
              "    </tr>\n",
              "    <tr>\n",
              "      <th>54422135</th>\n",
              "      <td>23</td>\n",
              "      <td>0.194372</td>\n",
              "    </tr>\n",
              "  </tbody>\n",
              "</table>\n",
              "</div>\n",
              "      <button class=\"colab-df-convert\" onclick=\"convertToInteractive('df-4c93c9fd-d359-4db5-9001-b79f77c71457')\"\n",
              "              title=\"Convert this dataframe to an interactive table.\"\n",
              "              style=\"display:none;\">\n",
              "        \n",
              "  <svg xmlns=\"http://www.w3.org/2000/svg\" height=\"24px\"viewBox=\"0 0 24 24\"\n",
              "       width=\"24px\">\n",
              "    <path d=\"M0 0h24v24H0V0z\" fill=\"none\"/>\n",
              "    <path d=\"M18.56 5.44l.94 2.06.94-2.06 2.06-.94-2.06-.94-.94-2.06-.94 2.06-2.06.94zm-11 1L8.5 8.5l.94-2.06 2.06-.94-2.06-.94L8.5 2.5l-.94 2.06-2.06.94zm10 10l.94 2.06.94-2.06 2.06-.94-2.06-.94-.94-2.06-.94 2.06-2.06.94z\"/><path d=\"M17.41 7.96l-1.37-1.37c-.4-.4-.92-.59-1.43-.59-.52 0-1.04.2-1.43.59L10.3 9.45l-7.72 7.72c-.78.78-.78 2.05 0 2.83L4 21.41c.39.39.9.59 1.41.59.51 0 1.02-.2 1.41-.59l7.78-7.78 2.81-2.81c.8-.78.8-2.07 0-2.86zM5.41 20L4 18.59l7.72-7.72 1.47 1.35L5.41 20z\"/>\n",
              "  </svg>\n",
              "      </button>\n",
              "      \n",
              "  <style>\n",
              "    .colab-df-container {\n",
              "      display:flex;\n",
              "      flex-wrap:wrap;\n",
              "      gap: 12px;\n",
              "    }\n",
              "\n",
              "    .colab-df-convert {\n",
              "      background-color: #E8F0FE;\n",
              "      border: none;\n",
              "      border-radius: 50%;\n",
              "      cursor: pointer;\n",
              "      display: none;\n",
              "      fill: #1967D2;\n",
              "      height: 32px;\n",
              "      padding: 0 0 0 0;\n",
              "      width: 32px;\n",
              "    }\n",
              "\n",
              "    .colab-df-convert:hover {\n",
              "      background-color: #E2EBFA;\n",
              "      box-shadow: 0px 1px 2px rgba(60, 64, 67, 0.3), 0px 1px 3px 1px rgba(60, 64, 67, 0.15);\n",
              "      fill: #174EA6;\n",
              "    }\n",
              "\n",
              "    [theme=dark] .colab-df-convert {\n",
              "      background-color: #3B4455;\n",
              "      fill: #D2E3FC;\n",
              "    }\n",
              "\n",
              "    [theme=dark] .colab-df-convert:hover {\n",
              "      background-color: #434B5C;\n",
              "      box-shadow: 0px 1px 3px 1px rgba(0, 0, 0, 0.15);\n",
              "      filter: drop-shadow(0px 1px 2px rgba(0, 0, 0, 0.3));\n",
              "      fill: #FFFFFF;\n",
              "    }\n",
              "  </style>\n",
              "\n",
              "      <script>\n",
              "        const buttonEl =\n",
              "          document.querySelector('#df-4c93c9fd-d359-4db5-9001-b79f77c71457 button.colab-df-convert');\n",
              "        buttonEl.style.display =\n",
              "          google.colab.kernel.accessAllowed ? 'block' : 'none';\n",
              "\n",
              "        async function convertToInteractive(key) {\n",
              "          const element = document.querySelector('#df-4c93c9fd-d359-4db5-9001-b79f77c71457');\n",
              "          const dataTable =\n",
              "            await google.colab.kernel.invokeFunction('convertToInteractive',\n",
              "                                                     [key], {});\n",
              "          if (!dataTable) return;\n",
              "\n",
              "          const docLinkHtml = 'Like what you see? Visit the ' +\n",
              "            '<a target=\"_blank\" href=https://colab.research.google.com/notebooks/data_table.ipynb>data table notebook</a>'\n",
              "            + ' to learn more about interactive tables.';\n",
              "          element.innerHTML = '';\n",
              "          dataTable['output_type'] = 'display_data';\n",
              "          await google.colab.output.renderOutput(dataTable, element);\n",
              "          const docLink = document.createElement('div');\n",
              "          docLink.innerHTML = docLinkHtml;\n",
              "          element.appendChild(docLink);\n",
              "        }\n",
              "      </script>\n",
              "    </div>\n",
              "  </div>\n",
              "  "
            ]
          },
          "metadata": {},
          "execution_count": 12
        }
      ],
      "source": [
        "top_host = top_host_init.head(10)\n",
        "top_host"
      ]
    },
    {
      "cell_type": "code",
      "execution_count": 13,
      "metadata": {
        "colab": {
          "base_uri": "https://localhost:8080/",
          "height": 404
        },
        "id": "oPOu5arAvm26",
        "outputId": "f89c0ea2-ad8a-4870-b97b-5ac7c978ef4b"
      },
      "outputs": [
        {
          "output_type": "display_data",
          "data": {
            "text/plain": [
              "<Figure size 576x432 with 1 Axes>"
            ],
            "image/png": "[encoded data removed]"
          },
          "metadata": {
            "needs_background": "light"
          }
        }
      ],
      "source": [
        "\n",
        "fig0, ax0 = plt.subplots(figsize=(8, 6))\n",
        "sns.set_style(\"whitegrid\")\n",
        "sns.set_style(\"whitegrid\")\n",
        "\n",
        "# plot the bar graph\n",
        "sns.barplot(x='Frequency', y=top_host.index, data=top_host, palette='muted')\n",
        "\n",
        "# set the labels and title\n",
        "ax0.set_xlabel(\"Frequency\")\n",
        "ax0.set_ylabel(\"Top Hostings\")\n",
        "ax0.set_title(\"Frequency Distribution of Top Hostings\")\n",
        "\n",
        "# show the plot\n",
        "plt.show()\n"
      ]
    },
    {
      "cell_type": "markdown",
      "metadata": {
        "id": "GQXop_x-vm26"
      },
      "source": [
        "Let's see what areas are the most popular in Great Toronto area"
      ]
    },
    {
      "cell_type": "code",
      "execution_count": 14,
      "metadata": {
        "colab": {
          "base_uri": "https://localhost:8080/"
        },
        "id": "1ORrZHcFGlk8",
        "outputId": "cf17a427-f837-488b-fb92-74af1d51e1a8"
      },
      "outputs": [
        {
          "output_type": "stream",
          "name": "stdout",
          "text": [
            "                                   Frequency    Percent\n",
            "Kingsway South                             5   0.042255\n",
            "Rustic                                     6   0.050706\n",
            "Edenbridge-Humber Valley                   9   0.076058\n",
            "Morningside                               10   0.084509\n",
            "Elms-Old Rexdale                          11   0.092960\n",
            "...                                      ...        ...\n",
            "Church-Yonge Corridor                    310   2.619792\n",
            "Trinity-Bellwoods                        326   2.755007\n",
            "Annex                                    366   3.093045\n",
            "Niagara                                  463   3.912786\n",
            "Waterfront Communities-The Island       2030  17.155413\n",
            "\n",
            "[140 rows x 2 columns]\n"
          ]
        }
      ],
      "source": [
        "import matplotlib.pyplot as plt\n",
        "freq_location = pd.DataFrame({'Frequency': df['neighbourhood'].value_counts().sort_values(),\n",
        "                              'Percent': df['neighbourhood'].value_counts(normalize=True).sort_values() * 100})\n",
        "\n",
        "print(freq_location)"
      ]
    },
    {
      "cell_type": "code",
      "execution_count": 37,
      "metadata": {
        "colab": {
          "base_uri": "https://localhost:8080/",
          "height": 930
        },
        "id": "67EUoO8YXe0k",
        "outputId": "d1ca476b-6582-4c6b-b4c6-abdad70f344b"
      },
      "outputs": [
        {
          "output_type": "display_data",
          "data": {
            "text/plain": [
              "                                     Frequency    Percent\n",
              "Waterfront Communities-The Island         2030  17.155413\n",
              "Niagara                                    463   3.912786\n",
              "Annex                                      366   3.093045\n",
              "Trinity-Bellwoods                          326   2.755007\n",
              "Church-Yonge Corridor                      310   2.619792\n",
              "Moss Park                                  301   2.543734\n",
              "Kensington-Chinatown                       266   2.247951\n",
              "Dovercourt-Wallace Emerson-Junction        265   2.239500\n",
              "Bay Street Corridor                        259   2.188794\n",
              "South Riverdale                            245   2.070481\n",
              "Little Portugal                            244   2.062030\n",
              "Willowdale East                            236   1.994422\n",
              "Palmerston-Little Italy                    210   1.774698\n",
              "South Parkdale                             169   1.428209\n",
              "Mimico (includes Humber Bay Shores)        151   1.276092"
            ],
            "text/html": [
              "\n",
              "  <div id=\"df-ea924ee7-3df7-43db-9500-521e2d9c7b83\">\n",
              "    <div class=\"colab-df-container\">\n",
              "      <div>\n",
              "<style scoped>\n",
              "    .dataframe tbody tr th:only-of-type {\n",
              "        vertical-align: middle;\n",
              "    }\n",
              "\n",
              "    .dataframe tbody tr th {\n",
              "        vertical-align: top;\n",
              "    }\n",
              "\n",
              "    .dataframe thead th {\n",
              "        text-align: right;\n",
              "    }\n",
              "</style>\n",
              "<table border=\"1\" class=\"dataframe\">\n",
              "  <thead>\n",
              "    <tr style=\"text-align: right;\">\n",
              "      <th></th>\n",
              "      <th>Frequency</th>\n",
              "      <th>Percent</th>\n",
              "    </tr>\n",
              "  </thead>\n",
              "  <tbody>\n",
              "    <tr>\n",
              "      <th>Waterfront Communities-The Island</th>\n",
              "      <td>2030</td>\n",
              "      <td>17.155413</td>\n",
              "    </tr>\n",
              "    <tr>\n",
              "      <th>Niagara</th>\n",
              "      <td>463</td>\n",
              "      <td>3.912786</td>\n",
              "    </tr>\n",
              "    <tr>\n",
              "      <th>Annex</th>\n",
              "      <td>366</td>\n",
              "      <td>3.093045</td>\n",
              "    </tr>\n",
              "    <tr>\n",
              "      <th>Trinity-Bellwoods</th>\n",
              "      <td>326</td>\n",
              "      <td>2.755007</td>\n",
              "    </tr>\n",
              "    <tr>\n",
              "      <th>Church-Yonge Corridor</th>\n",
              "      <td>310</td>\n",
              "      <td>2.619792</td>\n",
              "    </tr>\n",
              "    <tr>\n",
              "      <th>Moss Park</th>\n",
              "      <td>301</td>\n",
              "      <td>2.543734</td>\n",
              "    </tr>\n",
              "    <tr>\n",
              "      <th>Kensington-Chinatown</th>\n",
              "      <td>266</td>\n",
              "      <td>2.247951</td>\n",
              "    </tr>\n",
              "    <tr>\n",
              "      <th>Dovercourt-Wallace Emerson-Junction</th>\n",
              "      <td>265</td>\n",
              "      <td>2.239500</td>\n",
              "    </tr>\n",
              "    <tr>\n",
              "      <th>Bay Street Corridor</th>\n",
              "      <td>259</td>\n",
              "      <td>2.188794</td>\n",
              "    </tr>\n",
              "    <tr>\n",
              "      <th>South Riverdale</th>\n",
              "      <td>245</td>\n",
              "      <td>2.070481</td>\n",
              "    </tr>\n",
              "    <tr>\n",
              "      <th>Little Portugal</th>\n",
              "      <td>244</td>\n",
              "      <td>2.062030</td>\n",
              "    </tr>\n",
              "    <tr>\n",
              "      <th>Willowdale East</th>\n",
              "      <td>236</td>\n",
              "      <td>1.994422</td>\n",
              "    </tr>\n",
              "    <tr>\n",
              "      <th>Palmerston-Little Italy</th>\n",
              "      <td>210</td>\n",
              "      <td>1.774698</td>\n",
              "    </tr>\n",
              "    <tr>\n",
              "      <th>South Parkdale</th>\n",
              "      <td>169</td>\n",
              "      <td>1.428209</td>\n",
              "    </tr>\n",
              "    <tr>\n",
              "      <th>Mimico (includes Humber Bay Shores)</th>\n",
              "      <td>151</td>\n",
              "      <td>1.276092</td>\n",
              "    </tr>\n",
              "  </tbody>\n",
              "</table>\n",
              "</div>\n",
              "      <button class=\"colab-df-convert\" onclick=\"convertToInteractive('df-ea924ee7-3df7-43db-9500-521e2d9c7b83')\"\n",
              "              title=\"Convert this dataframe to an interactive table.\"\n",
              "              style=\"display:none;\">\n",
              "        \n",
              "  <svg xmlns=\"http://www.w3.org/2000/svg\" height=\"24px\"viewBox=\"0 0 24 24\"\n",
              "       width=\"24px\">\n",
              "    <path d=\"M0 0h24v24H0V0z\" fill=\"none\"/>\n",
              "    <path d=\"M18.56 5.44l.94 2.06.94-2.06 2.06-.94-2.06-.94-.94-2.06-.94 2.06-2.06.94zm-11 1L8.5 8.5l.94-2.06 2.06-.94-2.06-.94L8.5 2.5l-.94 2.06-2.06.94zm10 10l.94 2.06.94-2.06 2.06-.94-2.06-.94-.94-2.06-.94 2.06-2.06.94z\"/><path d=\"M17.41 7.96l-1.37-1.37c-.4-.4-.92-.59-1.43-.59-.52 0-1.04.2-1.43.59L10.3 9.45l-7.72 7.72c-.78.78-.78 2.05 0 2.83L4 21.41c.39.39.9.59 1.41.59.51 0 1.02-.2 1.41-.59l7.78-7.78 2.81-2.81c.8-.78.8-2.07 0-2.86zM5.41 20L4 18.59l7.72-7.72 1.47 1.35L5.41 20z\"/>\n",
              "  </svg>\n",
              "      </button>\n",
              "      \n",
              "  <style>\n",
              "    .colab-df-container {\n",
              "      display:flex;\n",
              "      flex-wrap:wrap;\n",
              "      gap: 12px;\n",
              "    }\n",
              "\n",
              "    .colab-df-convert {\n",
              "      background-color: #E8F0FE;\n",
              "      border: none;\n",
              "      border-radius: 50%;\n",
              "      cursor: pointer;\n",
              "      display: none;\n",
              "      fill: #1967D2;\n",
              "      height: 32px;\n",
              "      padding: 0 0 0 0;\n",
              "      width: 32px;\n",
              "    }\n",
              "\n",
              "    .colab-df-convert:hover {\n",
              "      background-color: #E2EBFA;\n",
              "      box-shadow: 0px 1px 2px rgba(60, 64, 67, 0.3), 0px 1px 3px 1px rgba(60, 64, 67, 0.15);\n",
              "      fill: #174EA6;\n",
              "    }\n",
              "\n",
              "    [theme=dark] .colab-df-convert {\n",
              "      background-color: #3B4455;\n",
              "      fill: #D2E3FC;\n",
              "    }\n",
              "\n",
              "    [theme=dark] .colab-df-convert:hover {\n",
              "      background-color: #434B5C;\n",
              "      box-shadow: 0px 1px 3px 1px rgba(0, 0, 0, 0.15);\n",
              "      filter: drop-shadow(0px 1px 2px rgba(0, 0, 0, 0.3));\n",
              "      fill: #FFFFFF;\n",
              "    }\n",
              "  </style>\n",
              "\n",
              "      <script>\n",
              "        const buttonEl =\n",
              "          document.querySelector('#df-ea924ee7-3df7-43db-9500-521e2d9c7b83 button.colab-df-convert');\n",
              "        buttonEl.style.display =\n",
              "          google.colab.kernel.accessAllowed ? 'block' : 'none';\n",
              "\n",
              "        async function convertToInteractive(key) {\n",
              "          const element = document.querySelector('#df-ea924ee7-3df7-43db-9500-521e2d9c7b83');\n",
              "          const dataTable =\n",
              "            await google.colab.kernel.invokeFunction('convertToInteractive',\n",
              "                                                     [key], {});\n",
              "          if (!dataTable) return;\n",
              "\n",
              "          const docLinkHtml = 'Like what you see? Visit the ' +\n",
              "            '<a target=\"_blank\" href=https://colab.research.google.com/notebooks/data_table.ipynb>data table notebook</a>'\n",
              "            + ' to learn more about interactive tables.';\n",
              "          element.innerHTML = '';\n",
              "          dataTable['output_type'] = 'display_data';\n",
              "          await google.colab.output.renderOutput(dataTable, element);\n",
              "          const docLink = document.createElement('div');\n",
              "          docLink.innerHTML = docLinkHtml;\n",
              "          element.appendChild(docLink);\n",
              "        }\n",
              "      </script>\n",
              "    </div>\n",
              "  </div>\n",
              "  "
            ]
          },
          "metadata": {}
        },
        {
          "output_type": "display_data",
          "data": {
            "text/plain": [
              "<Figure size 432x288 with 1 Axes>"
            ],
            "image/png": "[encoded data removed]"
          },
          "metadata": {}
        }
      ],
      "source": [
        "# sort freq_location in descending order by Frequency and select top 15 values\n",
        "freq_location_sorted = freq_location.sort_values('Frequency', ascending=False)[:15]\n",
        "display(freq_location_sorted)\n",
        "#plot the frequency distribution\n",
        "fig, ax = plt.subplots()\n",
        "\n",
        "ax.bar(freq_location_sorted.index, freq_location_sorted['Frequency'], width=0.8, align='center')\n",
        "ax.set_xlabel('Neighbourhood Group')\n",
        "ax.set_ylabel('Frequency')\n",
        "# adjust the positions of the x-axis labels\n",
        "plt.xticks(rotation=45, ha='right')\n",
        "\n",
        "ax.set_title('Frequency Distribution of Neighbourhood Groups')\n",
        "plt.show()"
      ]
    },
    {
      "cell_type": "code",
      "source": [
        "display(df['neighbourhood'])"
      ],
      "metadata": {
        "colab": {
          "base_uri": "https://localhost:8080/",
          "height": 231
        },
        "id": "2hVYoXqP1KG3",
        "outputId": "92fe6334-7c87-4375-ba46-31faa85cd44d"
      },
      "execution_count": 40,
      "outputs": [
        {
          "output_type": "display_data",
          "data": {
            "text/plain": [
              "0                          Little Portugal\n",
              "1        Waterfront Communities-The Island\n",
              "2        Waterfront Communities-The Island\n",
              "4                        Woodbine Corridor\n",
              "6                        Woodbine Corridor\n",
              "                       ...                \n",
              "16575    Waterfront Communities-The Island\n",
              "16577    Waterfront Communities-The Island\n",
              "16602        Kingsview Village-The Westway\n",
              "16617                     Lansing-Westgate\n",
              "16644                      High Park North\n",
              "Name: neighbourhood, Length: 11833, dtype: object"
            ]
          },
          "metadata": {}
        }
      ]
    },
    {
      "cell_type": "markdown",
      "metadata": {
        "id": "_VetZ5mcvm27"
      },
      "source": [
        "What kind of room type is more popular than others?"
      ]
    },
    {
      "cell_type": "code",
      "execution_count": 16,
      "metadata": {
        "colab": {
          "base_uri": "https://localhost:8080/"
        },
        "id": "HwWIXqLoq69x",
        "outputId": "5b5e9731-cbef-4300-dd46-0462c7a52c92"
      },
      "outputs": [
        {
          "output_type": "stream",
          "name": "stdout",
          "text": [
            "                 Frequency    Percent\n",
            "Hotel room               3   0.025353\n",
            "Shared room             84   0.709879\n",
            "Private room          3855  32.578382\n",
            "Entire home/apt       7891  66.686386\n"
          ]
        }
      ],
      "source": [
        "freq_type = pd.DataFrame({\n",
        "    'Frequency': airbnb_df['room_type'].value_counts(),\n",
        "    'Percent': airbnb_df['room_type'].value_counts(normalize=True) * 100\n",
        "})\n",
        "\n",
        "# sort by frequency in ascending order\n",
        "freq_type = freq_type.sort_values('Frequency')\n",
        "\n",
        "# display the result\n",
        "print(freq_type)"
      ]
    },
    {
      "cell_type": "code",
      "execution_count": 17,
      "metadata": {
        "colab": {
          "base_uri": "https://localhost:8080/",
          "height": 295
        },
        "id": "ZKkVW3cdrEzZ",
        "outputId": "a074c484-0913-44bd-bcd9-93f62b93afad"
      },
      "outputs": [
        {
          "output_type": "display_data",
          "data": {
            "text/plain": [
              "<Figure size 432x288 with 1 Axes>"
            ],
            "image/png": "[encoded data removed]"
          },
          "metadata": {}
        }
      ],
      "source": [
        "# sort frequency of room types in descending order by Frequency and select top 3 values\n",
        "freq_type_sorted = freq_type.sort_values('Frequency', ascending=False)[:3]\n",
        "\n",
        "#plot the frequency histogram distribution\n",
        "fig1, ax1 = plt.subplots()\n",
        "\n",
        "ax1.bar(freq_type_sorted.index, freq_type_sorted['Frequency'], width=0.8, align='center')\n",
        "ax1.set_xlabel('Rooms type')\n",
        "ax1.set_ylabel('Frequency')\n",
        "\n",
        "ax1.set_title('Frequency Distribution of Room Types')\n",
        "plt.show()"
      ]
    },
    {
      "cell_type": "code",
      "execution_count": 18,
      "metadata": {
        "colab": {
          "base_uri": "https://localhost:8080/",
          "height": 404
        },
        "id": "phuz3v7fvm28",
        "outputId": "1e0400b2-1748-4a86-fd14-1498477725ca"
      },
      "outputs": [
        {
          "output_type": "display_data",
          "data": {
            "text/plain": [
              "<Figure size 576x432 with 1 Axes>"
            ],
            "image/png": "[encoded data removed]"
          },
          "metadata": {}
        }
      ],
      "source": [
        "# create bar plot\n",
        "fig1_1, ax1_1 = plt.subplots(figsize=(8, 6))\n",
        "sns.set_style(\"whitegrid\")\n",
        "sns.set_style(\"whitegrid\")\n",
        "\n",
        "# plot the bar graph\n",
        "sns.barplot(x='Frequency', y=freq_type_sorted.index, data=freq_type_sorted, palette='muted')\n",
        "\n",
        "# set the labels and title\n",
        "ax1_1.set_xlabel(\"Frequency\")\n",
        "ax1_1.set_ylabel(\"Rooms Type\")\n",
        "ax1_1.set_title(\"Frequency Distribution of Room Types\")\n",
        "\n",
        "# show the plot\n",
        "plt.show()\n"
      ]
    },
    {
      "cell_type": "markdown",
      "metadata": {
        "id": "OiWUyz6Svm29"
      },
      "source": [
        "We also should know what are the acceptable price for customers."
      ]
    },
    {
      "cell_type": "code",
      "execution_count": 29,
      "metadata": {
        "colab": {
          "base_uri": "https://localhost:8080/"
        },
        "id": "x3fLrM8L-u6f",
        "outputId": "f2205bf2-ab0f-4005-9ef7-a62207182501"
      },
      "outputs": [
        {
          "output_type": "stream",
          "name": "stdout",
          "text": [
            "float64\n",
            "0        469.0\n",
            "1        101.0\n",
            "2        125.0\n",
            "4         37.0\n",
            "6         37.0\n",
            "         ...  \n",
            "11805      NaN\n",
            "11806      NaN\n",
            "11810      NaN\n",
            "11817      NaN\n",
            "11822      NaN\n",
            "Name: price, Length: 14395, dtype: float64\n"
          ]
        },
        {
          "output_type": "stream",
          "name": "stderr",
          "text": [
            "<ipython-input-29-ef471ccecb45>:5: FutureWarning: The default value of regex will change from True to False in a future version. In addition, single character regular expressions will *not* be treated as literal strings when regex=True.\n",
            "  airbnb_df['price'] = airbnb_df['price'].str.replace('$', '')\n"
          ]
        }
      ],
      "source": [
        "#change the type of price\n",
        "print(airbnb_df['price'].dtype)\n",
        "\n",
        "airbnb_df['price'] = airbnb_df['price'].astype(str)\n",
        "airbnb_df['price'] = airbnb_df['price'].str.replace('$', '')\n",
        "airbnb_df['price'] = airbnb_df['price'].str.replace(',', '')\n",
        "\n",
        "airbnb_df['price'] = airbnb_df['price'].astype(float)\n",
        "print(airbnb_df['price'])"
      ]
    },
    {
      "cell_type": "code",
      "execution_count": 20,
      "metadata": {
        "colab": {
          "base_uri": "https://localhost:8080/",
          "height": 520
        },
        "id": "4V1ecI9M0mKO",
        "outputId": "ac999665-f462-412c-b408-4ea78386e0f6"
      },
      "outputs": [
        {
          "output_type": "display_data",
          "data": {
            "text/plain": [
              "          Frequency    Percent\n",
              "50-100         3570  30.507606\n",
              "100-150        2564  21.910784\n",
              "150-200        1653  14.125790\n",
              "0-50           1096   9.365920\n",
              "200-250         985   8.417365\n",
              "250-300         622   5.315331\n",
              "300-350         377   3.221672\n",
              "350-400         246   2.102205\n",
              "400-450         147   1.256196\n",
              "500-600         133   1.136558\n",
              "450-500         114   0.974192\n",
              "600-700          82   0.700735\n",
              "700-800          50   0.427277\n",
              "800-900          37   0.316185\n",
              "900-1000         26   0.222184"
            ],
            "text/html": [
              "\n",
              "  <div id=\"df-a59ca3af-e8b8-4094-a1fc-dab3be33ccf8\">\n",
              "    <div class=\"colab-df-container\">\n",
              "      <div>\n",
              "<style scoped>\n",
              "    .dataframe tbody tr th:only-of-type {\n",
              "        vertical-align: middle;\n",
              "    }\n",
              "\n",
              "    .dataframe tbody tr th {\n",
              "        vertical-align: top;\n",
              "    }\n",
              "\n",
              "    .dataframe thead th {\n",
              "        text-align: right;\n",
              "    }\n",
              "</style>\n",
              "<table border=\"1\" class=\"dataframe\">\n",
              "  <thead>\n",
              "    <tr style=\"text-align: right;\">\n",
              "      <th></th>\n",
              "      <th>Frequency</th>\n",
              "      <th>Percent</th>\n",
              "    </tr>\n",
              "  </thead>\n",
              "  <tbody>\n",
              "    <tr>\n",
              "      <th>50-100</th>\n",
              "      <td>3570</td>\n",
              "      <td>30.507606</td>\n",
              "    </tr>\n",
              "    <tr>\n",
              "      <th>100-150</th>\n",
              "      <td>2564</td>\n",
              "      <td>21.910784</td>\n",
              "    </tr>\n",
              "    <tr>\n",
              "      <th>150-200</th>\n",
              "      <td>1653</td>\n",
              "      <td>14.125790</td>\n",
              "    </tr>\n",
              "    <tr>\n",
              "      <th>0-50</th>\n",
              "      <td>1096</td>\n",
              "      <td>9.365920</td>\n",
              "    </tr>\n",
              "    <tr>\n",
              "      <th>200-250</th>\n",
              "      <td>985</td>\n",
              "      <td>8.417365</td>\n",
              "    </tr>\n",
              "    <tr>\n",
              "      <th>250-300</th>\n",
              "      <td>622</td>\n",
              "      <td>5.315331</td>\n",
              "    </tr>\n",
              "    <tr>\n",
              "      <th>300-350</th>\n",
              "      <td>377</td>\n",
              "      <td>3.221672</td>\n",
              "    </tr>\n",
              "    <tr>\n",
              "      <th>350-400</th>\n",
              "      <td>246</td>\n",
              "      <td>2.102205</td>\n",
              "    </tr>\n",
              "    <tr>\n",
              "      <th>400-450</th>\n",
              "      <td>147</td>\n",
              "      <td>1.256196</td>\n",
              "    </tr>\n",
              "    <tr>\n",
              "      <th>500-600</th>\n",
              "      <td>133</td>\n",
              "      <td>1.136558</td>\n",
              "    </tr>\n",
              "    <tr>\n",
              "      <th>450-500</th>\n",
              "      <td>114</td>\n",
              "      <td>0.974192</td>\n",
              "    </tr>\n",
              "    <tr>\n",
              "      <th>600-700</th>\n",
              "      <td>82</td>\n",
              "      <td>0.700735</td>\n",
              "    </tr>\n",
              "    <tr>\n",
              "      <th>700-800</th>\n",
              "      <td>50</td>\n",
              "      <td>0.427277</td>\n",
              "    </tr>\n",
              "    <tr>\n",
              "      <th>800-900</th>\n",
              "      <td>37</td>\n",
              "      <td>0.316185</td>\n",
              "    </tr>\n",
              "    <tr>\n",
              "      <th>900-1000</th>\n",
              "      <td>26</td>\n",
              "      <td>0.222184</td>\n",
              "    </tr>\n",
              "  </tbody>\n",
              "</table>\n",
              "</div>\n",
              "      <button class=\"colab-df-convert\" onclick=\"convertToInteractive('df-a59ca3af-e8b8-4094-a1fc-dab3be33ccf8')\"\n",
              "              title=\"Convert this dataframe to an interactive table.\"\n",
              "              style=\"display:none;\">\n",
              "        \n",
              "  <svg xmlns=\"http://www.w3.org/2000/svg\" height=\"24px\"viewBox=\"0 0 24 24\"\n",
              "       width=\"24px\">\n",
              "    <path d=\"M0 0h24v24H0V0z\" fill=\"none\"/>\n",
              "    <path d=\"M18.56 5.44l.94 2.06.94-2.06 2.06-.94-2.06-.94-.94-2.06-.94 2.06-2.06.94zm-11 1L8.5 8.5l.94-2.06 2.06-.94-2.06-.94L8.5 2.5l-.94 2.06-2.06.94zm10 10l.94 2.06.94-2.06 2.06-.94-2.06-.94-.94-2.06-.94 2.06-2.06.94z\"/><path d=\"M17.41 7.96l-1.37-1.37c-.4-.4-.92-.59-1.43-.59-.52 0-1.04.2-1.43.59L10.3 9.45l-7.72 7.72c-.78.78-.78 2.05 0 2.83L4 21.41c.39.39.9.59 1.41.59.51 0 1.02-.2 1.41-.59l7.78-7.78 2.81-2.81c.8-.78.8-2.07 0-2.86zM5.41 20L4 18.59l7.72-7.72 1.47 1.35L5.41 20z\"/>\n",
              "  </svg>\n",
              "      </button>\n",
              "      \n",
              "  <style>\n",
              "    .colab-df-container {\n",
              "      display:flex;\n",
              "      flex-wrap:wrap;\n",
              "      gap: 12px;\n",
              "    }\n",
              "\n",
              "    .colab-df-convert {\n",
              "      background-color: #E8F0FE;\n",
              "      border: none;\n",
              "      border-radius: 50%;\n",
              "      cursor: pointer;\n",
              "      display: none;\n",
              "      fill: #1967D2;\n",
              "      height: 32px;\n",
              "      padding: 0 0 0 0;\n",
              "      width: 32px;\n",
              "    }\n",
              "\n",
              "    .colab-df-convert:hover {\n",
              "      background-color: #E2EBFA;\n",
              "      box-shadow: 0px 1px 2px rgba(60, 64, 67, 0.3), 0px 1px 3px 1px rgba(60, 64, 67, 0.15);\n",
              "      fill: #174EA6;\n",
              "    }\n",
              "\n",
              "    [theme=dark] .colab-df-convert {\n",
              "      background-color: #3B4455;\n",
              "      fill: #D2E3FC;\n",
              "    }\n",
              "\n",
              "    [theme=dark] .colab-df-convert:hover {\n",
              "      background-color: #434B5C;\n",
              "      box-shadow: 0px 1px 3px 1px rgba(0, 0, 0, 0.15);\n",
              "      filter: drop-shadow(0px 1px 2px rgba(0, 0, 0, 0.3));\n",
              "      fill: #FFFFFF;\n",
              "    }\n",
              "  </style>\n",
              "\n",
              "      <script>\n",
              "        const buttonEl =\n",
              "          document.querySelector('#df-a59ca3af-e8b8-4094-a1fc-dab3be33ccf8 button.colab-df-convert');\n",
              "        buttonEl.style.display =\n",
              "          google.colab.kernel.accessAllowed ? 'block' : 'none';\n",
              "\n",
              "        async function convertToInteractive(key) {\n",
              "          const element = document.querySelector('#df-a59ca3af-e8b8-4094-a1fc-dab3be33ccf8');\n",
              "          const dataTable =\n",
              "            await google.colab.kernel.invokeFunction('convertToInteractive',\n",
              "                                                     [key], {});\n",
              "          if (!dataTable) return;\n",
              "\n",
              "          const docLinkHtml = 'Like what you see? Visit the ' +\n",
              "            '<a target=\"_blank\" href=https://colab.research.google.com/notebooks/data_table.ipynb>data table notebook</a>'\n",
              "            + ' to learn more about interactive tables.';\n",
              "          element.innerHTML = '';\n",
              "          dataTable['output_type'] = 'display_data';\n",
              "          await google.colab.output.renderOutput(dataTable, element);\n",
              "          const docLink = document.createElement('div');\n",
              "          docLink.innerHTML = docLinkHtml;\n",
              "          element.appendChild(docLink);\n",
              "        }\n",
              "      </script>\n",
              "    </div>\n",
              "  </div>\n",
              "  "
            ]
          },
          "metadata": {}
        }
      ],
      "source": [
        "bin_edges = [0, 50, 100, 150, 200, 250, 300, 350, 400, 450, 500, 600, 700, 800, 900, 1000]\n",
        "bin_labels = ['0-50', '50-100', '100-150', '150-200', '200-250', '250-300', '300-350', '350-400', '400-450', '450-500', '500-600', '600-700', '700-800', '800-900', '900-1000']\n",
        "\n",
        "# Create a new column for price bin\n",
        "airbnb_df['price_bin'] = pd.Series(dtype='object')\n",
        "\n",
        "# Iterate through each price value and assign the appropriate bin label\n",
        "for i, price in enumerate(airbnb_df['price']):\n",
        "    for j, bin_edge in enumerate(bin_edges[:-1]):\n",
        "        if price >= bin_edge and price < bin_edges[j+1]:\n",
        "            airbnb_df.loc[i, 'price_bin'] = bin_labels[j]\n",
        "            break\n",
        "\n",
        "freq_price = pd.DataFrame({\n",
        "    'Frequency': airbnb_df['price_bin'].value_counts(),\n",
        "    'Percent': airbnb_df['price_bin'].value_counts(normalize=True) * 100\n",
        "})\n",
        "\n",
        "# sort by frequency in ascending order\n",
        "freq_type = freq_price.sort_values('Frequency')\n",
        "# Check the frequency distribution of price bins\n",
        "display(freq_price)\n"
      ]
    },
    {
      "cell_type": "code",
      "execution_count": 21,
      "metadata": {
        "colab": {
          "base_uri": "https://localhost:8080/",
          "height": 326
        },
        "id": "2ciueBnUBKoL",
        "outputId": "56e57582-1d8f-40a5-f223-6e6769157acb"
      },
      "outputs": [
        {
          "output_type": "display_data",
          "data": {
            "text/plain": [
              "<Figure size 432x288 with 1 Axes>"
            ],
            "image/png": "[encoded data removed]"
          },
          "metadata": {}
        }
      ],
      "source": [
        "# sort frequency of price frequency in descending order by Frequency and select top 15 values\n",
        "freq_price_sorted = freq_price.sort_values('Frequency', ascending=False)[:15]\n",
        "\n",
        "#plot the frequency histogram distribution\n",
        "fig2, ax2 = plt.subplots()\n",
        "\n",
        "ax2.bar(freq_price_sorted.index, freq_price_sorted['Frequency'], width=0.5, align='center')\n",
        "ax2.set_xlabel('Price Ranges')\n",
        "ax2.set_ylabel('Frequency')\n",
        "plt.xticks(rotation=45, ha='right')\n",
        "ax2.set_title('Frequency Distribution of Price')\n",
        "plt.show()"
      ]
    },
    {
      "cell_type": "code",
      "execution_count": 22,
      "metadata": {
        "colab": {
          "base_uri": "https://localhost:8080/",
          "height": 404
        },
        "id": "u12cDwRjvm2-",
        "outputId": "01fc3cff-4b0a-42f3-9f0c-79eddd82be65"
      },
      "outputs": [
        {
          "output_type": "display_data",
          "data": {
            "text/plain": [
              "<Figure size 576x432 with 1 Axes>"
            ],
            "image/png": "[encoded data removed]"
          },
          "metadata": {}
        }
      ],
      "source": [
        "#create bar plot\n",
        "fig2_1, ax2_1 = plt.subplots(figsize=(8, 6))\n",
        "sns.set_style(\"whitegrid\")\n",
        "sns.set_style(\"whitegrid\")\n",
        "\n",
        "# plot the bar graph\n",
        "sns.barplot(x='Frequency', y=freq_price_sorted.index, data=freq_price_sorted, palette='muted')\n",
        "\n",
        "# set the labels and title\n",
        "ax2_1.set_xlabel(\"Frequency\")\n",
        "ax2_1.set_ylabel(\"Rooms Type\")\n",
        "ax2_1.set_title(\"Frequency Distribution of Room Types\")\n",
        "\n",
        "# show the plot\n",
        "plt.show()\n"
      ]
    },
    {
      "cell_type": "markdown",
      "source": [
        "What is the distribution of prices in different regions?"
      ],
      "metadata": {
        "id": "Jr5E61t9wkjR"
      }
    },
    {
      "cell_type": "code",
      "execution_count": 50,
      "metadata": {
        "colab": {
          "base_uri": "https://localhost:8080/",
          "height": 1000
        },
        "id": "nAMxwYHkvm2-",
        "outputId": "ff2764d8-a8d0-471a-9aed-a44ab33f96d8"
      },
      "outputs": [
        {
          "output_type": "display_data",
          "data": {
            "text/plain": [
              "[       price\n",
              " 1      101.0\n",
              " 2      125.0\n",
              " 9      300.0\n",
              " 10     135.0\n",
              " 36     130.0\n",
              " ...      ...\n",
              " 16514  271.0\n",
              " 16527  203.0\n",
              " 16528  216.0\n",
              " 16575  229.0\n",
              " 16577  166.0\n",
              " \n",
              " [2030 rows x 1 columns],        price\n",
              " 35      55.0\n",
              " 38      45.0\n",
              " 42      45.0\n",
              " 44      50.0\n",
              " 55     249.0\n",
              " ...      ...\n",
              " 15975  178.0\n",
              " 16087  239.0\n",
              " 16120  185.0\n",
              " 16223  211.0\n",
              " 16330  180.0\n",
              " \n",
              " [463 rows x 1 columns],        price\n",
              " 62     125.0\n",
              " 96     210.0\n",
              " 98      75.0\n",
              " 111     70.0\n",
              " 179     88.0\n",
              " ...      ...\n",
              " 15653  125.0\n",
              " 15868  113.0\n",
              " 15983  549.0\n",
              " 16112  279.0\n",
              " 16272  239.0\n",
              " \n",
              " [366 rows x 1 columns],        price\n",
              " 103     59.0\n",
              " 170    300.0\n",
              " 182    144.0\n",
              " 238    121.0\n",
              " 243    449.0\n",
              " ...      ...\n",
              " 15837  110.0\n",
              " 15894   72.0\n",
              " 15896   64.0\n",
              " 16070   73.0\n",
              " 16334  120.0\n",
              " \n",
              " [326 rows x 1 columns],        price\n",
              " 32     140.0\n",
              " 46     140.0\n",
              " 48     178.0\n",
              " 70      95.0\n",
              " 76     219.0\n",
              " ...      ...\n",
              " 15149  856.0\n",
              " 15312  125.0\n",
              " 15364  275.0\n",
              " 15973  325.0\n",
              " 16277  123.0\n",
              " \n",
              " [310 rows x 1 columns]]"
            ]
          },
          "metadata": {}
        }
      ],
      "source": [
        "#let's find out more about our neiberhoods presented 'Waterfront Communities-The Island', 'Niagara', 'Annex', 'Trinity-Bellwoods', and 'Church-Yonge Corridor'\n",
        "\n",
        "# display(airbnb_df['price'])\n",
        "# display(airbnb_df['neighbourhood_cleansed'])\n",
        "\n",
        "#Waterfront Communities-The Island\n",
        "\n",
        "sub_1=airbnb_df.loc[airbnb_df['neighbourhood_cleansed'] == 'Waterfront Communities-The Island']\n",
        "price_sub1=sub_1[['price']]\n",
        "\n",
        "#Niagara\n",
        "sub_2=airbnb_df.loc[airbnb_df['neighbourhood_cleansed'] == 'Niagara']\n",
        "price_sub2=sub_2[['price']]\n",
        "\n",
        "#Annex\n",
        "sub_3=airbnb_df.loc[airbnb_df['neighbourhood_cleansed'] == 'Annex']\n",
        "price_sub3=sub_3[['price']]\n",
        "\n",
        "#Trinity-Bellwoods\n",
        "sub_4=airbnb_df.loc[airbnb_df['neighbourhood_cleansed'] == 'Trinity-Bellwoods']\n",
        "price_sub4=sub_4[['price']]\n",
        "\n",
        "#Church-Yonge Corridor\n",
        "sub_5=airbnb_df.loc[airbnb_df['neighbourhood_cleansed'] == 'Church-Yonge Corridor']\n",
        "price_sub5=sub_5[['price']]\n",
        "\n",
        "#putting all the prices' dfs in the list\n",
        "price_list_by_n=[price_sub1, price_sub2, price_sub3, price_sub4, price_sub5]\n",
        "\n",
        "display(price_list_by_n)"
      ]
    },
    {
      "cell_type": "code",
      "source": [
        "import pandas as pd\n",
        "import matplotlib.pyplot as plt\n",
        "\n",
        "# create a list of region names and their corresponding neighbourhoods\n",
        "regions = {'Waterfront Communities-The Island': ['Waterfront Communities-The Island'],\n",
        "           'Niagara': ['Niagara'],\n",
        "           'Annex': ['Annex'],\n",
        "           'Trinity-Bellwoods': ['Trinity-Bellwoods'],\n",
        "           'Church-Yonge Corridor': ['Church-Yonge Corridor']}\n",
        "\n",
        "# loop over the regions and calculate price frequencies\n",
        "for region in regions.keys():\n",
        "    # filter price data by neighbourhoods\n",
        "    price_data = airbnb_df.loc[airbnb_df['neighbourhood_cleansed'] == region, ['price']]\n",
        "    \n",
        "    # match the prices with the corresponding region\n",
        "    region_prices = []\n",
        "    for price in price_data['price']:\n",
        "        region_prices.append((region, price))\n",
        "    sorted_prices = sorted(region_prices, key=lambda x: x[1])\n",
        "    \n",
        "    # plot histogram of price frequencies\n",
        "    fig, ax = plt.subplots()\n",
        "    ax.hist([p[1] for p in sorted_prices], bins=20, range=(0, 1000), edgecolor='black', linewidth=1.2)\n",
        "    ax.set_title(region)\n",
        "    ax.set_xlabel('Price ($)')\n",
        "    ax.set_ylabel('Frequency')\n",
        "    plt.show()\n"
      ],
      "metadata": {
        "colab": {
          "base_uri": "https://localhost:8080/",
          "height": 1000
        },
        "id": "uzZC-zav7nAR",
        "outputId": "a4b6c10e-d896-4c16-fedd-78637616f706"
      },
      "execution_count": 67,
      "outputs": [
        {
          "output_type": "display_data",
          "data": {
            "text/plain": [
              "<Figure size 432x288 with 1 Axes>"
            ],
            "image/png": "[encoded data removed]"
          },
          "metadata": {}
        },
        {
          "output_type": "display_data",
          "data": {
            "text/plain": [
              "<Figure size 432x288 with 1 Axes>"
            ],
            "image/png": "[encoded data removed]"
          },
          "metadata": {}
        },
        {
          "output_type": "display_data",
          "data": {
            "text/plain": [
              "<Figure size 432x288 with 1 Axes>"
            ],
            "image/png": "[encoded data removed]"
          },
          "metadata": {}
        },
        {
          "output_type": "display_data",
          "data": {
            "text/plain": [
              "<Figure size 432x288 with 1 Axes>"
            ],
            "image/png": "[encoded data removed]"
          },
          "metadata": {}
        },
        {
          "output_type": "display_data",
          "data": {
            "text/plain": [
              "<Figure size 432x288 with 1 Axes>"
            ],
            "image/png": "[encoded data removed]"
          },
          "metadata": {}
        }
      ]
    }
  ],
  "metadata": {
    "colab": {
      "provenance": []
    },
    "kernelspec": {
      "display_name": "Python 3",
      "language": "python",
      "name": "python3"
    },
    "language_info": {
      "codemirror_mode": {
        "name": "ipython",
        "version": 3
      },
      "file_extension": ".py",
      "mimetype": "text/x-python",
      "name": "python",
      "nbconvert_exporter": "python",
      "pygments_lexer": "ipython3",
      "version": "3.7.3"
    },
    "vscode": {
      "interpreter": {
        "hash": "31f2aee4e71d21fbe5cf8b01ff0e069b9275f58929596ceb00d14d90e3e16cd6"
      }
    }
  },
  "nbformat": 4,
  "nbformat_minor": 0
}