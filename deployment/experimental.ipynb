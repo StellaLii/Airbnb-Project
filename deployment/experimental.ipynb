{
 "cells": [
  {
   "cell_type": "markdown",
   "id": "54a8c5d3-4639-4e40-aebb-2afc449dbe46",
   "metadata": {},
   "source": [
    "### Deployment experimental notebook"
   ]
  },
  {
   "cell_type": "markdown",
   "id": "fcfe023d-4194-4852-b709-77329c627e67",
   "metadata": {},
   "source": [
    "model 1\n",
    "\n",
    "latitude,property_type,room_type,accommodates,bedrooms,beds,bbq,tv,white_goods,bathrooms_type,bathrooms_number,bus_radius,within_radius,average_nearest_price,longitude\n",
    "\n",
    "[49.2836,5,0,2,1.0,1.0,0.0,1.0,1.0,2,1.0,0,1,776000.0,-123.13254]\n",
    "\n",
    "model 2\n",
    "\n",
    "latitude,property_type,room_type,accommodates,bedrooms,beds,bbq,tv,white_goods,bathrooms_type,bathrooms_number,bus_radius,within_radius,average_nearest_price,longitude,nearest_airbnb_price_8\n",
    "\n",
    "[49.22696,10,2,1,1.0,1.0,0.0,0.0,1.0,1,1.0,1,0,1989820.0,-123.16006,67.6]"
   ]
  },
  {
   "cell_type": "markdown",
   "id": "6187c597-6e4c-46bc-88bd-0a8a5ec1c696",
   "metadata": {},
   "source": [
    "Model 1\n",
    "\n",
    "host_total_listings_count,high_end_electronics,bed_linen,coffee_machine,cooking_basics,child_friendly,parking,outdoor_space,internet,bus_radius,within_radius,average_nearest_price,longitude,latitude,price\n",
    "\n",
    "2,0.0,1.0,1.0,1.0,0.0,1.0,1.0,1.0,1,1,723200.0,-123.0694956,49.2796307,119.0\n",
    "\n",
    "Model 2\n",
    "\n",
    "host_total_listings_count,high_end_electronics,bed_linen,coffee_machine,cooking_basics,child_friendly,parking,outdoor_space,internet,bus_radius,within_radius,average_nearest_price,longitude,latitude,price,nearest_airbnb_review_8\n",
    "\n",
    "6,0.0,1.0,0.0,1.0,0.0,1.0,0.0,1.0,1,0,963600.0,-123.10189,49.24008,61.0,4.454"
   ]
  },
  {
   "cell_type": "code",
   "execution_count": 1,
   "id": "6f516631-e2a6-48e1-8553-37c9068b3c4f",
   "metadata": {},
   "outputs": [],
   "source": [
    "# import pickle\n",
    "# # save the model to disk\n",
    "# filename = 'rf01.sav'\n",
    "# pickle.dump(rf, open(filename, 'wb'))\n",
    "\n",
    "# import pickle\n",
    "# # save the model to disk\n",
    "# filename = 'rf02.sav'\n",
    "# pickle.dump(rf_2, open(filename, 'wb'))"
   ]
  },
  {
   "cell_type": "code",
   "execution_count": 2,
   "id": "92dba4c6-2c32-4ea0-9db5-c9e81ad1b8d0",
   "metadata": {},
   "outputs": [],
   "source": [
    "import pandas as pd\n",
    "from haversine import haversine, Unit\n",
    "import rtree.index\n",
    "import numpy as np\n",
    "\n",
    "df_train_x = pd.read_csv('preprocessed_X_train.csv', sep=',')\n",
    "df_train_y = pd.read_csv('preprocessed_y_train.csv', sep=',')\n",
    "\n",
    "df_train = pd.concat([df_train_x, df_train_y], axis=1)\n"
   ]
  },
  {
   "cell_type": "code",
   "execution_count": 11,
   "id": "e06006ab-757f-4c91-bcf0-2888bed045e6",
   "metadata": {},
   "outputs": [],
   "source": [
    "def feature_extrapolation_warning(array):\n",
    "    if len(array) != 4:\n",
    "        return\n",
    "    var = ['accommodates', 'bedrooms', 'beds', 'bathrooms_number']\n",
    "    inputs = {k: v for k, v in zip(var, array)}\n",
    "    quantile = {k: v for k, v in zip(var, array)}\n",
    "    # print(inputs)\n",
    "    for i in var:\n",
    "        quantile[i] = len(df_train[df_train[i] < inputs[i]]) / 3685\n",
    "    \n",
    "    warning_message = 'Extrapolation Warning: \\nBy comparing with other Airbnb Vancouver listings, the listing you input may have the following aspects that may be a bit unusual. \\n'\n",
    "    warning_flag = False\n",
    "    for i in var:\n",
    "        if quantile[i] > 0.8 or inputs[i] <= 0:\n",
    "            warning_flag = True\n",
    "            warning_message += str('Your ' + i +  ' has a quantile of ' + str(quantile[i]*100) + '%\\n')\n",
    "    if not warning_flag:\n",
    "        return False, ''\n",
    "    else:\n",
    "        return True, warning_message"
   ]
  },
  {
   "cell_type": "code",
   "execution_count": 13,
   "id": "b2634df9-e3b2-4873-acb5-b9e194e80d9e",
   "metadata": {},
   "outputs": [
    {
     "name": "stdout",
     "output_type": "stream",
     "text": [
      "True Extrapolation Warning: \n",
      "By comparing with other Airbnb Vancouver listings, the listing you input may have the following aspects that may be a bit unusual. \n",
      "Your beds has a quantile of 0.0%\n",
      "\n"
     ]
    }
   ],
   "source": [
    "response,a = feature_extrapolation_warning([1,1,0,1])\n",
    "print(response,a)\n"
   ]
  },
  {
   "cell_type": "code",
   "execution_count": 6,
   "id": "db7b3fb3-2a69-41f8-a4ab-38b108a0ebaf",
   "metadata": {},
   "outputs": [],
   "source": [
    "def price_prediction_warning(price):       \n",
    "    price_q = len(df_train[df_train['price'] < price]) / 3685\n",
    "    \n",
    "    if price >= 395 or price < 59.4:\n",
    "        warning_message = 'Prediction Confidence Warning: \\nBy comparing with existing Airbnb Vancouver listings price, this prediction may not be supported by sufficient available data. \\n'\n",
    "        # warning_message += str('This prediciton has a quantile of ' + str(price_q*100) + '%')\n",
    "        return [True, warning_message]\n",
    "    else:\n",
    "        return [False, \"\"]"
   ]
  },
  {
   "cell_type": "code",
   "execution_count": 7,
   "id": "524c54aa-cc49-4e00-ad69-546708a06833",
   "metadata": {},
   "outputs": [
    {
     "name": "stdout",
     "output_type": "stream",
     "text": [
      "False\n",
      "--------\n",
      "No Extrapolation Warning\n"
     ]
    }
   ],
   "source": [
    "response = price_prediction_warning(350)\n",
    "print(response[0])\n",
    "print('--------')\n",
    "print(response[1])"
   ]
  },
  {
   "cell_type": "code",
   "execution_count": null,
   "id": "f1e6b987-bc7d-4ac3-ab03-67ea524be7f2",
   "metadata": {},
   "outputs": [],
   "source": []
  }
 ],
 "metadata": {
  "kernelspec": {
   "display_name": "Python 3 (ipykernel)",
   "language": "python",
   "name": "python3"
  },
  "language_info": {
   "codemirror_mode": {
    "name": "ipython",
    "version": 3
   },
   "file_extension": ".py",
   "mimetype": "text/x-python",
   "name": "python",
   "nbconvert_exporter": "python",
   "pygments_lexer": "ipython3",
   "version": "3.10.7"
  }
 },
 "nbformat": 4,
 "nbformat_minor": 5
}
