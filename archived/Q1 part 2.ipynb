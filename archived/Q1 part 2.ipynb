{
 "cells": [
  {
   "cell_type": "markdown",
   "id": "a117a388-5a05-475d-bbe9-bbaca7370c8c",
   "metadata": {},
   "source": [
    "## CMPT 733 Project\n",
    "\n",
    "## Insights for New Airbnb Hosts: A Data-Driven Analysis of Toronto's Airbnb Dataset\n"
   ]
  },
  {
   "cell_type": "markdown",
   "id": "7b3e6a77-cc2c-4fd6-969a-f095b996916c",
   "metadata": {},
   "source": [
    "\n",
    "### Q1 - Part2 Contents:\n",
    "\n",
    "#### 1. Are there any Airbnb renters who are always writing bad reviews? (done)\n",
    " - Use detailed review data to do sentiment analysis\n",
    "\n",
    "#### 2. Optional: Comparison of the ratio of favorable/unfavorable reviews in different regions\n",
    " - Can also add time series comparisons if it makes sense\n",
    "\n",
    "#### 3. Optional: The growth rate of airbnb host in the last 4 quarters?\n",
    "\n",
    "#### 4. The language usage distribution of airbnb users? (done)"
   ]
  },
  {
   "cell_type": "markdown",
   "id": "10f131be-8c31-4ab8-9f17-ec8f0e0749cf",
   "metadata": {
    "tags": []
   },
   "source": [
    "### 1. Are there any Airbnb renters who are always writing bad reviews?"
   ]
  },
  {
   "cell_type": "code",
   "execution_count": 1,
   "id": "33c35d6d-872a-4914-8bb0-738071d4991c",
   "metadata": {},
   "outputs": [],
   "source": [
    "import numpy as np \n",
    "import pandas as pd \n",
    "import re\n",
    "import nltk\n",
    "import matplotlib.pyplot as plt"
   ]
  },
  {
   "cell_type": "code",
   "execution_count": 2,
   "id": "f5f65832-5c0d-4826-b398-47f6b1626cdf",
   "metadata": {},
   "outputs": [],
   "source": [
    "data = pd.read_csv(\"reviews.csv\")"
   ]
  },
  {
   "cell_type": "code",
   "execution_count": 3,
   "id": "d1776270-aa71-42d9-b1fc-01a09cec10f0",
   "metadata": {},
   "outputs": [
    {
     "data": {
      "text/html": [
       "<div>\n",
       "<style scoped>\n",
       "    .dataframe tbody tr th:only-of-type {\n",
       "        vertical-align: middle;\n",
       "    }\n",
       "\n",
       "    .dataframe tbody tr th {\n",
       "        vertical-align: top;\n",
       "    }\n",
       "\n",
       "    .dataframe thead th {\n",
       "        text-align: right;\n",
       "    }\n",
       "</style>\n",
       "<table border=\"1\" class=\"dataframe\">\n",
       "  <thead>\n",
       "    <tr style=\"text-align: right;\">\n",
       "      <th></th>\n",
       "      <th>listing_id</th>\n",
       "      <th>id</th>\n",
       "      <th>date</th>\n",
       "      <th>reviewer_id</th>\n",
       "      <th>reviewer_name</th>\n",
       "      <th>comments</th>\n",
       "    </tr>\n",
       "  </thead>\n",
       "  <tbody>\n",
       "    <tr>\n",
       "      <th>0</th>\n",
       "      <td>1419</td>\n",
       "      <td>38924112</td>\n",
       "      <td>2015-07-19</td>\n",
       "      <td>11308465</td>\n",
       "      <td>Marcela</td>\n",
       "      <td>Having the opportunity of arriving to Alexandr...</td>\n",
       "    </tr>\n",
       "    <tr>\n",
       "      <th>1</th>\n",
       "      <td>1419</td>\n",
       "      <td>44791978</td>\n",
       "      <td>2015-08-29</td>\n",
       "      <td>9580285</td>\n",
       "      <td>Marco</td>\n",
       "      <td>We have no enough words to describe how beauty...</td>\n",
       "    </tr>\n",
       "    <tr>\n",
       "      <th>2</th>\n",
       "      <td>1419</td>\n",
       "      <td>45957133</td>\n",
       "      <td>2015-09-07</td>\n",
       "      <td>38394721</td>\n",
       "      <td>Andrea</td>\n",
       "      <td>The listing was exceptional and an even better...</td>\n",
       "    </tr>\n",
       "    <tr>\n",
       "      <th>3</th>\n",
       "      <td>1419</td>\n",
       "      <td>67295154</td>\n",
       "      <td>2016-03-28</td>\n",
       "      <td>3515044</td>\n",
       "      <td>Shaun</td>\n",
       "      <td>Alexandra's home was amazing and in such a nea...</td>\n",
       "    </tr>\n",
       "    <tr>\n",
       "      <th>4</th>\n",
       "      <td>1419</td>\n",
       "      <td>177702208</td>\n",
       "      <td>2017-08-03</td>\n",
       "      <td>13987100</td>\n",
       "      <td>Kate</td>\n",
       "      <td>Beautiful home. Very comfortable and clean. Pe...</td>\n",
       "    </tr>\n",
       "    <tr>\n",
       "      <th>...</th>\n",
       "      <td>...</td>\n",
       "      <td>...</td>\n",
       "      <td>...</td>\n",
       "      <td>...</td>\n",
       "      <td>...</td>\n",
       "      <td>...</td>\n",
       "    </tr>\n",
       "    <tr>\n",
       "      <th>437480</th>\n",
       "      <td>771238681088338261</td>\n",
       "      <td>773203762350484464</td>\n",
       "      <td>2022-12-02</td>\n",
       "      <td>27229658</td>\n",
       "      <td>Terence</td>\n",
       "      <td>Host was friendly and helpful, and the home wa...</td>\n",
       "    </tr>\n",
       "    <tr>\n",
       "      <th>437481</th>\n",
       "      <td>771238681088338261</td>\n",
       "      <td>773907378565075525</td>\n",
       "      <td>2022-12-03</td>\n",
       "      <td>484701591</td>\n",
       "      <td>Patricia</td>\n",
       "      <td>Salah was super kind and the Airbnb was super ...</td>\n",
       "    </tr>\n",
       "    <tr>\n",
       "      <th>437482</th>\n",
       "      <td>771972180097258127</td>\n",
       "      <td>774696372128153092</td>\n",
       "      <td>2022-12-04</td>\n",
       "      <td>19571570</td>\n",
       "      <td>Diana</td>\n",
       "      <td>Great and comfortable place to stay. Very prof...</td>\n",
       "    </tr>\n",
       "    <tr>\n",
       "      <th>437483</th>\n",
       "      <td>773766003078139118</td>\n",
       "      <td>776062367597891985</td>\n",
       "      <td>2022-12-06</td>\n",
       "      <td>142989071</td>\n",
       "      <td>Edilberto</td>\n",
       "      <td>Nice and clean place</td>\n",
       "    </tr>\n",
       "    <tr>\n",
       "      <th>437484</th>\n",
       "      <td>773864065161029009</td>\n",
       "      <td>776103940520683365</td>\n",
       "      <td>2022-12-06</td>\n",
       "      <td>135755978</td>\n",
       "      <td>Kasra</td>\n",
       "      <td>I booked this unit for a work stay in Toronto,...</td>\n",
       "    </tr>\n",
       "  </tbody>\n",
       "</table>\n",
       "<p>437485 rows × 6 columns</p>\n",
       "</div>"
      ],
      "text/plain": [
       "                listing_id                  id        date  reviewer_id  \\\n",
       "0                     1419            38924112  2015-07-19     11308465   \n",
       "1                     1419            44791978  2015-08-29      9580285   \n",
       "2                     1419            45957133  2015-09-07     38394721   \n",
       "3                     1419            67295154  2016-03-28      3515044   \n",
       "4                     1419           177702208  2017-08-03     13987100   \n",
       "...                    ...                 ...         ...          ...   \n",
       "437480  771238681088338261  773203762350484464  2022-12-02     27229658   \n",
       "437481  771238681088338261  773907378565075525  2022-12-03    484701591   \n",
       "437482  771972180097258127  774696372128153092  2022-12-04     19571570   \n",
       "437483  773766003078139118  776062367597891985  2022-12-06    142989071   \n",
       "437484  773864065161029009  776103940520683365  2022-12-06    135755978   \n",
       "\n",
       "       reviewer_name                                           comments  \n",
       "0            Marcela  Having the opportunity of arriving to Alexandr...  \n",
       "1              Marco  We have no enough words to describe how beauty...  \n",
       "2             Andrea  The listing was exceptional and an even better...  \n",
       "3              Shaun  Alexandra's home was amazing and in such a nea...  \n",
       "4               Kate  Beautiful home. Very comfortable and clean. Pe...  \n",
       "...              ...                                                ...  \n",
       "437480       Terence  Host was friendly and helpful, and the home wa...  \n",
       "437481      Patricia  Salah was super kind and the Airbnb was super ...  \n",
       "437482         Diana  Great and comfortable place to stay. Very prof...  \n",
       "437483     Edilberto                               Nice and clean place  \n",
       "437484         Kasra  I booked this unit for a work stay in Toronto,...  \n",
       "\n",
       "[437485 rows x 6 columns]"
      ]
     },
     "execution_count": 3,
     "metadata": {},
     "output_type": "execute_result"
    }
   ],
   "source": [
    "data"
   ]
  },
  {
   "cell_type": "code",
   "execution_count": 4,
   "id": "fd6e1e9e-6c52-46c5-a255-fc2b4f649293",
   "metadata": {},
   "outputs": [
    {
     "data": {
      "text/plain": [
       "437485"
      ]
     },
     "execution_count": 4,
     "metadata": {},
     "output_type": "execute_result"
    }
   ],
   "source": [
    "len(data.id.unique())"
   ]
  },
  {
   "cell_type": "markdown",
   "id": "f50cf553-bae1-4db7-9639-64d8fcc4509f",
   "metadata": {},
   "source": [
    "column 'id' uniquely identifies each review record"
   ]
  },
  {
   "cell_type": "code",
   "execution_count": 5,
   "id": "084d8071-de91-4a93-8ecb-50af7d8b2c6d",
   "metadata": {},
   "outputs": [
    {
     "data": {
      "text/plain": [
       "listing_id        0\n",
       "id                0\n",
       "date              0\n",
       "reviewer_id       0\n",
       "reviewer_name     0\n",
       "comments         46\n",
       "dtype: int64"
      ]
     },
     "execution_count": 5,
     "metadata": {},
     "output_type": "execute_result"
    }
   ],
   "source": [
    "data.isnull().sum()"
   ]
  },
  {
   "cell_type": "code",
   "execution_count": 6,
   "id": "a6767e9f-6e35-4d1d-a8a1-507a93e66f75",
   "metadata": {},
   "outputs": [],
   "source": [
    "data = data.dropna()"
   ]
  },
  {
   "cell_type": "markdown",
   "id": "6dd506b7-d816-4262-b153-5b309b110aed",
   "metadata": {},
   "source": [
    "46 row consist of empty review is dropped"
   ]
  },
  {
   "cell_type": "markdown",
   "id": "336b66d9-2182-4030-8dd7-abed498b3627",
   "metadata": {},
   "source": [
    "using 3 examples to adjust process function"
   ]
  },
  {
   "cell_type": "code",
   "execution_count": 7,
   "id": "b420b80e-db62-4610-9343-a0cd5043bc81",
   "metadata": {},
   "outputs": [
    {
     "data": {
      "text/plain": [
       "\"I had a wonderful time at Julie's home, felt welcome from the first day and she and her husband are very lovely and warm hosts! Julie was easy contactable, even if not in person, always get a quick responds texting her. Felt always safe in the neighborhood and the access to downtown by streetcar was direct and 24/7! The best is the beach close by..beautiful..for running, walking or just enjoying the sun. My room was always warm, very cozy with a huge closet :) and I had my privacy during the whole stay. A quiet and peaceful home to relax after a long day.\\r<br/>Would chose Julies home again, when I have to stay for a longer period of time, summer there must be amazing!\\r<br/>Thanks Julie :)\""
      ]
     },
     "execution_count": 7,
     "metadata": {},
     "output_type": "execute_result"
    }
   ],
   "source": [
    "data.comments[11]"
   ]
  },
  {
   "cell_type": "code",
   "execution_count": 8,
   "id": "22a89591-3025-4c78-808b-3b810bb2ce6e",
   "metadata": {},
   "outputs": [
    {
     "data": {
      "text/plain": [
       "'\\r<br/>The view of the CN tower is just as the website shows. Kathie +  Larry are welcoming + love to talk about life +  art etc You must check out the felt Gnomes Kathie makes. Board walk along lakeside is worth trying Close to everything Apartment faciliies all first class very comfortable'"
      ]
     },
     "execution_count": 8,
     "metadata": {},
     "output_type": "execute_result"
    }
   ],
   "source": [
    "data.comments[19]"
   ]
  },
  {
   "cell_type": "code",
   "execution_count": 9,
   "id": "97fdfcca-1769-4be2-8cde-b90f051c97c8",
   "metadata": {},
   "outputs": [
    {
     "data": {
      "text/plain": [
       "'This rental is about as perfect as you can get! The decor, comfort, location, and hospitality are all fantastic. Being right on the park- and within a beautiful courtyard on the owners’ property- is so unique and enhances the stay so much!<br/>The hosts are so friendly and helpful—-kind and warm during the entire stay. This location is right in the Trinity Bellwoods Park, with a recreation center [that guests can use] fifty feet away and there are tennis courts, a playground, and so much more within the park’s grounds. In addition, this location is literally one block from Queen Street West, named one of the 15 coolest neighborhoods in the world! It lives up to its reputation, with shops, restaurants, bars, music venues, and more on every street for several blocks (which then leads to even more great things for several more blocks!). Toronto is a huge city, but this location exposes you to a great neighborhood area, with smaller side streets, really cool classic Victorian-type homes and row houses, and quaint markets and shops...and even a brewery about  three blocks away (Bellwoods Brewery on Ossington- so cool and great brews)!<br/>This cottage has every convenience that you would need and the range, refrigerator, cookware, utensils, and tableware in the kitchen were great features. The bed and pull-out sofa (one where the bottom/leg rest of the couch pulls out to expand its size) were both very comfortable and the living area is very nice, with a television, books, and nice little touches like a deck of playing cards. The hidden gem (not shown in the listing’s pictures) is the gorgeous shower, with two shower heads and a corner bench seat- so contemporary and a great way to start and/or finish your day.<br/>This Airbnb is an incredible value and provides an optimal location in a world-class city.....we highly recommend it!!!!'"
      ]
     },
     "execution_count": 9,
     "metadata": {},
     "output_type": "execute_result"
    }
   ],
   "source": [
    "data.comments[43250]"
   ]
  },
  {
   "cell_type": "code",
   "execution_count": 10,
   "id": "772ab200-21f3-4660-bc40-4f4a828e1b53",
   "metadata": {},
   "outputs": [],
   "source": [
    "def process(text):\n",
    "    # remove html tags\n",
    "    cleaned_text = re.sub('<.*?>', '', text)\n",
    "    \n",
    "    # Remove special characters except for letters, numbers, and single spaces\n",
    "    cleaned_text = re.sub('[^a-zA-Z0-9 \\'-.,!()]', '', cleaned_text) \n",
    "    \n",
    "    # Replace double spaces with a single space\n",
    "    cleaned_text = re.sub('  +', ' ', cleaned_text)\n",
    "    \n",
    "    # Remove any leading or trailing spaces from the processed text\n",
    "    cleaned_text = cleaned_text.strip()\n",
    "    \n",
    "    return cleaned_text"
   ]
  },
  {
   "cell_type": "code",
   "execution_count": 11,
   "id": "1af7c01d-6727-4305-a402-7f242471f946",
   "metadata": {},
   "outputs": [
    {
     "data": {
      "text/plain": [
       "\"I had a wonderful time at Julie's home, felt welcome from the first day and she and her husband are very lovely and warm hosts! Julie was easy contactable, even if not in person, always get a quick responds texting her. Felt always safe in the neighborhood and the access to downtown by streetcar was direct and 247! The best is the beach close by..beautiful..for running, walking or just enjoying the sun. My room was always warm, very cozy with a huge closet ) and I had my privacy during the whole stay. A quiet and peaceful home to relax after a long day.Would chose Julies home again, when I have to stay for a longer period of time, summer there must be amazing!Thanks Julie )\""
      ]
     },
     "execution_count": 11,
     "metadata": {},
     "output_type": "execute_result"
    }
   ],
   "source": [
    "process(data.comments[11])"
   ]
  },
  {
   "cell_type": "code",
   "execution_count": 12,
   "id": "fb86853e-5a0e-4163-8d20-15bb1f7e74d3",
   "metadata": {},
   "outputs": [
    {
     "data": {
      "text/plain": [
       "'The view of the CN tower is just as the website shows. Kathie + Larry are welcoming + love to talk about life + art etc You must check out the felt Gnomes Kathie makes. Board walk along lakeside is worth trying Close to everything Apartment faciliies all first class very comfortable'"
      ]
     },
     "execution_count": 12,
     "metadata": {},
     "output_type": "execute_result"
    }
   ],
   "source": [
    "process(data.comments[19])"
   ]
  },
  {
   "cell_type": "code",
   "execution_count": 13,
   "id": "2b57a6b2-166e-49f2-8a91-02e33cef7cd4",
   "metadata": {},
   "outputs": [
    {
     "data": {
      "text/plain": [
       "'This rental is about as perfect as you can get! The decor, comfort, location, and hospitality are all fantastic. Being right on the park- and within a beautiful courtyard on the owners property- is so unique and enhances the stay so much!The hosts are so friendly and helpful-kind and warm during the entire stay. This location is right in the Trinity Bellwoods Park, with a recreation center that guests can use fifty feet away and there are tennis courts, a playground, and so much more within the parks grounds. In addition, this location is literally one block from Queen Street West, named one of the 15 coolest neighborhoods in the world! It lives up to its reputation, with shops, restaurants, bars, music venues, and more on every street for several blocks (which then leads to even more great things for several more blocks!). Toronto is a huge city, but this location exposes you to a great neighborhood area, with smaller side streets, really cool classic Victorian-type homes and row houses, and quaint markets and shops...and even a brewery about three blocks away (Bellwoods Brewery on Ossington- so cool and great brews)!This cottage has every convenience that you would need and the range, refrigerator, cookware, utensils, and tableware in the kitchen were great features. The bed and pull-out sofa (one where the bottomleg rest of the couch pulls out to expand its size) were both very comfortable and the living area is very nice, with a television, books, and nice little touches like a deck of playing cards. The hidden gem (not shown in the listings pictures) is the gorgeous shower, with two shower heads and a corner bench seat- so contemporary and a great way to start andor finish your day.This Airbnb is an incredible value and provides an optimal location in a world-class city.....we highly recommend it!!!!'"
      ]
     },
     "execution_count": 13,
     "metadata": {},
     "output_type": "execute_result"
    }
   ],
   "source": [
    "process(data.comments[43250])"
   ]
  },
  {
   "cell_type": "markdown",
   "id": "98b70a7e-5cf6-4d5b-b2e6-dd7048cf40c9",
   "metadata": {},
   "source": [
    "apply process function in comments column"
   ]
  },
  {
   "cell_type": "code",
   "execution_count": 14,
   "id": "77dbd343-9279-40f3-84ef-f6c517e1ffdf",
   "metadata": {},
   "outputs": [
    {
     "name": "stderr",
     "output_type": "stream",
     "text": [
      "C:\\Users\\kewei\\AppData\\Local\\Temp\\ipykernel_26672\\2705096159.py:1: SettingWithCopyWarning: \n",
      "A value is trying to be set on a copy of a slice from a DataFrame.\n",
      "Try using .loc[row_indexer,col_indexer] = value instead\n",
      "\n",
      "See the caveats in the documentation: https://pandas.pydata.org/pandas-docs/stable/user_guide/indexing.html#returning-a-view-versus-a-copy\n",
      "  data['cleaned_comments'] = data['comments'].apply(lambda text: process(text))\n"
     ]
    }
   ],
   "source": [
    "data['cleaned_comments'] = data['comments'].apply(lambda text: process(text))"
   ]
  },
  {
   "cell_type": "code",
   "execution_count": 15,
   "id": "c5fbb51b-a16a-49e5-89c2-71cd3a677ffa",
   "metadata": {},
   "outputs": [
    {
     "data": {
      "text/html": [
       "<div>\n",
       "<style scoped>\n",
       "    .dataframe tbody tr th:only-of-type {\n",
       "        vertical-align: middle;\n",
       "    }\n",
       "\n",
       "    .dataframe tbody tr th {\n",
       "        vertical-align: top;\n",
       "    }\n",
       "\n",
       "    .dataframe thead th {\n",
       "        text-align: right;\n",
       "    }\n",
       "</style>\n",
       "<table border=\"1\" class=\"dataframe\">\n",
       "  <thead>\n",
       "    <tr style=\"text-align: right;\">\n",
       "      <th></th>\n",
       "      <th>listing_id</th>\n",
       "      <th>id</th>\n",
       "      <th>date</th>\n",
       "      <th>reviewer_id</th>\n",
       "      <th>reviewer_name</th>\n",
       "      <th>comments</th>\n",
       "      <th>cleaned_comments</th>\n",
       "    </tr>\n",
       "  </thead>\n",
       "  <tbody>\n",
       "    <tr>\n",
       "      <th>0</th>\n",
       "      <td>1419</td>\n",
       "      <td>38924112</td>\n",
       "      <td>2015-07-19</td>\n",
       "      <td>11308465</td>\n",
       "      <td>Marcela</td>\n",
       "      <td>Having the opportunity of arriving to Alexandr...</td>\n",
       "      <td>Having the opportunity of arriving to Alexandr...</td>\n",
       "    </tr>\n",
       "    <tr>\n",
       "      <th>1</th>\n",
       "      <td>1419</td>\n",
       "      <td>44791978</td>\n",
       "      <td>2015-08-29</td>\n",
       "      <td>9580285</td>\n",
       "      <td>Marco</td>\n",
       "      <td>We have no enough words to describe how beauty...</td>\n",
       "      <td>We have no enough words to describe how beauty...</td>\n",
       "    </tr>\n",
       "    <tr>\n",
       "      <th>2</th>\n",
       "      <td>1419</td>\n",
       "      <td>45957133</td>\n",
       "      <td>2015-09-07</td>\n",
       "      <td>38394721</td>\n",
       "      <td>Andrea</td>\n",
       "      <td>The listing was exceptional and an even better...</td>\n",
       "      <td>The listing was exceptional and an even better...</td>\n",
       "    </tr>\n",
       "    <tr>\n",
       "      <th>3</th>\n",
       "      <td>1419</td>\n",
       "      <td>67295154</td>\n",
       "      <td>2016-03-28</td>\n",
       "      <td>3515044</td>\n",
       "      <td>Shaun</td>\n",
       "      <td>Alexandra's home was amazing and in such a nea...</td>\n",
       "      <td>Alexandra's home was amazing and in such a nea...</td>\n",
       "    </tr>\n",
       "    <tr>\n",
       "      <th>4</th>\n",
       "      <td>1419</td>\n",
       "      <td>177702208</td>\n",
       "      <td>2017-08-03</td>\n",
       "      <td>13987100</td>\n",
       "      <td>Kate</td>\n",
       "      <td>Beautiful home. Very comfortable and clean. Pe...</td>\n",
       "      <td>Beautiful home. Very comfortable and clean. Pe...</td>\n",
       "    </tr>\n",
       "    <tr>\n",
       "      <th>...</th>\n",
       "      <td>...</td>\n",
       "      <td>...</td>\n",
       "      <td>...</td>\n",
       "      <td>...</td>\n",
       "      <td>...</td>\n",
       "      <td>...</td>\n",
       "      <td>...</td>\n",
       "    </tr>\n",
       "    <tr>\n",
       "      <th>437480</th>\n",
       "      <td>771238681088338261</td>\n",
       "      <td>773203762350484464</td>\n",
       "      <td>2022-12-02</td>\n",
       "      <td>27229658</td>\n",
       "      <td>Terence</td>\n",
       "      <td>Host was friendly and helpful, and the home wa...</td>\n",
       "      <td>Host was friendly and helpful, and the home wa...</td>\n",
       "    </tr>\n",
       "    <tr>\n",
       "      <th>437481</th>\n",
       "      <td>771238681088338261</td>\n",
       "      <td>773907378565075525</td>\n",
       "      <td>2022-12-03</td>\n",
       "      <td>484701591</td>\n",
       "      <td>Patricia</td>\n",
       "      <td>Salah was super kind and the Airbnb was super ...</td>\n",
       "      <td>Salah was super kind and the Airbnb was super ...</td>\n",
       "    </tr>\n",
       "    <tr>\n",
       "      <th>437482</th>\n",
       "      <td>771972180097258127</td>\n",
       "      <td>774696372128153092</td>\n",
       "      <td>2022-12-04</td>\n",
       "      <td>19571570</td>\n",
       "      <td>Diana</td>\n",
       "      <td>Great and comfortable place to stay. Very prof...</td>\n",
       "      <td>Great and comfortable place to stay. Very prof...</td>\n",
       "    </tr>\n",
       "    <tr>\n",
       "      <th>437483</th>\n",
       "      <td>773766003078139118</td>\n",
       "      <td>776062367597891985</td>\n",
       "      <td>2022-12-06</td>\n",
       "      <td>142989071</td>\n",
       "      <td>Edilberto</td>\n",
       "      <td>Nice and clean place</td>\n",
       "      <td>Nice and clean place</td>\n",
       "    </tr>\n",
       "    <tr>\n",
       "      <th>437484</th>\n",
       "      <td>773864065161029009</td>\n",
       "      <td>776103940520683365</td>\n",
       "      <td>2022-12-06</td>\n",
       "      <td>135755978</td>\n",
       "      <td>Kasra</td>\n",
       "      <td>I booked this unit for a work stay in Toronto,...</td>\n",
       "      <td>I booked this unit for a work stay in Toronto,...</td>\n",
       "    </tr>\n",
       "  </tbody>\n",
       "</table>\n",
       "<p>437439 rows × 7 columns</p>\n",
       "</div>"
      ],
      "text/plain": [
       "                listing_id                  id        date  reviewer_id  \\\n",
       "0                     1419            38924112  2015-07-19     11308465   \n",
       "1                     1419            44791978  2015-08-29      9580285   \n",
       "2                     1419            45957133  2015-09-07     38394721   \n",
       "3                     1419            67295154  2016-03-28      3515044   \n",
       "4                     1419           177702208  2017-08-03     13987100   \n",
       "...                    ...                 ...         ...          ...   \n",
       "437480  771238681088338261  773203762350484464  2022-12-02     27229658   \n",
       "437481  771238681088338261  773907378565075525  2022-12-03    484701591   \n",
       "437482  771972180097258127  774696372128153092  2022-12-04     19571570   \n",
       "437483  773766003078139118  776062367597891985  2022-12-06    142989071   \n",
       "437484  773864065161029009  776103940520683365  2022-12-06    135755978   \n",
       "\n",
       "       reviewer_name                                           comments  \\\n",
       "0            Marcela  Having the opportunity of arriving to Alexandr...   \n",
       "1              Marco  We have no enough words to describe how beauty...   \n",
       "2             Andrea  The listing was exceptional and an even better...   \n",
       "3              Shaun  Alexandra's home was amazing and in such a nea...   \n",
       "4               Kate  Beautiful home. Very comfortable and clean. Pe...   \n",
       "...              ...                                                ...   \n",
       "437480       Terence  Host was friendly and helpful, and the home wa...   \n",
       "437481      Patricia  Salah was super kind and the Airbnb was super ...   \n",
       "437482         Diana  Great and comfortable place to stay. Very prof...   \n",
       "437483     Edilberto                               Nice and clean place   \n",
       "437484         Kasra  I booked this unit for a work stay in Toronto,...   \n",
       "\n",
       "                                         cleaned_comments  \n",
       "0       Having the opportunity of arriving to Alexandr...  \n",
       "1       We have no enough words to describe how beauty...  \n",
       "2       The listing was exceptional and an even better...  \n",
       "3       Alexandra's home was amazing and in such a nea...  \n",
       "4       Beautiful home. Very comfortable and clean. Pe...  \n",
       "...                                                   ...  \n",
       "437480  Host was friendly and helpful, and the home wa...  \n",
       "437481  Salah was super kind and the Airbnb was super ...  \n",
       "437482  Great and comfortable place to stay. Very prof...  \n",
       "437483                               Nice and clean place  \n",
       "437484  I booked this unit for a work stay in Toronto,...  \n",
       "\n",
       "[437439 rows x 7 columns]"
      ]
     },
     "execution_count": 15,
     "metadata": {},
     "output_type": "execute_result"
    }
   ],
   "source": [
    "data"
   ]
  },
  {
   "cell_type": "markdown",
   "id": "8a6837d2-dc39-4aa2-b9e4-16b399ce30e5",
   "metadata": {},
   "source": [
    "initiate sentiment analysis"
   ]
  },
  {
   "cell_type": "code",
   "execution_count": 16,
   "id": "13e9a1b7-6b5a-4db2-b70b-fa6f27733100",
   "metadata": {},
   "outputs": [
    {
     "name": "stderr",
     "output_type": "stream",
     "text": [
      "[nltk_data] Downloading package vader_lexicon to\n",
      "[nltk_data]     C:\\Users\\kewei\\AppData\\Roaming\\nltk_data...\n",
      "[nltk_data]   Package vader_lexicon is already up-to-date!\n"
     ]
    }
   ],
   "source": [
    "nltk.download('vader_lexicon')\n",
    "from nltk.sentiment.vader import SentimentIntensityAnalyzer\n",
    "analyzer = SentimentIntensityAnalyzer()"
   ]
  },
  {
   "cell_type": "markdown",
   "id": "f31abb04-c43c-4834-9e9b-3053773ea0d3",
   "metadata": {},
   "source": [
    "try on one example"
   ]
  },
  {
   "cell_type": "code",
   "execution_count": 17,
   "id": "93c659f6-f0d4-4896-bbd6-049fd7e0d924",
   "metadata": {},
   "outputs": [
    {
     "name": "stdout",
     "output_type": "stream",
     "text": [
      "My partner and I spent three days staying at Kathy and Larry's home on the waterfront in Toronto.The room was quiet and nicely furnished. Larry and Kathy were very helpful and cooked us a very nice breakfast (great homemade bread!).You do share the bathroom with Larry and Kathy, but this was never a problem.Great views from your window of the CN Tower.\n"
     ]
    },
    {
     "data": {
      "text/plain": [
       "{'neg': 0.0, 'neu': 0.874, 'pos': 0.126, 'compound': 0.7127}"
      ]
     },
     "execution_count": 17,
     "metadata": {},
     "output_type": "execute_result"
    }
   ],
   "source": [
    "text = data['cleaned_comments'][199] \n",
    "print(text)\n",
    "analyzer.polarity_scores(text)"
   ]
  },
  {
   "cell_type": "code",
   "execution_count": 18,
   "id": "be844b01-ae14-4ca4-9227-cb9781ffcc56",
   "metadata": {},
   "outputs": [
    {
     "name": "stderr",
     "output_type": "stream",
     "text": [
      "C:\\Users\\kewei\\AppData\\Local\\Temp\\ipykernel_26672\\2670595460.py:1: SettingWithCopyWarning: \n",
      "A value is trying to be set on a copy of a slice from a DataFrame.\n",
      "Try using .loc[row_indexer,col_indexer] = value instead\n",
      "\n",
      "See the caveats in the documentation: https://pandas.pydata.org/pandas-docs/stable/user_guide/indexing.html#returning-a-view-versus-a-copy\n",
      "  data['score_cleaned'] = data['cleaned_comments'].apply(lambda x:analyzer.polarity_scores(x)['compound'])\n",
      "C:\\Users\\kewei\\AppData\\Local\\Temp\\ipykernel_26672\\2670595460.py:2: SettingWithCopyWarning: \n",
      "A value is trying to be set on a copy of a slice from a DataFrame.\n",
      "Try using .loc[row_indexer,col_indexer] = value instead\n",
      "\n",
      "See the caveats in the documentation: https://pandas.pydata.org/pandas-docs/stable/user_guide/indexing.html#returning-a-view-versus-a-copy\n",
      "  data['score'] = data['comments'].apply(lambda x:analyzer.polarity_scores(x)['compound'])\n"
     ]
    },
    {
     "data": {
      "text/html": [
       "<div>\n",
       "<style scoped>\n",
       "    .dataframe tbody tr th:only-of-type {\n",
       "        vertical-align: middle;\n",
       "    }\n",
       "\n",
       "    .dataframe tbody tr th {\n",
       "        vertical-align: top;\n",
       "    }\n",
       "\n",
       "    .dataframe thead th {\n",
       "        text-align: right;\n",
       "    }\n",
       "</style>\n",
       "<table border=\"1\" class=\"dataframe\">\n",
       "  <thead>\n",
       "    <tr style=\"text-align: right;\">\n",
       "      <th></th>\n",
       "      <th>listing_id</th>\n",
       "      <th>id</th>\n",
       "      <th>date</th>\n",
       "      <th>reviewer_id</th>\n",
       "      <th>reviewer_name</th>\n",
       "      <th>comments</th>\n",
       "      <th>cleaned_comments</th>\n",
       "      <th>score_cleaned</th>\n",
       "      <th>score</th>\n",
       "    </tr>\n",
       "  </thead>\n",
       "  <tbody>\n",
       "    <tr>\n",
       "      <th>0</th>\n",
       "      <td>1419</td>\n",
       "      <td>38924112</td>\n",
       "      <td>2015-07-19</td>\n",
       "      <td>11308465</td>\n",
       "      <td>Marcela</td>\n",
       "      <td>Having the opportunity of arriving to Alexandr...</td>\n",
       "      <td>Having the opportunity of arriving to Alexandr...</td>\n",
       "      <td>0.9940</td>\n",
       "      <td>0.9940</td>\n",
       "    </tr>\n",
       "    <tr>\n",
       "      <th>1</th>\n",
       "      <td>1419</td>\n",
       "      <td>44791978</td>\n",
       "      <td>2015-08-29</td>\n",
       "      <td>9580285</td>\n",
       "      <td>Marco</td>\n",
       "      <td>We have no enough words to describe how beauty...</td>\n",
       "      <td>We have no enough words to describe how beauty...</td>\n",
       "      <td>0.6580</td>\n",
       "      <td>0.6580</td>\n",
       "    </tr>\n",
       "    <tr>\n",
       "      <th>2</th>\n",
       "      <td>1419</td>\n",
       "      <td>45957133</td>\n",
       "      <td>2015-09-07</td>\n",
       "      <td>38394721</td>\n",
       "      <td>Andrea</td>\n",
       "      <td>The listing was exceptional and an even better...</td>\n",
       "      <td>The listing was exceptional and an even better...</td>\n",
       "      <td>0.9895</td>\n",
       "      <td>0.9895</td>\n",
       "    </tr>\n",
       "    <tr>\n",
       "      <th>3</th>\n",
       "      <td>1419</td>\n",
       "      <td>67295154</td>\n",
       "      <td>2016-03-28</td>\n",
       "      <td>3515044</td>\n",
       "      <td>Shaun</td>\n",
       "      <td>Alexandra's home was amazing and in such a nea...</td>\n",
       "      <td>Alexandra's home was amazing and in such a nea...</td>\n",
       "      <td>0.9529</td>\n",
       "      <td>0.9673</td>\n",
       "    </tr>\n",
       "    <tr>\n",
       "      <th>4</th>\n",
       "      <td>1419</td>\n",
       "      <td>177702208</td>\n",
       "      <td>2017-08-03</td>\n",
       "      <td>13987100</td>\n",
       "      <td>Kate</td>\n",
       "      <td>Beautiful home. Very comfortable and clean. Pe...</td>\n",
       "      <td>Beautiful home. Very comfortable and clean. Pe...</td>\n",
       "      <td>0.9793</td>\n",
       "      <td>0.9787</td>\n",
       "    </tr>\n",
       "    <tr>\n",
       "      <th>...</th>\n",
       "      <td>...</td>\n",
       "      <td>...</td>\n",
       "      <td>...</td>\n",
       "      <td>...</td>\n",
       "      <td>...</td>\n",
       "      <td>...</td>\n",
       "      <td>...</td>\n",
       "      <td>...</td>\n",
       "      <td>...</td>\n",
       "    </tr>\n",
       "    <tr>\n",
       "      <th>437480</th>\n",
       "      <td>771238681088338261</td>\n",
       "      <td>773203762350484464</td>\n",
       "      <td>2022-12-02</td>\n",
       "      <td>27229658</td>\n",
       "      <td>Terence</td>\n",
       "      <td>Host was friendly and helpful, and the home wa...</td>\n",
       "      <td>Host was friendly and helpful, and the home wa...</td>\n",
       "      <td>0.9324</td>\n",
       "      <td>0.9324</td>\n",
       "    </tr>\n",
       "    <tr>\n",
       "      <th>437481</th>\n",
       "      <td>771238681088338261</td>\n",
       "      <td>773907378565075525</td>\n",
       "      <td>2022-12-03</td>\n",
       "      <td>484701591</td>\n",
       "      <td>Patricia</td>\n",
       "      <td>Salah was super kind and the Airbnb was super ...</td>\n",
       "      <td>Salah was super kind and the Airbnb was super ...</td>\n",
       "      <td>0.9612</td>\n",
       "      <td>0.9612</td>\n",
       "    </tr>\n",
       "    <tr>\n",
       "      <th>437482</th>\n",
       "      <td>771972180097258127</td>\n",
       "      <td>774696372128153092</td>\n",
       "      <td>2022-12-04</td>\n",
       "      <td>19571570</td>\n",
       "      <td>Diana</td>\n",
       "      <td>Great and comfortable place to stay. Very prof...</td>\n",
       "      <td>Great and comfortable place to stay. Very prof...</td>\n",
       "      <td>0.9664</td>\n",
       "      <td>0.9664</td>\n",
       "    </tr>\n",
       "    <tr>\n",
       "      <th>437483</th>\n",
       "      <td>773766003078139118</td>\n",
       "      <td>776062367597891985</td>\n",
       "      <td>2022-12-06</td>\n",
       "      <td>142989071</td>\n",
       "      <td>Edilberto</td>\n",
       "      <td>Nice and clean place</td>\n",
       "      <td>Nice and clean place</td>\n",
       "      <td>0.6705</td>\n",
       "      <td>0.6705</td>\n",
       "    </tr>\n",
       "    <tr>\n",
       "      <th>437484</th>\n",
       "      <td>773864065161029009</td>\n",
       "      <td>776103940520683365</td>\n",
       "      <td>2022-12-06</td>\n",
       "      <td>135755978</td>\n",
       "      <td>Kasra</td>\n",
       "      <td>I booked this unit for a work stay in Toronto,...</td>\n",
       "      <td>I booked this unit for a work stay in Toronto,...</td>\n",
       "      <td>0.9551</td>\n",
       "      <td>0.9551</td>\n",
       "    </tr>\n",
       "  </tbody>\n",
       "</table>\n",
       "<p>437439 rows × 9 columns</p>\n",
       "</div>"
      ],
      "text/plain": [
       "                listing_id                  id        date  reviewer_id  \\\n",
       "0                     1419            38924112  2015-07-19     11308465   \n",
       "1                     1419            44791978  2015-08-29      9580285   \n",
       "2                     1419            45957133  2015-09-07     38394721   \n",
       "3                     1419            67295154  2016-03-28      3515044   \n",
       "4                     1419           177702208  2017-08-03     13987100   \n",
       "...                    ...                 ...         ...          ...   \n",
       "437480  771238681088338261  773203762350484464  2022-12-02     27229658   \n",
       "437481  771238681088338261  773907378565075525  2022-12-03    484701591   \n",
       "437482  771972180097258127  774696372128153092  2022-12-04     19571570   \n",
       "437483  773766003078139118  776062367597891985  2022-12-06    142989071   \n",
       "437484  773864065161029009  776103940520683365  2022-12-06    135755978   \n",
       "\n",
       "       reviewer_name                                           comments  \\\n",
       "0            Marcela  Having the opportunity of arriving to Alexandr...   \n",
       "1              Marco  We have no enough words to describe how beauty...   \n",
       "2             Andrea  The listing was exceptional and an even better...   \n",
       "3              Shaun  Alexandra's home was amazing and in such a nea...   \n",
       "4               Kate  Beautiful home. Very comfortable and clean. Pe...   \n",
       "...              ...                                                ...   \n",
       "437480       Terence  Host was friendly and helpful, and the home wa...   \n",
       "437481      Patricia  Salah was super kind and the Airbnb was super ...   \n",
       "437482         Diana  Great and comfortable place to stay. Very prof...   \n",
       "437483     Edilberto                               Nice and clean place   \n",
       "437484         Kasra  I booked this unit for a work stay in Toronto,...   \n",
       "\n",
       "                                         cleaned_comments  score_cleaned  \\\n",
       "0       Having the opportunity of arriving to Alexandr...         0.9940   \n",
       "1       We have no enough words to describe how beauty...         0.6580   \n",
       "2       The listing was exceptional and an even better...         0.9895   \n",
       "3       Alexandra's home was amazing and in such a nea...         0.9529   \n",
       "4       Beautiful home. Very comfortable and clean. Pe...         0.9793   \n",
       "...                                                   ...            ...   \n",
       "437480  Host was friendly and helpful, and the home wa...         0.9324   \n",
       "437481  Salah was super kind and the Airbnb was super ...         0.9612   \n",
       "437482  Great and comfortable place to stay. Very prof...         0.9664   \n",
       "437483                               Nice and clean place         0.6705   \n",
       "437484  I booked this unit for a work stay in Toronto,...         0.9551   \n",
       "\n",
       "         score  \n",
       "0       0.9940  \n",
       "1       0.6580  \n",
       "2       0.9895  \n",
       "3       0.9673  \n",
       "4       0.9787  \n",
       "...        ...  \n",
       "437480  0.9324  \n",
       "437481  0.9612  \n",
       "437482  0.9664  \n",
       "437483  0.6705  \n",
       "437484  0.9551  \n",
       "\n",
       "[437439 rows x 9 columns]"
      ]
     },
     "execution_count": 18,
     "metadata": {},
     "output_type": "execute_result"
    }
   ],
   "source": [
    "data['score_cleaned'] = data['cleaned_comments'].apply(lambda x:analyzer.polarity_scores(x)['compound'])\n",
    "data['score'] = data['comments'].apply(lambda x:analyzer.polarity_scores(x)['compound'])\n",
    "data"
   ]
  },
  {
   "cell_type": "code",
   "execution_count": 19,
   "id": "2ae58434-fa64-4e0c-ba33-491316d8609d",
   "metadata": {},
   "outputs": [],
   "source": [
    "data.to_csv('review_sentiment.csv', index=False)"
   ]
  },
  {
   "cell_type": "code",
   "execution_count": 20,
   "id": "4bee6c7d-7f03-451a-87d7-23dd0bb61e55",
   "metadata": {},
   "outputs": [],
   "source": [
    "data2 = data[['id','reviewer_id', 'reviewer_name', 'score_cleaned', 'score']]\n",
    "data2.to_csv('review_sentiment_score_only.csv', index=False)"
   ]
  },
  {
   "cell_type": "code",
   "execution_count": null,
   "id": "3f50ee27-5469-4a30-8d00-c0099b2bc749",
   "metadata": {},
   "outputs": [],
   "source": []
  },
  {
   "cell_type": "code",
   "execution_count": null,
   "id": "1ef7ea6a-e561-4296-9e5d-9b22dec4939b",
   "metadata": {},
   "outputs": [],
   "source": []
  },
  {
   "cell_type": "code",
   "execution_count": null,
   "id": "adfff8eb-e991-4b5f-bc51-d3419a59fdb5",
   "metadata": {},
   "outputs": [],
   "source": []
  },
  {
   "cell_type": "code",
   "execution_count": 21,
   "id": "e293a4f4-0e22-448e-aee1-6a141f29bc6a",
   "metadata": {},
   "outputs": [
    {
     "data": {
      "text/plain": [
       "<AxesSubplot:xlabel='score'>"
      ]
     },
     "execution_count": 21,
     "metadata": {},
     "output_type": "execute_result"
    },
    {
     "data": {
      "image/png": "[encoded data removed]",
      "text/plain": [
       "<Figure size 640x480 with 1 Axes>"
      ]
     },
     "metadata": {},
     "output_type": "display_data"
    }
   ],
   "source": [
    "import seaborn as sns\n",
    "sns.violinplot(x=data2[\"score\"])"
   ]
  },
  {
   "cell_type": "code",
   "execution_count": 22,
   "id": "99bd6454-7c32-4414-8d3e-3b9b1e6f0019",
   "metadata": {},
   "outputs": [
    {
     "data": {
      "text/plain": [
       "count    437439.000000\n",
       "mean          0.764444\n",
       "std           0.318348\n",
       "min          -0.998600\n",
       "25%           0.718400\n",
       "50%           0.893400\n",
       "75%           0.953400\n",
       "max           0.999600\n",
       "Name: score, dtype: float64"
      ]
     },
     "execution_count": 22,
     "metadata": {},
     "output_type": "execute_result"
    }
   ],
   "source": [
    "data2[\"score\"].describe()"
   ]
  },
  {
   "cell_type": "code",
   "execution_count": null,
   "id": "03eb1749-de69-4c81-b684-77c9ffd3f178",
   "metadata": {},
   "outputs": [],
   "source": []
  },
  {
   "cell_type": "code",
   "execution_count": null,
   "id": "bee8715d-95d6-4964-83bd-9e8321a3c445",
   "metadata": {},
   "outputs": [],
   "source": []
  },
  {
   "cell_type": "code",
   "execution_count": 23,
   "id": "b773e06c-32a8-4dd2-a97a-7c8cc3e97563",
   "metadata": {},
   "outputs": [
    {
     "data": {
      "text/html": [
       "<div>\n",
       "<style scoped>\n",
       "    .dataframe tbody tr th:only-of-type {\n",
       "        vertical-align: middle;\n",
       "    }\n",
       "\n",
       "    .dataframe tbody tr th {\n",
       "        vertical-align: top;\n",
       "    }\n",
       "\n",
       "    .dataframe thead th {\n",
       "        text-align: right;\n",
       "    }\n",
       "</style>\n",
       "<table border=\"1\" class=\"dataframe\">\n",
       "  <thead>\n",
       "    <tr style=\"text-align: right;\">\n",
       "      <th></th>\n",
       "      <th>id</th>\n",
       "      <th>reviewer_id</th>\n",
       "      <th>reviewer_name</th>\n",
       "      <th>score_cleaned</th>\n",
       "      <th>score</th>\n",
       "    </tr>\n",
       "  </thead>\n",
       "  <tbody>\n",
       "    <tr>\n",
       "      <th>161</th>\n",
       "      <td>241071419</td>\n",
       "      <td>26821041</td>\n",
       "      <td>Peter</td>\n",
       "      <td>0.9711</td>\n",
       "      <td>0.9595</td>\n",
       "    </tr>\n",
       "    <tr>\n",
       "      <th>233</th>\n",
       "      <td>706567099</td>\n",
       "      <td>36387682</td>\n",
       "      <td>Margaret</td>\n",
       "      <td>0.9784</td>\n",
       "      <td>0.9784</td>\n",
       "    </tr>\n",
       "    <tr>\n",
       "      <th>327</th>\n",
       "      <td>127932295</td>\n",
       "      <td>50947601</td>\n",
       "      <td>Sharon</td>\n",
       "      <td>0.0000</td>\n",
       "      <td>0.0000</td>\n",
       "    </tr>\n",
       "    <tr>\n",
       "      <th>350</th>\n",
       "      <td>56336031</td>\n",
       "      <td>43399403</td>\n",
       "      <td>Ignacio</td>\n",
       "      <td>0.9579</td>\n",
       "      <td>0.9579</td>\n",
       "    </tr>\n",
       "    <tr>\n",
       "      <th>511</th>\n",
       "      <td>19352138</td>\n",
       "      <td>4329818</td>\n",
       "      <td>Meagan</td>\n",
       "      <td>0.9274</td>\n",
       "      <td>0.9274</td>\n",
       "    </tr>\n",
       "    <tr>\n",
       "      <th>...</th>\n",
       "      <td>...</td>\n",
       "      <td>...</td>\n",
       "      <td>...</td>\n",
       "      <td>...</td>\n",
       "      <td>...</td>\n",
       "    </tr>\n",
       "    <tr>\n",
       "      <th>437264</th>\n",
       "      <td>775383532124459581</td>\n",
       "      <td>3334492</td>\n",
       "      <td>Frances &amp; Gregory</td>\n",
       "      <td>0.9907</td>\n",
       "      <td>0.9907</td>\n",
       "    </tr>\n",
       "    <tr>\n",
       "      <th>437273</th>\n",
       "      <td>759455800903430077</td>\n",
       "      <td>295896798</td>\n",
       "      <td>Arie</td>\n",
       "      <td>0.9381</td>\n",
       "      <td>0.9381</td>\n",
       "    </tr>\n",
       "    <tr>\n",
       "      <th>437347</th>\n",
       "      <td>765998417484008748</td>\n",
       "      <td>33776775</td>\n",
       "      <td>Daniella</td>\n",
       "      <td>0.9744</td>\n",
       "      <td>0.9744</td>\n",
       "    </tr>\n",
       "    <tr>\n",
       "      <th>437454</th>\n",
       "      <td>771023114541177198</td>\n",
       "      <td>256962847</td>\n",
       "      <td>Érika C</td>\n",
       "      <td>0.9880</td>\n",
       "      <td>0.9880</td>\n",
       "    </tr>\n",
       "    <tr>\n",
       "      <th>437474</th>\n",
       "      <td>772450642772316940</td>\n",
       "      <td>227124776</td>\n",
       "      <td>Sarah</td>\n",
       "      <td>0.9929</td>\n",
       "      <td>0.9930</td>\n",
       "    </tr>\n",
       "  </tbody>\n",
       "</table>\n",
       "<p>10020 rows × 5 columns</p>\n",
       "</div>"
      ],
      "text/plain": [
       "                        id  reviewer_id      reviewer_name  score_cleaned  \\\n",
       "161              241071419     26821041              Peter         0.9711   \n",
       "233              706567099     36387682           Margaret         0.9784   \n",
       "327              127932295     50947601             Sharon         0.0000   \n",
       "350               56336031     43399403            Ignacio         0.9579   \n",
       "511               19352138      4329818             Meagan         0.9274   \n",
       "...                    ...          ...                ...            ...   \n",
       "437264  775383532124459581      3334492  Frances & Gregory         0.9907   \n",
       "437273  759455800903430077    295896798               Arie         0.9381   \n",
       "437347  765998417484008748     33776775           Daniella         0.9744   \n",
       "437454  771023114541177198    256962847            Érika C         0.9880   \n",
       "437474  772450642772316940    227124776              Sarah         0.9929   \n",
       "\n",
       "         score  \n",
       "161     0.9595  \n",
       "233     0.9784  \n",
       "327     0.0000  \n",
       "350     0.9579  \n",
       "511     0.9274  \n",
       "...        ...  \n",
       "437264  0.9907  \n",
       "437273  0.9381  \n",
       "437347  0.9744  \n",
       "437454  0.9880  \n",
       "437474  0.9930  \n",
       "\n",
       "[10020 rows x 5 columns]"
      ]
     },
     "execution_count": 23,
     "metadata": {},
     "output_type": "execute_result"
    }
   ],
   "source": [
    "data2.groupby('reviewer_id').filter(lambda x: len(x) > 5)"
   ]
  },
  {
   "cell_type": "markdown",
   "id": "47e78c4c-241f-41e5-a018-7728f4279d78",
   "metadata": {},
   "source": [
    "inspect for zero score reviews"
   ]
  },
  {
   "cell_type": "code",
   "execution_count": 24,
   "id": "f38ed13a-fa47-4b6c-a81f-fc90e19863ac",
   "metadata": {},
   "outputs": [
    {
     "data": {
      "text/plain": [
       "'The host canceled this reservation 17 days before arrival. This is an automated posting.'"
      ]
     },
     "execution_count": 24,
     "metadata": {},
     "output_type": "execute_result"
    }
   ],
   "source": [
    "data[data['id']== 127932295]['comments'].values[0]"
   ]
  },
  {
   "cell_type": "markdown",
   "id": "2ef26ca6-e352-4e57-b029-1acebbec5708",
   "metadata": {},
   "source": [
    "it appears that zero value scores are meaningless auto generated reviews, so we remove them."
   ]
  },
  {
   "cell_type": "code",
   "execution_count": 25,
   "id": "b6c27830-752a-4b9e-8118-40d94a44e76a",
   "metadata": {},
   "outputs": [
    {
     "data": {
      "text/html": [
       "<div>\n",
       "<style scoped>\n",
       "    .dataframe tbody tr th:only-of-type {\n",
       "        vertical-align: middle;\n",
       "    }\n",
       "\n",
       "    .dataframe tbody tr th {\n",
       "        vertical-align: top;\n",
       "    }\n",
       "\n",
       "    .dataframe thead th {\n",
       "        text-align: right;\n",
       "    }\n",
       "</style>\n",
       "<table border=\"1\" class=\"dataframe\">\n",
       "  <thead>\n",
       "    <tr style=\"text-align: right;\">\n",
       "      <th></th>\n",
       "      <th>id</th>\n",
       "      <th>reviewer_id</th>\n",
       "      <th>reviewer_name</th>\n",
       "      <th>score_cleaned</th>\n",
       "      <th>score</th>\n",
       "    </tr>\n",
       "  </thead>\n",
       "  <tbody>\n",
       "    <tr>\n",
       "      <th>0</th>\n",
       "      <td>38924112</td>\n",
       "      <td>11308465</td>\n",
       "      <td>Marcela</td>\n",
       "      <td>0.9940</td>\n",
       "      <td>0.9940</td>\n",
       "    </tr>\n",
       "    <tr>\n",
       "      <th>1</th>\n",
       "      <td>44791978</td>\n",
       "      <td>9580285</td>\n",
       "      <td>Marco</td>\n",
       "      <td>0.6580</td>\n",
       "      <td>0.6580</td>\n",
       "    </tr>\n",
       "    <tr>\n",
       "      <th>2</th>\n",
       "      <td>45957133</td>\n",
       "      <td>38394721</td>\n",
       "      <td>Andrea</td>\n",
       "      <td>0.9895</td>\n",
       "      <td>0.9895</td>\n",
       "    </tr>\n",
       "    <tr>\n",
       "      <th>3</th>\n",
       "      <td>67295154</td>\n",
       "      <td>3515044</td>\n",
       "      <td>Shaun</td>\n",
       "      <td>0.9529</td>\n",
       "      <td>0.9673</td>\n",
       "    </tr>\n",
       "    <tr>\n",
       "      <th>4</th>\n",
       "      <td>177702208</td>\n",
       "      <td>13987100</td>\n",
       "      <td>Kate</td>\n",
       "      <td>0.9793</td>\n",
       "      <td>0.9787</td>\n",
       "    </tr>\n",
       "    <tr>\n",
       "      <th>...</th>\n",
       "      <td>...</td>\n",
       "      <td>...</td>\n",
       "      <td>...</td>\n",
       "      <td>...</td>\n",
       "      <td>...</td>\n",
       "    </tr>\n",
       "    <tr>\n",
       "      <th>437480</th>\n",
       "      <td>773203762350484464</td>\n",
       "      <td>27229658</td>\n",
       "      <td>Terence</td>\n",
       "      <td>0.9324</td>\n",
       "      <td>0.9324</td>\n",
       "    </tr>\n",
       "    <tr>\n",
       "      <th>437481</th>\n",
       "      <td>773907378565075525</td>\n",
       "      <td>484701591</td>\n",
       "      <td>Patricia</td>\n",
       "      <td>0.9612</td>\n",
       "      <td>0.9612</td>\n",
       "    </tr>\n",
       "    <tr>\n",
       "      <th>437482</th>\n",
       "      <td>774696372128153092</td>\n",
       "      <td>19571570</td>\n",
       "      <td>Diana</td>\n",
       "      <td>0.9664</td>\n",
       "      <td>0.9664</td>\n",
       "    </tr>\n",
       "    <tr>\n",
       "      <th>437483</th>\n",
       "      <td>776062367597891985</td>\n",
       "      <td>142989071</td>\n",
       "      <td>Edilberto</td>\n",
       "      <td>0.6705</td>\n",
       "      <td>0.6705</td>\n",
       "    </tr>\n",
       "    <tr>\n",
       "      <th>437484</th>\n",
       "      <td>776103940520683365</td>\n",
       "      <td>135755978</td>\n",
       "      <td>Kasra</td>\n",
       "      <td>0.9551</td>\n",
       "      <td>0.9551</td>\n",
       "    </tr>\n",
       "  </tbody>\n",
       "</table>\n",
       "<p>412837 rows × 5 columns</p>\n",
       "</div>"
      ],
      "text/plain": [
       "                        id  reviewer_id reviewer_name  score_cleaned   score\n",
       "0                 38924112     11308465       Marcela         0.9940  0.9940\n",
       "1                 44791978      9580285         Marco         0.6580  0.6580\n",
       "2                 45957133     38394721        Andrea         0.9895  0.9895\n",
       "3                 67295154      3515044         Shaun         0.9529  0.9673\n",
       "4                177702208     13987100          Kate         0.9793  0.9787\n",
       "...                    ...          ...           ...            ...     ...\n",
       "437480  773203762350484464     27229658       Terence         0.9324  0.9324\n",
       "437481  773907378565075525    484701591      Patricia         0.9612  0.9612\n",
       "437482  774696372128153092     19571570         Diana         0.9664  0.9664\n",
       "437483  776062367597891985    142989071     Edilberto         0.6705  0.6705\n",
       "437484  776103940520683365    135755978         Kasra         0.9551  0.9551\n",
       "\n",
       "[412837 rows x 5 columns]"
      ]
     },
     "execution_count": 25,
     "metadata": {},
     "output_type": "execute_result"
    }
   ],
   "source": [
    "data2 = data2.query('score != 0')\n",
    "data2"
   ]
  },
  {
   "cell_type": "code",
   "execution_count": 26,
   "id": "6e7385fe-1522-4f9b-84e1-a3d4da48d37e",
   "metadata": {},
   "outputs": [
    {
     "data": {
      "image/png": "[encoded data removed]",
      "text/plain": [
       "<Figure size 640x480 with 1 Axes>"
      ]
     },
     "metadata": {},
     "output_type": "display_data"
    }
   ],
   "source": [
    "ax = sns.violinplot(x=data2[\"score\"])\n",
    "ax.set_xlim(-1.1, 1.1)\n",
    "plt.show()"
   ]
  },
  {
   "cell_type": "code",
   "execution_count": 27,
   "id": "083428ef-4ff7-4d73-904b-6ade20b0c8c5",
   "metadata": {},
   "outputs": [
    {
     "data": {
      "text/plain": [
       "count    412837.000000\n",
       "mean          0.810000\n",
       "std           0.265491\n",
       "min          -0.998600\n",
       "25%           0.778300\n",
       "50%           0.902200\n",
       "75%           0.955800\n",
       "max           0.999600\n",
       "Name: score, dtype: float64"
      ]
     },
     "execution_count": 27,
     "metadata": {},
     "output_type": "execute_result"
    }
   ],
   "source": [
    "score = data2[\"score\"]\n",
    "score.describe()"
   ]
  },
  {
   "cell_type": "code",
   "execution_count": 28,
   "id": "37e2f901-6446-434e-ae8c-6acedef469fd",
   "metadata": {},
   "outputs": [
    {
     "data": {
      "text/plain": [
       "0.02481366737961956"
      ]
     },
     "execution_count": 28,
     "metadata": {},
     "output_type": "execute_result"
    }
   ],
   "source": [
    "len(score[score < 0]) / len(score)"
   ]
  },
  {
   "cell_type": "markdown",
   "id": "e0099aa9-aa06-4a57-ae3c-091bb364bd9e",
   "metadata": {},
   "source": [
    "it appears that most reviews are positive comments, while there is still a long tail on the negative review side. \n",
    "\n",
    "2.48% of the reviews are negative."
   ]
  },
  {
   "cell_type": "markdown",
   "id": "7a3523bc-3764-4ec4-971c-aa72713500bf",
   "metadata": {},
   "source": [
    "We will now look for the reviewer that are more strict than the others: \n"
   ]
  },
  {
   "cell_type": "markdown",
   "id": "5599243d-51c8-435c-9b11-f90777fdf3c4",
   "metadata": {},
   "source": [
    "we first look at the distribution of comments grouped by reviewer id"
   ]
  },
  {
   "cell_type": "code",
   "execution_count": 29,
   "id": "aece54d6-b957-4e9e-981e-d0ea75181f99",
   "metadata": {},
   "outputs": [
    {
     "data": {
      "text/plain": [
       "count    353291.000000\n",
       "mean          1.168547\n",
       "std           0.663052\n",
       "min           1.000000\n",
       "25%           1.000000\n",
       "50%           1.000000\n",
       "75%           1.000000\n",
       "max          58.000000\n",
       "dtype: float64"
      ]
     },
     "execution_count": 29,
     "metadata": {},
     "output_type": "execute_result"
    }
   ],
   "source": [
    "comment_freq = data2.groupby('reviewer_id').size()\n",
    "comment_freq.describe()"
   ]
  },
  {
   "cell_type": "code",
   "execution_count": 30,
   "id": "476ffb31-410b-486c-a18b-3f8e8a1ae42f",
   "metadata": {},
   "outputs": [
    {
     "data": {
      "text/plain": [
       "<AxesSubplot:>"
      ]
     },
     "execution_count": 30,
     "metadata": {},
     "output_type": "execute_result"
    },
    {
     "data": {
      "image/png": "[encoded data removed]",
      "text/plain": [
       "<Figure size 640x480 with 1 Axes>"
      ]
     },
     "metadata": {},
     "output_type": "display_data"
    }
   ],
   "source": [
    "sns.violinplot(x=comment_freq)"
   ]
  },
  {
   "cell_type": "code",
   "execution_count": 31,
   "id": "e1df0b9d-36b0-4de0-8cae-e9fcc17e5ff8",
   "metadata": {},
   "outputs": [
    {
     "data": {
      "image/png": "[encoded data removed]",
      "text/plain": [
       "<Figure size 640x480 with 1 Axes>"
      ]
     },
     "metadata": {},
     "output_type": "display_data"
    }
   ],
   "source": [
    "ax = sns.violinplot(x=comment_freq)\n",
    "ax.set_xlim(0,5)\n",
    "plt.show()"
   ]
  },
  {
   "cell_type": "markdown",
   "id": "23efe0b7-d6fe-4b11-8859-904e42e6e9a2",
   "metadata": {},
   "source": [
    "It appears that with more than 2 comments, one reviewer could be considered as higher than its peers."
   ]
  },
  {
   "cell_type": "markdown",
   "id": "41622e22-5d76-46bf-a029-def9418652bf",
   "metadata": {},
   "source": [
    "after we examined the datset, we can consider the reviewers that satisfied both conditions: \n",
    "\n",
    "- have more than 2 comments\n",
    "    \n",
    "- have more than 2 comments that are lower than zero\n",
    "    \n",
    "as harsh reviewers"
   ]
  },
  {
   "cell_type": "code",
   "execution_count": null,
   "id": "ea67ed26-5ba4-4d28-9bc4-16bf8235495d",
   "metadata": {},
   "outputs": [],
   "source": []
  },
  {
   "cell_type": "code",
   "execution_count": 33,
   "id": "cc52cf05-7293-4fb7-9d54-754f473fdb31",
   "metadata": {},
   "outputs": [
    {
     "data": {
      "text/html": [
       "<div>\n",
       "<style scoped>\n",
       "    .dataframe tbody tr th:only-of-type {\n",
       "        vertical-align: middle;\n",
       "    }\n",
       "\n",
       "    .dataframe tbody tr th {\n",
       "        vertical-align: top;\n",
       "    }\n",
       "\n",
       "    .dataframe thead th {\n",
       "        text-align: right;\n",
       "    }\n",
       "</style>\n",
       "<table border=\"1\" class=\"dataframe\">\n",
       "  <thead>\n",
       "    <tr style=\"text-align: right;\">\n",
       "      <th></th>\n",
       "      <th>id</th>\n",
       "      <th>reviewer_id</th>\n",
       "      <th>reviewer_name</th>\n",
       "      <th>score_cleaned</th>\n",
       "      <th>score</th>\n",
       "    </tr>\n",
       "  </thead>\n",
       "  <tbody>\n",
       "    <tr>\n",
       "      <th>0</th>\n",
       "      <td>38924112</td>\n",
       "      <td>11308465</td>\n",
       "      <td>Marcela</td>\n",
       "      <td>0.9940</td>\n",
       "      <td>0.9940</td>\n",
       "    </tr>\n",
       "    <tr>\n",
       "      <th>1</th>\n",
       "      <td>44791978</td>\n",
       "      <td>9580285</td>\n",
       "      <td>Marco</td>\n",
       "      <td>0.6580</td>\n",
       "      <td>0.6580</td>\n",
       "    </tr>\n",
       "    <tr>\n",
       "      <th>2</th>\n",
       "      <td>45957133</td>\n",
       "      <td>38394721</td>\n",
       "      <td>Andrea</td>\n",
       "      <td>0.9895</td>\n",
       "      <td>0.9895</td>\n",
       "    </tr>\n",
       "    <tr>\n",
       "      <th>3</th>\n",
       "      <td>67295154</td>\n",
       "      <td>3515044</td>\n",
       "      <td>Shaun</td>\n",
       "      <td>0.9529</td>\n",
       "      <td>0.9673</td>\n",
       "    </tr>\n",
       "    <tr>\n",
       "      <th>4</th>\n",
       "      <td>177702208</td>\n",
       "      <td>13987100</td>\n",
       "      <td>Kate</td>\n",
       "      <td>0.9793</td>\n",
       "      <td>0.9787</td>\n",
       "    </tr>\n",
       "    <tr>\n",
       "      <th>...</th>\n",
       "      <td>...</td>\n",
       "      <td>...</td>\n",
       "      <td>...</td>\n",
       "      <td>...</td>\n",
       "      <td>...</td>\n",
       "    </tr>\n",
       "    <tr>\n",
       "      <th>437480</th>\n",
       "      <td>773203762350484464</td>\n",
       "      <td>27229658</td>\n",
       "      <td>Terence</td>\n",
       "      <td>0.9324</td>\n",
       "      <td>0.9324</td>\n",
       "    </tr>\n",
       "    <tr>\n",
       "      <th>437481</th>\n",
       "      <td>773907378565075525</td>\n",
       "      <td>484701591</td>\n",
       "      <td>Patricia</td>\n",
       "      <td>0.9612</td>\n",
       "      <td>0.9612</td>\n",
       "    </tr>\n",
       "    <tr>\n",
       "      <th>437482</th>\n",
       "      <td>774696372128153092</td>\n",
       "      <td>19571570</td>\n",
       "      <td>Diana</td>\n",
       "      <td>0.9664</td>\n",
       "      <td>0.9664</td>\n",
       "    </tr>\n",
       "    <tr>\n",
       "      <th>437483</th>\n",
       "      <td>776062367597891985</td>\n",
       "      <td>142989071</td>\n",
       "      <td>Edilberto</td>\n",
       "      <td>0.6705</td>\n",
       "      <td>0.6705</td>\n",
       "    </tr>\n",
       "    <tr>\n",
       "      <th>437484</th>\n",
       "      <td>776103940520683365</td>\n",
       "      <td>135755978</td>\n",
       "      <td>Kasra</td>\n",
       "      <td>0.9551</td>\n",
       "      <td>0.9551</td>\n",
       "    </tr>\n",
       "  </tbody>\n",
       "</table>\n",
       "<p>412837 rows × 5 columns</p>\n",
       "</div>"
      ],
      "text/plain": [
       "                        id  reviewer_id reviewer_name  score_cleaned   score\n",
       "0                 38924112     11308465       Marcela         0.9940  0.9940\n",
       "1                 44791978      9580285         Marco         0.6580  0.6580\n",
       "2                 45957133     38394721        Andrea         0.9895  0.9895\n",
       "3                 67295154      3515044         Shaun         0.9529  0.9673\n",
       "4                177702208     13987100          Kate         0.9793  0.9787\n",
       "...                    ...          ...           ...            ...     ...\n",
       "437480  773203762350484464     27229658       Terence         0.9324  0.9324\n",
       "437481  773907378565075525    484701591      Patricia         0.9612  0.9612\n",
       "437482  774696372128153092     19571570         Diana         0.9664  0.9664\n",
       "437483  776062367597891985    142989071     Edilberto         0.6705  0.6705\n",
       "437484  776103940520683365    135755978         Kasra         0.9551  0.9551\n",
       "\n",
       "[412837 rows x 5 columns]"
      ]
     },
     "execution_count": 33,
     "metadata": {},
     "output_type": "execute_result"
    }
   ],
   "source": [
    "data2"
   ]
  },
  {
   "cell_type": "code",
   "execution_count": null,
   "id": "36fd19bb-f2cc-4b19-b87b-f7ce14c10272",
   "metadata": {},
   "outputs": [],
   "source": []
  },
  {
   "cell_type": "code",
   "execution_count": 36,
   "id": "e698bb19-8f39-426d-8903-4ff21299125e",
   "metadata": {},
   "outputs": [
    {
     "data": {
      "text/plain": [
       "array([ 34209549, 142715693, 228005616, 378023416, 324420603, 150606880,\n",
       "       151036962, 175538311, 202180532, 313106000,  79601806, 181883007],\n",
       "      dtype=int64)"
      ]
     },
     "execution_count": 36,
     "metadata": {},
     "output_type": "execute_result"
    }
   ],
   "source": [
    "harsh_reviewer = data2[data2['score'] < 0].groupby('reviewer_id').filter(lambda x: len(x) > 2)['reviewer_id'].unique()\n",
    "harsh_reviewer"
   ]
  },
  {
   "cell_type": "code",
   "execution_count": 43,
   "id": "7d75d799-45a4-403c-b37e-fa099b3676f3",
   "metadata": {},
   "outputs": [
    {
     "data": {
      "text/html": [
       "<div>\n",
       "<style scoped>\n",
       "    .dataframe tbody tr th:only-of-type {\n",
       "        vertical-align: middle;\n",
       "    }\n",
       "\n",
       "    .dataframe tbody tr th {\n",
       "        vertical-align: top;\n",
       "    }\n",
       "\n",
       "    .dataframe thead th {\n",
       "        text-align: right;\n",
       "    }\n",
       "</style>\n",
       "<table border=\"1\" class=\"dataframe\">\n",
       "  <thead>\n",
       "    <tr style=\"text-align: right;\">\n",
       "      <th></th>\n",
       "      <th>listing_id</th>\n",
       "      <th>id</th>\n",
       "      <th>date</th>\n",
       "      <th>reviewer_id</th>\n",
       "      <th>reviewer_name</th>\n",
       "      <th>comments</th>\n",
       "      <th>cleaned_comments</th>\n",
       "      <th>score_cleaned</th>\n",
       "      <th>score</th>\n",
       "    </tr>\n",
       "  </thead>\n",
       "  <tbody>\n",
       "    <tr>\n",
       "      <th>732</th>\n",
       "      <td>756619</td>\n",
       "      <td>420117465</td>\n",
       "      <td>2019-03-05</td>\n",
       "      <td>34209549</td>\n",
       "      <td>Christian</td>\n",
       "      <td>Tout était parfait.</td>\n",
       "      <td>Tout tait parfait.</td>\n",
       "      <td>-0.128</td>\n",
       "      <td>-0.128</td>\n",
       "    </tr>\n",
       "    <tr>\n",
       "      <th>114815</th>\n",
       "      <td>14585973</td>\n",
       "      <td>252411997</td>\n",
       "      <td>2018-04-10</td>\n",
       "      <td>34209549</td>\n",
       "      <td>Christian</td>\n",
       "      <td>Emplacement parfait et logement impeccable. On...</td>\n",
       "      <td>Emplacement parfait et logement impeccable. On...</td>\n",
       "      <td>0.000</td>\n",
       "      <td>0.000</td>\n",
       "    </tr>\n",
       "    <tr>\n",
       "      <th>154197</th>\n",
       "      <td>18024250</td>\n",
       "      <td>255464338</td>\n",
       "      <td>2018-04-20</td>\n",
       "      <td>34209549</td>\n",
       "      <td>Christian</td>\n",
       "      <td>Rien à redire, tout était parfait.</td>\n",
       "      <td>Rien redire, tout tait parfait.</td>\n",
       "      <td>-0.128</td>\n",
       "      <td>-0.128</td>\n",
       "    </tr>\n",
       "    <tr>\n",
       "      <th>160027</th>\n",
       "      <td>18412333</td>\n",
       "      <td>196269931</td>\n",
       "      <td>2017-09-22</td>\n",
       "      <td>34209549</td>\n",
       "      <td>Christian</td>\n",
       "      <td>Hôte efficace et respectueux. Je le recommande...</td>\n",
       "      <td>Hte efficace et respectueux. Je le recommande ...</td>\n",
       "      <td>0.000</td>\n",
       "      <td>0.000</td>\n",
       "    </tr>\n",
       "    <tr>\n",
       "      <th>223618</th>\n",
       "      <td>23038764</td>\n",
       "      <td>523843562</td>\n",
       "      <td>2019-09-04</td>\n",
       "      <td>34209549</td>\n",
       "      <td>Christian</td>\n",
       "      <td>Comme toujours, tout était en ordre et accommo...</td>\n",
       "      <td>Comme toujours, tout tait en ordre et accommod...</td>\n",
       "      <td>-0.128</td>\n",
       "      <td>-0.128</td>\n",
       "    </tr>\n",
       "    <tr>\n",
       "      <th>224366</th>\n",
       "      <td>23041239</td>\n",
       "      <td>260681953</td>\n",
       "      <td>2018-05-04</td>\n",
       "      <td>34209549</td>\n",
       "      <td>Christian</td>\n",
       "      <td>Fonctionnel et parfaitement situé.</td>\n",
       "      <td>Fonctionnel et parfaitement situ.</td>\n",
       "      <td>0.000</td>\n",
       "      <td>0.000</td>\n",
       "    </tr>\n",
       "  </tbody>\n",
       "</table>\n",
       "</div>"
      ],
      "text/plain": [
       "        listing_id         id        date  reviewer_id reviewer_name  \\\n",
       "732         756619  420117465  2019-03-05     34209549     Christian   \n",
       "114815    14585973  252411997  2018-04-10     34209549     Christian   \n",
       "154197    18024250  255464338  2018-04-20     34209549     Christian   \n",
       "160027    18412333  196269931  2017-09-22     34209549     Christian   \n",
       "223618    23038764  523843562  2019-09-04     34209549     Christian   \n",
       "224366    23041239  260681953  2018-05-04     34209549     Christian   \n",
       "\n",
       "                                                 comments  \\\n",
       "732                                   Tout était parfait.   \n",
       "114815  Emplacement parfait et logement impeccable. On...   \n",
       "154197                 Rien à redire, tout était parfait.   \n",
       "160027  Hôte efficace et respectueux. Je le recommande...   \n",
       "223618  Comme toujours, tout était en ordre et accommo...   \n",
       "224366                 Fonctionnel et parfaitement situé.   \n",
       "\n",
       "                                         cleaned_comments  score_cleaned  \\\n",
       "732                                    Tout tait parfait.         -0.128   \n",
       "114815  Emplacement parfait et logement impeccable. On...          0.000   \n",
       "154197                    Rien redire, tout tait parfait.         -0.128   \n",
       "160027  Hte efficace et respectueux. Je le recommande ...          0.000   \n",
       "223618  Comme toujours, tout tait en ordre et accommod...         -0.128   \n",
       "224366                  Fonctionnel et parfaitement situ.          0.000   \n",
       "\n",
       "        score  \n",
       "732    -0.128  \n",
       "114815  0.000  \n",
       "154197 -0.128  \n",
       "160027  0.000  \n",
       "223618 -0.128  \n",
       "224366  0.000  "
      ]
     },
     "execution_count": 43,
     "metadata": {},
     "output_type": "execute_result"
    }
   ],
   "source": [
    "data[data['reviewer_id']== 34209549]"
   ]
  },
  {
   "cell_type": "markdown",
   "id": "61537662-5801-49a5-9e93-c280c3728ace",
   "metadata": {},
   "source": [
    "We noticed that although some non-english comments are compliments yet been classified as a negative comment, it appears that NLTK can only perform sentiment analysis on English text, we now use langdetect to determine if a comment is in english and exclude those non-english users for now."
   ]
  },
  {
   "cell_type": "code",
   "execution_count": 45,
   "id": "f5ce850b-b4af-4562-ad46-bd3ec77ceca6",
   "metadata": {},
   "outputs": [],
   "source": [
    "from langdetect import detect"
   ]
  },
  {
   "cell_type": "code",
   "execution_count": null,
   "id": "480c1699-aa89-4b88-b7f0-be12e6a90899",
   "metadata": {},
   "outputs": [],
   "source": [
    "lang = detect(text)"
   ]
  },
  {
   "cell_type": "code",
   "execution_count": 50,
   "id": "9ac3db85-9f61-418d-9ccc-65a8a1ebb3c4",
   "metadata": {},
   "outputs": [
    {
     "data": {
      "text/plain": [
       "[142715693,\n",
       " 228005616,\n",
       " 378023416,\n",
       " 324420603,\n",
       " 150606880,\n",
       " 151036962,\n",
       " 175538311,\n",
       " 313106000,\n",
       " 181883007]"
      ]
     },
     "execution_count": 50,
     "metadata": {},
     "output_type": "execute_result"
    }
   ],
   "source": [
    "harsh_reviewer_list"
   ]
  },
  {
   "cell_type": "code",
   "execution_count": 59,
   "id": "857b17a8-c296-4879-bd84-65f8b8ad609d",
   "metadata": {},
   "outputs": [
    {
     "name": "stdout",
     "output_type": "stream",
     "text": [
      "fr fr\n",
      "es es\n",
      "en en\n",
      "af en\n",
      "en en\n",
      "en en\n",
      "en en\n",
      "ro es\n",
      "fr fr\n",
      "es es\n",
      "it it\n",
      "ca es\n",
      "[228005616, 324420603, 150606880, 151036962]\n"
     ]
    }
   ],
   "source": [
    "harsh_reviewer_list = harsh_reviewer.tolist()\n",
    "harsh_reviewer_list_en = []\n",
    "for i in harsh_reviewer_list:\n",
    "    lang0 = detect(str(data[data['reviewer_id']== i].iloc[0]['cleaned_comments']))\n",
    "    lang1 = detect(str(data[data['reviewer_id']== i].iloc[1]['cleaned_comments']))\n",
    "    print(lang0, lang1)\n",
    "    if lang0 == 'en' and lang1 == 'en':\n",
    "        harsh_reviewer_list_en.append(i)\n",
    "print(harsh_reviewer_list_en)"
   ]
  },
  {
   "cell_type": "code",
   "execution_count": 60,
   "id": "3604e460-b3ff-4fde-a41c-257d41d323b6",
   "metadata": {},
   "outputs": [
    {
     "name": "stdout",
     "output_type": "stream",
     "text": [
      "        reviewer_id        date  \\\n",
      "65436     228005616  2022-01-07   \n",
      "65439     228005616  2022-01-21   \n",
      "65573     228005616  2022-06-28   \n",
      "65576     228005616  2022-07-07   \n",
      "65580     228005616  2022-07-22   \n",
      "65631     228005616  2022-07-29   \n",
      "65633     228005616  2022-08-05   \n",
      "67434     228005616  2022-06-24   \n",
      "212430    228005616  2022-04-01   \n",
      "289213    228005616  2021-12-09   \n",
      "364862    228005616  2022-06-17   \n",
      "364871    228005616  2022-07-14   \n",
      "\n",
      "                                                 comments   score  \n",
      "65436   My best Airbandb experience ever. Very easy ch...  0.9617  \n",
      "65439   I have been to many air b and bs but Evelyns i...  0.9577  \n",
      "65573   I have stayed at many Airbnbs for work and the...  0.9413  \n",
      "65576   Evelyn’s is my home away from home. She is a c...  0.6844  \n",
      "65580   Another amazing stay at Evelyn’s. 5 star ⭐️ al...  0.5859  \n",
      "65631   I stay at Evelyn’s because I work to far from ...  0.6124  \n",
      "65633               The absolute best Airbnb in the area.  0.6369  \n",
      "67434   I have stayed with many hosts in the area but ... -0.5499  \n",
      "212430  Patrick and Helen are the nicest hosts. The ap...  0.9264  \n",
      "289213  Very noisy tenant across hall talking and sing... -0.2484  \n",
      "364862              The best Airbandb that you will find.  0.6369  \n",
      "364871  You will not find a better Airbandb than Evely... -0.3412  \n",
      "=========================================\n",
      "        reviewer_id        date  \\\n",
      "157852    324420603  2021-04-24   \n",
      "265205    324420603  2020-08-26   \n",
      "265214    324420603  2020-09-15   \n",
      "265265    324420603  2021-01-06   \n",
      "268222    324420603  2021-02-09   \n",
      "280991    324420603  2020-02-09   \n",
      "300849    324420603  2021-02-15   \n",
      "331878    324420603  2021-03-01   \n",
      "360782    324420603  2021-02-23   \n",
      "374309    324420603  2021-04-06   \n",
      "393547    324420603  2022-04-18   \n",
      "\n",
      "                                                 comments   score  \n",
      "157852  Do not book this place because it has a really... -0.7948  \n",
      "265205      We loved the place. It was a very cozy place.  0.5994  \n",
      "265214  It was a wonderful stay and the host was very ...  0.7184  \n",
      "265265  The host is really nice and the place is very ...  0.9243  \n",
      "268222  The wifi was very bad and there were people up... -0.7956  \n",
      "280991  This place is really cozy and beautiful. And t...  0.8839  \n",
      "300849  The place was okay but was not very clean. The... -0.4142  \n",
      "331878  Loved Ly’s place. She was very understanding a...  0.8050  \n",
      "360782  The place was great! The host was very underst...  0.8707  \n",
      "374309  Deena was a wonderful host. She helped me with...  0.7778  \n",
      "393547  Henry’s place was really nice. It was clean an...  0.8473  \n",
      "=========================================\n",
      "        reviewer_id        date  \\\n",
      "184973    150606880  2020-07-27   \n",
      "184974    150606880  2020-07-28   \n",
      "184975    150606880  2020-07-29   \n",
      "184976    150606880  2020-08-01   \n",
      "184977    150606880  2020-08-03   \n",
      "274091    150606880  2020-09-17   \n",
      "274096    150606880  2020-09-18   \n",
      "274098    150606880  2020-09-20   \n",
      "295343    150606880  2020-09-02   \n",
      "305151    150606880  2020-09-30   \n",
      "305152    150606880  2020-10-01   \n",
      "323821    150606880  2020-08-11   \n",
      "323822    150606880  2020-08-15   \n",
      "333970    150606880  2020-08-07   \n",
      "\n",
      "                                                 comments   score  \n",
      "184973  Hi guys I had a horrible experience the host w... -0.9469  \n",
      "184974  I would not recommend this place at all the ho... -0.3189  \n",
      "184975                                Horrible experience -0.5423  \n",
      "184976         I would not recommend anyone to stay there -0.2755  \n",
      "184977  I would not recommend anyone to book this plac... -0.9384  \n",
      "274091  Irina is a wonderful host her place is very. S...  0.9594  \n",
      "274096                  Wonderful host nice place to stay  0.7579  \n",
      "274098  IRINA is a great host great and safe place to ...  0.9595  \n",
      "295343          Grace is a fantastic host I recommend  it  0.8360  \n",
      "305151  Violet is a great host I recommend you staying...  0.7650  \n",
      "305152  Hi violet is a great host very respectful clea...  0.9400  \n",
      "323821                        Heather is a wonderful host  0.5719  \n",
      "323822                         Heather was a great host 😄  0.6249  \n",
      "333970  Hi guys I would recommend you to stay in the p...  0.9322  \n",
      "=========================================\n",
      "        reviewer_id        date  \\\n",
      "218619    151036962  2021-12-11   \n",
      "218620    151036962  2021-12-17   \n",
      "232108    151036962  2021-05-30   \n",
      "260852    151036962  2021-05-23   \n",
      "262121    151036962  2021-12-17   \n",
      "358465    151036962  2021-05-03   \n",
      "\n",
      "                                                 comments   score  \n",
      "218619  The kitchen was available and the couch area f... -0.5835  \n",
      "218620  Rebecca wasn't the easiest person to live with... -0.1948  \n",
      "232108  Great communication and very accommodating. Al...  0.8608  \n",
      "260852  Great host and very communicative. Cleanliness...  0.9754  \n",
      "262121          Great hosts, thanks for your hospitality!  0.8070  \n",
      "358465  The exterior wasn't clean nor was the entry wa... -0.7101  \n",
      "=========================================\n"
     ]
    }
   ],
   "source": [
    "for i in harsh_reviewer_list_en:\n",
    "    print(data[data['reviewer_id']== i][['reviewer_id','date','comments','score']])\n",
    "    print('=========================================')"
   ]
  },
  {
   "cell_type": "markdown",
   "id": "4e9fde99-195d-4688-b930-7d6496d8af9b",
   "metadata": {},
   "source": [
    "It appears that there are indeed relatively strict reviewers, but in contract to our prior guess, they are all objective reviewer whom also have left some really good comments.\n",
    "\n",
    "We summarize our conclusions on this problem as follow:\n",
    "    \n",
    "1. there are very few strict reviewers (even if our criteria is not strict: have leave at least two reviews while two or more of them are negative reviews)\n",
    "    \n",
    "2. even if there are a few strict reviewers, these all seem relatively objective, we didn't find trolling reviewers that always leaving negative feedbacks to all their visited listings.\n",
    "    \n",
    "3. at first we were hoping to find out some really bad reviewers on Airbnb that will almost 'for sure' giving out negative reviews on almost every their visits, then it will be meaningful if we can have a list of these reviewers so that new Airbnb hosts can try to avoid these people. But we surprisingly failed to find such kind of person, our guesses on the reason behinds this are these three:\n",
    "        \n",
    "        1) These kind of user might get reported by hosts, hence Airbnb could suspend their account, hence there is no data in the dataset\n",
    "        \n",
    "        2) We have only looked at one city in Canada, the sample size is too small, there might be more of these people if we look at more cities\n",
    "        \n",
    "        3) The airbnb user population is indeed very polite and decent\n",
    "\n",
    "For future research, we will try to: \n",
    "\n",
    "1. automate the above code blocks so that we can perform similiar analysis on other cities.\n",
    "\n",
    "2. if we indeed find any really bad reviewers, we will provide a tool for new Airbnb hosts to look up the reviewer_id. To protect reviewer privacy, we will not publish the reviewer name and id, but we will provide an access point where hosts can input a reviewer_id, and we will return a boolean value to tell the host if the reviewer is indeed a trolling reviewer."
   ]
  },
  {
   "cell_type": "code",
   "execution_count": null,
   "id": "2295ff98-5fbb-4528-9d0b-a1959a8d199d",
   "metadata": {},
   "outputs": [],
   "source": []
  },
  {
   "cell_type": "code",
   "execution_count": null,
   "id": "8cc3bd08-25b5-46b0-b1fc-786197118e53",
   "metadata": {},
   "outputs": [],
   "source": []
  },
  {
   "cell_type": "markdown",
   "id": "828703ba-9b93-4e7b-9fc7-3041b7773bf8",
   "metadata": {},
   "source": [
    "### 2. Optional: Comparison of the ratio of favorable/unfavorable reviews in different regions"
   ]
  },
  {
   "cell_type": "code",
   "execution_count": null,
   "id": "1ac19e1b-3045-4a8f-9537-c9af74554548",
   "metadata": {},
   "outputs": [],
   "source": []
  },
  {
   "cell_type": "code",
   "execution_count": null,
   "id": "efe507ae-6faf-4fd6-a2e5-37a637c087ff",
   "metadata": {},
   "outputs": [],
   "source": []
  },
  {
   "cell_type": "code",
   "execution_count": null,
   "id": "d821c945-58a5-4995-b1f8-b9d7e41e44be",
   "metadata": {},
   "outputs": [],
   "source": []
  },
  {
   "cell_type": "markdown",
   "id": "ae0837a3-5d3f-4a61-a066-991a206585b0",
   "metadata": {},
   "source": [
    "### Optional: 3. The growth rate of airbnb host in the last 4 quarters?"
   ]
  },
  {
   "cell_type": "code",
   "execution_count": null,
   "id": "18d0f0e3-5d0c-4e80-9df2-a10433a47e71",
   "metadata": {},
   "outputs": [],
   "source": []
  },
  {
   "cell_type": "code",
   "execution_count": null,
   "id": "3ee69bfb-ef6e-4ae6-8dd4-3ddf815d8b2c",
   "metadata": {},
   "outputs": [],
   "source": []
  },
  {
   "cell_type": "code",
   "execution_count": null,
   "id": "700205fb-e529-4001-9de6-fcb2fe8e6ec4",
   "metadata": {},
   "outputs": [],
   "source": []
  },
  {
   "cell_type": "markdown",
   "id": "c5b30dc9-a86a-471d-bfef-0173c6d9c3e8",
   "metadata": {},
   "source": [
    "### 4. The language usage distribution of airbnb users?"
   ]
  },
  {
   "cell_type": "markdown",
   "id": "091cd4d3-6890-4aac-b624-a1ce0ae9d08b",
   "metadata": {},
   "source": [
    "We thought that English should be so overwhelmingly dominant that it would not be easy to spot significant reviewers of other languages. Yet we still found significnat portion of comments using non-English languages. Hence we explore a bit on what is the language usage distribution like base on Toronto."
   ]
  },
  {
   "cell_type": "code",
   "execution_count": 84,
   "id": "34bac3ba-9370-470c-ac6b-2dcb2f51d814",
   "metadata": {},
   "outputs": [
    {
     "data": {
      "text/html": [
       "<div>\n",
       "<style scoped>\n",
       "    .dataframe tbody tr th:only-of-type {\n",
       "        vertical-align: middle;\n",
       "    }\n",
       "\n",
       "    .dataframe tbody tr th {\n",
       "        vertical-align: top;\n",
       "    }\n",
       "\n",
       "    .dataframe thead th {\n",
       "        text-align: right;\n",
       "    }\n",
       "</style>\n",
       "<table border=\"1\" class=\"dataframe\">\n",
       "  <thead>\n",
       "    <tr style=\"text-align: right;\">\n",
       "      <th></th>\n",
       "      <th>reviewer_id</th>\n",
       "      <th>cleaned_comments</th>\n",
       "    </tr>\n",
       "  </thead>\n",
       "  <tbody>\n",
       "    <tr>\n",
       "      <th>0</th>\n",
       "      <td>11308465</td>\n",
       "      <td>Having the opportunity of arriving to Alexandr...</td>\n",
       "    </tr>\n",
       "    <tr>\n",
       "      <th>1</th>\n",
       "      <td>9580285</td>\n",
       "      <td>We have no enough words to describe how beauty...</td>\n",
       "    </tr>\n",
       "    <tr>\n",
       "      <th>2</th>\n",
       "      <td>38394721</td>\n",
       "      <td>The listing was exceptional and an even better...</td>\n",
       "    </tr>\n",
       "    <tr>\n",
       "      <th>3</th>\n",
       "      <td>3515044</td>\n",
       "      <td>Alexandra's home was amazing and in such a nea...</td>\n",
       "    </tr>\n",
       "    <tr>\n",
       "      <th>4</th>\n",
       "      <td>13987100</td>\n",
       "      <td>Beautiful home. Very comfortable and clean. Pe...</td>\n",
       "    </tr>\n",
       "    <tr>\n",
       "      <th>...</th>\n",
       "      <td>...</td>\n",
       "      <td>...</td>\n",
       "    </tr>\n",
       "    <tr>\n",
       "      <th>437480</th>\n",
       "      <td>27229658</td>\n",
       "      <td>Host was friendly and helpful, and the home wa...</td>\n",
       "    </tr>\n",
       "    <tr>\n",
       "      <th>437481</th>\n",
       "      <td>484701591</td>\n",
       "      <td>Salah was super kind and the Airbnb was super ...</td>\n",
       "    </tr>\n",
       "    <tr>\n",
       "      <th>437482</th>\n",
       "      <td>19571570</td>\n",
       "      <td>Great and comfortable place to stay. Very prof...</td>\n",
       "    </tr>\n",
       "    <tr>\n",
       "      <th>437483</th>\n",
       "      <td>142989071</td>\n",
       "      <td>Nice and clean place</td>\n",
       "    </tr>\n",
       "    <tr>\n",
       "      <th>437484</th>\n",
       "      <td>135755978</td>\n",
       "      <td>I booked this unit for a work stay in Toronto,...</td>\n",
       "    </tr>\n",
       "  </tbody>\n",
       "</table>\n",
       "<p>437439 rows × 2 columns</p>\n",
       "</div>"
      ],
      "text/plain": [
       "        reviewer_id                                   cleaned_comments\n",
       "0          11308465  Having the opportunity of arriving to Alexandr...\n",
       "1           9580285  We have no enough words to describe how beauty...\n",
       "2          38394721  The listing was exceptional and an even better...\n",
       "3           3515044  Alexandra's home was amazing and in such a nea...\n",
       "4          13987100  Beautiful home. Very comfortable and clean. Pe...\n",
       "...             ...                                                ...\n",
       "437480     27229658  Host was friendly and helpful, and the home wa...\n",
       "437481    484701591  Salah was super kind and the Airbnb was super ...\n",
       "437482     19571570  Great and comfortable place to stay. Very prof...\n",
       "437483    142989071                               Nice and clean place\n",
       "437484    135755978  I booked this unit for a work stay in Toronto,...\n",
       "\n",
       "[437439 rows x 2 columns]"
      ]
     },
     "execution_count": 84,
     "metadata": {},
     "output_type": "execute_result"
    }
   ],
   "source": [
    "data_small = data[['reviewer_id','cleaned_comments']]\n",
    "data_small"
   ]
  },
  {
   "cell_type": "markdown",
   "id": "7441f0cc-f2d3-4937-bd1c-e6136eb54426",
   "metadata": {},
   "source": [
    "We check what language does the reviewer uses, since sometimes different languages might be similar in certain vocabulary, we compute the mode of the detected language in the review for each reviewer."
   ]
  },
  {
   "cell_type": "code",
   "execution_count": 67,
   "id": "e05d8230-0075-4bac-bddd-9b740d20130b",
   "metadata": {},
   "outputs": [],
   "source": [
    "from langdetect import detect\n",
    "\n",
    "def detect_language(text):\n",
    "    try:\n",
    "        lang = detect(text)\n",
    "        return lang\n",
    "    except:\n",
    "        return None"
   ]
  },
  {
   "cell_type": "markdown",
   "id": "9ea2e18b-dddb-42c5-b225-ca1d9b8e0e7c",
   "metadata": {},
   "source": [
    "We now look at the # of reviewers in the Toronto dataset:"
   ]
  },
  {
   "cell_type": "code",
   "execution_count": 147,
   "id": "f321b83c-dd77-4ed8-8385-2a362e9cde01",
   "metadata": {},
   "outputs": [
    {
     "data": {
      "text/plain": [
       "reviewer_id\n",
       "1396         1\n",
       "1565         2\n",
       "1744         1\n",
       "1853         1\n",
       "2078         1\n",
       "            ..\n",
       "489843144    1\n",
       "489863916    1\n",
       "489917960    1\n",
       "489926082    1\n",
       "490009658    1\n",
       "Length: 374433, dtype: int64"
      ]
     },
     "execution_count": 147,
     "metadata": {},
     "output_type": "execute_result"
    }
   ],
   "source": [
    "data.groupby('reviewer_id').size()"
   ]
  },
  {
   "cell_type": "markdown",
   "id": "b5d63537-2b56-448e-98f5-3671162943a5",
   "metadata": {},
   "source": [
    "It appears that there were 374433 unique reviewers"
   ]
  },
  {
   "cell_type": "markdown",
   "id": "84402f92-e853-4139-92f6-bc19e3aefdae",
   "metadata": {},
   "source": [
    "Due to the heavy computational cost, we did not performed this analysis on every row, instead we sampled 20000 rows from the dataset (roungly 5% of the population)"
   ]
  },
  {
   "cell_type": "code",
   "execution_count": 118,
   "id": "d966b3e7-abb6-4606-a29e-37a223525b49",
   "metadata": {},
   "outputs": [],
   "source": [
    "data_grouped = data.sample(n=20000, random_state=123).groupby('reviewer_id')"
   ]
  },
  {
   "cell_type": "code",
   "execution_count": 119,
   "id": "81819590-d6f1-4b54-b6d6-a03dc64b8391",
   "metadata": {},
   "outputs": [
    {
     "data": {
      "text/plain": [
       "reviewer_id   \n",
       "2385         0    en\n",
       "9758         0    en\n",
       "10486        0    en\n",
       "11298        0    fr\n",
       "14267        0    en\n",
       "                  ..\n",
       "487704121    0    ro\n",
       "487748616    0    en\n",
       "488359545    0    sl\n",
       "488789203    0    en\n",
       "489015568    0    en\n",
       "Name: cleaned_comments, Length: 19582, dtype: object"
      ]
     },
     "execution_count": 119,
     "metadata": {},
     "output_type": "execute_result"
    }
   ],
   "source": [
    "languages = data_grouped['cleaned_comments'].apply(lambda x: x.apply(detect_language).mode())\n",
    "languages"
   ]
  },
  {
   "cell_type": "code",
   "execution_count": 120,
   "id": "cbc3f080-f1d5-4db6-a156-a0d839025baf",
   "metadata": {},
   "outputs": [
    {
     "data": {
      "text/html": [
       "<div>\n",
       "<style scoped>\n",
       "    .dataframe tbody tr th:only-of-type {\n",
       "        vertical-align: middle;\n",
       "    }\n",
       "\n",
       "    .dataframe tbody tr th {\n",
       "        vertical-align: top;\n",
       "    }\n",
       "\n",
       "    .dataframe thead th {\n",
       "        text-align: right;\n",
       "    }\n",
       "</style>\n",
       "<table border=\"1\" class=\"dataframe\">\n",
       "  <thead>\n",
       "    <tr style=\"text-align: right;\">\n",
       "      <th></th>\n",
       "      <th>reviewer_id</th>\n",
       "      <th>language</th>\n",
       "    </tr>\n",
       "  </thead>\n",
       "  <tbody>\n",
       "    <tr>\n",
       "      <th>0</th>\n",
       "      <td>2385</td>\n",
       "      <td>en</td>\n",
       "    </tr>\n",
       "    <tr>\n",
       "      <th>1</th>\n",
       "      <td>9758</td>\n",
       "      <td>en</td>\n",
       "    </tr>\n",
       "    <tr>\n",
       "      <th>2</th>\n",
       "      <td>10486</td>\n",
       "      <td>en</td>\n",
       "    </tr>\n",
       "    <tr>\n",
       "      <th>3</th>\n",
       "      <td>11298</td>\n",
       "      <td>fr</td>\n",
       "    </tr>\n",
       "    <tr>\n",
       "      <th>4</th>\n",
       "      <td>14267</td>\n",
       "      <td>en</td>\n",
       "    </tr>\n",
       "    <tr>\n",
       "      <th>...</th>\n",
       "      <td>...</td>\n",
       "      <td>...</td>\n",
       "    </tr>\n",
       "    <tr>\n",
       "      <th>19577</th>\n",
       "      <td>487704121</td>\n",
       "      <td>ro</td>\n",
       "    </tr>\n",
       "    <tr>\n",
       "      <th>19578</th>\n",
       "      <td>487748616</td>\n",
       "      <td>en</td>\n",
       "    </tr>\n",
       "    <tr>\n",
       "      <th>19579</th>\n",
       "      <td>488359545</td>\n",
       "      <td>sl</td>\n",
       "    </tr>\n",
       "    <tr>\n",
       "      <th>19580</th>\n",
       "      <td>488789203</td>\n",
       "      <td>en</td>\n",
       "    </tr>\n",
       "    <tr>\n",
       "      <th>19581</th>\n",
       "      <td>489015568</td>\n",
       "      <td>en</td>\n",
       "    </tr>\n",
       "  </tbody>\n",
       "</table>\n",
       "<p>19582 rows × 2 columns</p>\n",
       "</div>"
      ],
      "text/plain": [
       "       reviewer_id language\n",
       "0             2385       en\n",
       "1             9758       en\n",
       "2            10486       en\n",
       "3            11298       fr\n",
       "4            14267       en\n",
       "...            ...      ...\n",
       "19577    487704121       ro\n",
       "19578    487748616       en\n",
       "19579    488359545       sl\n",
       "19580    488789203       en\n",
       "19581    489015568       en\n",
       "\n",
       "[19582 rows x 2 columns]"
      ]
     },
     "execution_count": 120,
     "metadata": {},
     "output_type": "execute_result"
    }
   ],
   "source": [
    "languages_df = languages.to_frame().reset_index()[['reviewer_id','cleaned_comments']]\n",
    "languages_df.columns = ['reviewer_id', 'language']\n",
    "languages_df"
   ]
  },
  {
   "cell_type": "markdown",
   "id": "bf698f72-f99c-4b3c-a47b-51bb25269c94",
   "metadata": {},
   "source": [
    "We obtain a count for each languages, and then we use iso-639 library to encode each language code to the full name of the language."
   ]
  },
  {
   "cell_type": "code",
   "execution_count": 125,
   "id": "0d716f47-0e2c-4d1b-bede-a79adc64c761",
   "metadata": {},
   "outputs": [
    {
     "data": {
      "text/plain": [
       "en    18136\n",
       "fr      585\n",
       "es      260\n",
       "ro       96\n",
       "de       89\n",
       "pt       77\n",
       "so       48\n",
       "af       42\n",
       "it       35\n",
       "ca       29\n",
       "cs       29\n",
       "nl       25\n",
       "tl       22\n",
       "pl       17\n",
       "sw       13\n",
       "id       12\n",
       "da       11\n",
       "hu       11\n",
       "cy        7\n",
       "no        6\n",
       "vi        6\n",
       "hr        5\n",
       "sl        5\n",
       "sv        4\n",
       "et        3\n",
       "fi        3\n",
       "tr        3\n",
       "sq        1\n",
       "lv        1\n",
       "sk        1\n",
       "Name: language, dtype: int64"
      ]
     },
     "execution_count": 125,
     "metadata": {},
     "output_type": "execute_result"
    }
   ],
   "source": [
    "# assuming you have a Pandas DataFrame called 'df' with a 'language' column\n",
    "# and you want to count the number of occurrences of each language\n",
    "lang_counts = languages_df['language'].value_counts()\n",
    "lang_counts"
   ]
  },
  {
   "cell_type": "code",
   "execution_count": 126,
   "id": "f7ecdbaf-4ff5-46af-8574-e007c3fac90d",
   "metadata": {},
   "outputs": [],
   "source": [
    "import iso639\n",
    "lang_names = [iso639.to_name(lang_code) for lang_code in lang_counts.index]"
   ]
  },
  {
   "cell_type": "code",
   "execution_count": 127,
   "id": "2f81b275-619f-4228-9e95-270ee8fa64ab",
   "metadata": {},
   "outputs": [
    {
     "data": {
      "text/plain": [
       "English                          18136\n",
       "French                             585\n",
       "Spanish; Castilian                 260\n",
       "Romanian; Moldavian; Moldovan       96\n",
       "German                              89\n",
       "Portuguese                          77\n",
       "Somali                              48\n",
       "Afrikaans                           42\n",
       "Italian                             35\n",
       "Catalan; Valencian                  29\n",
       "Czech                               29\n",
       "Dutch; Flemish                      25\n",
       "Tagalog                             22\n",
       "Polish                              17\n",
       "Swahili                             13\n",
       "Indonesian                          12\n",
       "Danish                              11\n",
       "Hungarian                           11\n",
       "Welsh                                7\n",
       "Norwegian                            6\n",
       "Vietnamese                           6\n",
       "Croatian                             5\n",
       "Slovenian; Slovene                   5\n",
       "Swedish                              4\n",
       "Estonian                             3\n",
       "Finnish                              3\n",
       "Turkish                              3\n",
       "Albanian                             1\n",
       "Latvian                              1\n",
       "Slovak                               1\n",
       "Name: language, dtype: int64"
      ]
     },
     "execution_count": 127,
     "metadata": {},
     "output_type": "execute_result"
    }
   ],
   "source": [
    "lang_counts.index = lang_names\n",
    "lang_counts"
   ]
  },
  {
   "cell_type": "markdown",
   "id": "e9c8e4bb-dcba-4484-ae29-0651b4b534da",
   "metadata": {},
   "source": [
    "We use a threshold of 5 occurence to avoid too many categories in the visualization, if the occurence is below 5, it will be categorized as 'Other'"
   ]
  },
  {
   "cell_type": "code",
   "execution_count": 130,
   "id": "25a9a7c6-c643-48b1-9372-2a8aa086162e",
   "metadata": {},
   "outputs": [
    {
     "data": {
      "text/plain": [
       "English                          18136\n",
       "French                             585\n",
       "Spanish; Castilian                 260\n",
       "Romanian; Moldavian; Moldovan       96\n",
       "German                              89\n",
       "Portuguese                          77\n",
       "Somali                              48\n",
       "Afrikaans                           42\n",
       "Italian                             35\n",
       "Catalan; Valencian                  29\n",
       "Czech                               29\n",
       "Dutch; Flemish                      25\n",
       "Tagalog                             22\n",
       "Polish                              17\n",
       "Swahili                             13\n",
       "Indonesian                          12\n",
       "Danish                              11\n",
       "Hungarian                           11\n",
       "Other                               45\n",
       "Name: language, dtype: int64"
      ]
     },
     "execution_count": 130,
     "metadata": {},
     "output_type": "execute_result"
    }
   ],
   "source": [
    "# set a threshold for the minimum number of occurrences\n",
    "threshold = 10\n",
    "\n",
    "# filter the language counts to include only languages with at least 'threshold' occurrences\n",
    "filtered_lang_counts = lang_counts[lang_counts >= threshold]\n",
    "\n",
    "# combine the remaining languages into an 'other' category\n",
    "other_lang_count = lang_counts[lang_counts < threshold].sum()\n",
    "filtered_lang_counts['Other'] = other_lang_count\n",
    "\n",
    "filtered_lang_counts"
   ]
  },
  {
   "cell_type": "markdown",
   "id": "aa403fcd-dd8c-46b1-8829-dd3a08c690d4",
   "metadata": {},
   "source": [
    "We now draw a pie-chart"
   ]
  },
  {
   "cell_type": "code",
   "execution_count": 146,
   "id": "7faac7f1-8a35-4b51-bfe6-72c166cca49f",
   "metadata": {},
   "outputs": [
    {
     "data": {
      "application/vnd.plotly.v1+json": {
       "config": {
        "plotlyServerURL": "https://plot.ly"
       },
       "data": [
        {
         "labels": [
          "English",
          "French",
          "Spanish; Castilian",
          "Romanian; Moldavian; Moldovan",
          "German",
          "Portuguese",
          "Somali",
          "Afrikaans",
          "Italian",
          "Catalan; Valencian",
          "Czech",
          "Dutch; Flemish",
          "Tagalog",
          "Polish",
          "Swahili",
          "Indonesian",
          "Danish",
          "Hungarian",
          "Other"
         ],
         "marker": {
          "colors": [
           "rgb(124, 124, 124)",
           "rgb(140, 120, 93)",
           "rgb(160, 97, 119)",
           "rgb(156, 156, 94)",
           "rgb(104, 133, 92)",
           "rgb(98, 83, 119)",
           "rgb(82, 106, 131)",
           "rgb(115, 111, 76)",
           "rgb(175, 100, 88)",
           "rgb(217, 175, 107)",
           "rgb(133, 92, 117)"
          ]
         },
         "pull": [
          0,
          0.2,
          0.2,
          0.2,
          0.2,
          0.2,
          0.2,
          0.2,
          0.2,
          0.2,
          0.2,
          0.2,
          0.2,
          0.2,
          0.2,
          0.2,
          0.2,
          0.2,
          0.2
         ],
         "textposition": "inside",
         "type": "pie",
         "values": [
          18136,
          585,
          260,
          96,
          89,
          77,
          48,
          42,
          35,
          29,
          29,
          25,
          22,
          17,
          13,
          12,
          11,
          11,
          45
         ]
        }
       ],
       "layout": {
        "height": 600,
        "template": {
         "data": {
          "bar": [
           {
            "error_x": {
             "color": "#2a3f5f"
            },
            "error_y": {
             "color": "#2a3f5f"
            },
            "marker": {
             "line": {
              "color": "#E5ECF6",
              "width": 0.5
             },
             "pattern": {
              "fillmode": "overlay",
              "size": 10,
              "solidity": 0.2
             }
            },
            "type": "bar"
           }
          ],
          "barpolar": [
           {
            "marker": {
             "line": {
              "color": "#E5ECF6",
              "width": 0.5
             },
             "pattern": {
              "fillmode": "overlay",
              "size": 10,
              "solidity": 0.2
             }
            },
            "type": "barpolar"
           }
          ],
          "carpet": [
           {
            "aaxis": {
             "endlinecolor": "#2a3f5f",
             "gridcolor": "white",
             "linecolor": "white",
             "minorgridcolor": "white",
             "startlinecolor": "#2a3f5f"
            },
            "baxis": {
             "endlinecolor": "#2a3f5f",
             "gridcolor": "white",
             "linecolor": "white",
             "minorgridcolor": "white",
             "startlinecolor": "#2a3f5f"
            },
            "type": "carpet"
           }
          ],
          "choropleth": [
           {
            "colorbar": {
             "outlinewidth": 0,
             "ticks": ""
            },
            "type": "choropleth"
           }
          ],
          "contour": [
           {
            "colorbar": {
             "outlinewidth": 0,
             "ticks": ""
            },
            "colorscale": [
             [
              0,
              "#0d0887"
             ],
             [
              0.1111111111111111,
              "#46039f"
             ],
             [
              0.2222222222222222,
              "#7201a8"
             ],
             [
              0.3333333333333333,
              "#9c179e"
             ],
             [
              0.4444444444444444,
              "#bd3786"
             ],
             [
              0.5555555555555556,
              "#d8576b"
             ],
             [
              0.6666666666666666,
              "#ed7953"
             ],
             [
              0.7777777777777778,
              "#fb9f3a"
             ],
             [
              0.8888888888888888,
              "#fdca26"
             ],
             [
              1,
              "#f0f921"
             ]
            ],
            "type": "contour"
           }
          ],
          "contourcarpet": [
           {
            "colorbar": {
             "outlinewidth": 0,
             "ticks": ""
            },
            "type": "contourcarpet"
           }
          ],
          "heatmap": [
           {
            "colorbar": {
             "outlinewidth": 0,
             "ticks": ""
            },
            "colorscale": [
             [
              0,
              "#0d0887"
             ],
             [
              0.1111111111111111,
              "#46039f"
             ],
             [
              0.2222222222222222,
              "#7201a8"
             ],
             [
              0.3333333333333333,
              "#9c179e"
             ],
             [
              0.4444444444444444,
              "#bd3786"
             ],
             [
              0.5555555555555556,
              "#d8576b"
             ],
             [
              0.6666666666666666,
              "#ed7953"
             ],
             [
              0.7777777777777778,
              "#fb9f3a"
             ],
             [
              0.8888888888888888,
              "#fdca26"
             ],
             [
              1,
              "#f0f921"
             ]
            ],
            "type": "heatmap"
           }
          ],
          "heatmapgl": [
           {
            "colorbar": {
             "outlinewidth": 0,
             "ticks": ""
            },
            "colorscale": [
             [
              0,
              "#0d0887"
             ],
             [
              0.1111111111111111,
              "#46039f"
             ],
             [
              0.2222222222222222,
              "#7201a8"
             ],
             [
              0.3333333333333333,
              "#9c179e"
             ],
             [
              0.4444444444444444,
              "#bd3786"
             ],
             [
              0.5555555555555556,
              "#d8576b"
             ],
             [
              0.6666666666666666,
              "#ed7953"
             ],
             [
              0.7777777777777778,
              "#fb9f3a"
             ],
             [
              0.8888888888888888,
              "#fdca26"
             ],
             [
              1,
              "#f0f921"
             ]
            ],
            "type": "heatmapgl"
           }
          ],
          "histogram": [
           {
            "marker": {
             "pattern": {
              "fillmode": "overlay",
              "size": 10,
              "solidity": 0.2
             }
            },
            "type": "histogram"
           }
          ],
          "histogram2d": [
           {
            "colorbar": {
             "outlinewidth": 0,
             "ticks": ""
            },
            "colorscale": [
             [
              0,
              "#0d0887"
             ],
             [
              0.1111111111111111,
              "#46039f"
             ],
             [
              0.2222222222222222,
              "#7201a8"
             ],
             [
              0.3333333333333333,
              "#9c179e"
             ],
             [
              0.4444444444444444,
              "#bd3786"
             ],
             [
              0.5555555555555556,
              "#d8576b"
             ],
             [
              0.6666666666666666,
              "#ed7953"
             ],
             [
              0.7777777777777778,
              "#fb9f3a"
             ],
             [
              0.8888888888888888,
              "#fdca26"
             ],
             [
              1,
              "#f0f921"
             ]
            ],
            "type": "histogram2d"
           }
          ],
          "histogram2dcontour": [
           {
            "colorbar": {
             "outlinewidth": 0,
             "ticks": ""
            },
            "colorscale": [
             [
              0,
              "#0d0887"
             ],
             [
              0.1111111111111111,
              "#46039f"
             ],
             [
              0.2222222222222222,
              "#7201a8"
             ],
             [
              0.3333333333333333,
              "#9c179e"
             ],
             [
              0.4444444444444444,
              "#bd3786"
             ],
             [
              0.5555555555555556,
              "#d8576b"
             ],
             [
              0.6666666666666666,
              "#ed7953"
             ],
             [
              0.7777777777777778,
              "#fb9f3a"
             ],
             [
              0.8888888888888888,
              "#fdca26"
             ],
             [
              1,
              "#f0f921"
             ]
            ],
            "type": "histogram2dcontour"
           }
          ],
          "mesh3d": [
           {
            "colorbar": {
             "outlinewidth": 0,
             "ticks": ""
            },
            "type": "mesh3d"
           }
          ],
          "parcoords": [
           {
            "line": {
             "colorbar": {
              "outlinewidth": 0,
              "ticks": ""
             }
            },
            "type": "parcoords"
           }
          ],
          "pie": [
           {
            "automargin": true,
            "type": "pie"
           }
          ],
          "scatter": [
           {
            "fillpattern": {
             "fillmode": "overlay",
             "size": 10,
             "solidity": 0.2
            },
            "type": "scatter"
           }
          ],
          "scatter3d": [
           {
            "line": {
             "colorbar": {
              "outlinewidth": 0,
              "ticks": ""
             }
            },
            "marker": {
             "colorbar": {
              "outlinewidth": 0,
              "ticks": ""
             }
            },
            "type": "scatter3d"
           }
          ],
          "scattercarpet": [
           {
            "marker": {
             "colorbar": {
              "outlinewidth": 0,
              "ticks": ""
             }
            },
            "type": "scattercarpet"
           }
          ],
          "scattergeo": [
           {
            "marker": {
             "colorbar": {
              "outlinewidth": 0,
              "ticks": ""
             }
            },
            "type": "scattergeo"
           }
          ],
          "scattergl": [
           {
            "marker": {
             "colorbar": {
              "outlinewidth": 0,
              "ticks": ""
             }
            },
            "type": "scattergl"
           }
          ],
          "scattermapbox": [
           {
            "marker": {
             "colorbar": {
              "outlinewidth": 0,
              "ticks": ""
             }
            },
            "type": "scattermapbox"
           }
          ],
          "scatterpolar": [
           {
            "marker": {
             "colorbar": {
              "outlinewidth": 0,
              "ticks": ""
             }
            },
            "type": "scatterpolar"
           }
          ],
          "scatterpolargl": [
           {
            "marker": {
             "colorbar": {
              "outlinewidth": 0,
              "ticks": ""
             }
            },
            "type": "scatterpolargl"
           }
          ],
          "scatterternary": [
           {
            "marker": {
             "colorbar": {
              "outlinewidth": 0,
              "ticks": ""
             }
            },
            "type": "scatterternary"
           }
          ],
          "surface": [
           {
            "colorbar": {
             "outlinewidth": 0,
             "ticks": ""
            },
            "colorscale": [
             [
              0,
              "#0d0887"
             ],
             [
              0.1111111111111111,
              "#46039f"
             ],
             [
              0.2222222222222222,
              "#7201a8"
             ],
             [
              0.3333333333333333,
              "#9c179e"
             ],
             [
              0.4444444444444444,
              "#bd3786"
             ],
             [
              0.5555555555555556,
              "#d8576b"
             ],
             [
              0.6666666666666666,
              "#ed7953"
             ],
             [
              0.7777777777777778,
              "#fb9f3a"
             ],
             [
              0.8888888888888888,
              "#fdca26"
             ],
             [
              1,
              "#f0f921"
             ]
            ],
            "type": "surface"
           }
          ],
          "table": [
           {
            "cells": {
             "fill": {
              "color": "#EBF0F8"
             },
             "line": {
              "color": "white"
             }
            },
            "header": {
             "fill": {
              "color": "#C8D4E3"
             },
             "line": {
              "color": "white"
             }
            },
            "type": "table"
           }
          ]
         },
         "layout": {
          "annotationdefaults": {
           "arrowcolor": "#2a3f5f",
           "arrowhead": 0,
           "arrowwidth": 1
          },
          "autotypenumbers": "strict",
          "coloraxis": {
           "colorbar": {
            "outlinewidth": 0,
            "ticks": ""
           }
          },
          "colorscale": {
           "diverging": [
            [
             0,
             "#8e0152"
            ],
            [
             0.1,
             "#c51b7d"
            ],
            [
             0.2,
             "#de77ae"
            ],
            [
             0.3,
             "#f1b6da"
            ],
            [
             0.4,
             "#fde0ef"
            ],
            [
             0.5,
             "#f7f7f7"
            ],
            [
             0.6,
             "#e6f5d0"
            ],
            [
             0.7,
             "#b8e186"
            ],
            [
             0.8,
             "#7fbc41"
            ],
            [
             0.9,
             "#4d9221"
            ],
            [
             1,
             "#276419"
            ]
           ],
           "sequential": [
            [
             0,
             "#0d0887"
            ],
            [
             0.1111111111111111,
             "#46039f"
            ],
            [
             0.2222222222222222,
             "#7201a8"
            ],
            [
             0.3333333333333333,
             "#9c179e"
            ],
            [
             0.4444444444444444,
             "#bd3786"
            ],
            [
             0.5555555555555556,
             "#d8576b"
            ],
            [
             0.6666666666666666,
             "#ed7953"
            ],
            [
             0.7777777777777778,
             "#fb9f3a"
            ],
            [
             0.8888888888888888,
             "#fdca26"
            ],
            [
             1,
             "#f0f921"
            ]
           ],
           "sequentialminus": [
            [
             0,
             "#0d0887"
            ],
            [
             0.1111111111111111,
             "#46039f"
            ],
            [
             0.2222222222222222,
             "#7201a8"
            ],
            [
             0.3333333333333333,
             "#9c179e"
            ],
            [
             0.4444444444444444,
             "#bd3786"
            ],
            [
             0.5555555555555556,
             "#d8576b"
            ],
            [
             0.6666666666666666,
             "#ed7953"
            ],
            [
             0.7777777777777778,
             "#fb9f3a"
            ],
            [
             0.8888888888888888,
             "#fdca26"
            ],
            [
             1,
             "#f0f921"
            ]
           ]
          },
          "colorway": [
           "#636efa",
           "#EF553B",
           "#00cc96",
           "#ab63fa",
           "#FFA15A",
           "#19d3f3",
           "#FF6692",
           "#B6E880",
           "#FF97FF",
           "#FECB52"
          ],
          "font": {
           "color": "#2a3f5f"
          },
          "geo": {
           "bgcolor": "white",
           "lakecolor": "white",
           "landcolor": "#E5ECF6",
           "showlakes": true,
           "showland": true,
           "subunitcolor": "white"
          },
          "hoverlabel": {
           "align": "left"
          },
          "hovermode": "closest",
          "mapbox": {
           "style": "light"
          },
          "paper_bgcolor": "white",
          "plot_bgcolor": "#E5ECF6",
          "polar": {
           "angularaxis": {
            "gridcolor": "white",
            "linecolor": "white",
            "ticks": ""
           },
           "bgcolor": "#E5ECF6",
           "radialaxis": {
            "gridcolor": "white",
            "linecolor": "white",
            "ticks": ""
           }
          },
          "scene": {
           "xaxis": {
            "backgroundcolor": "#E5ECF6",
            "gridcolor": "white",
            "gridwidth": 2,
            "linecolor": "white",
            "showbackground": true,
            "ticks": "",
            "zerolinecolor": "white"
           },
           "yaxis": {
            "backgroundcolor": "#E5ECF6",
            "gridcolor": "white",
            "gridwidth": 2,
            "linecolor": "white",
            "showbackground": true,
            "ticks": "",
            "zerolinecolor": "white"
           },
           "zaxis": {
            "backgroundcolor": "#E5ECF6",
            "gridcolor": "white",
            "gridwidth": 2,
            "linecolor": "white",
            "showbackground": true,
            "ticks": "",
            "zerolinecolor": "white"
           }
          },
          "shapedefaults": {
           "line": {
            "color": "#2a3f5f"
           }
          },
          "ternary": {
           "aaxis": {
            "gridcolor": "white",
            "linecolor": "white",
            "ticks": ""
           },
           "baxis": {
            "gridcolor": "white",
            "linecolor": "white",
            "ticks": ""
           },
           "bgcolor": "#E5ECF6",
           "caxis": {
            "gridcolor": "white",
            "linecolor": "white",
            "ticks": ""
           }
          },
          "title": {
           "x": 0.05
          },
          "xaxis": {
           "automargin": true,
           "gridcolor": "white",
           "linecolor": "white",
           "ticks": "",
           "title": {
            "standoff": 15
           },
           "zerolinecolor": "white",
           "zerolinewidth": 2
          },
          "yaxis": {
           "automargin": true,
           "gridcolor": "white",
           "linecolor": "white",
           "ticks": "",
           "title": {
            "standoff": 15
           },
           "zerolinecolor": "white",
           "zerolinewidth": 2
          }
         }
        },
        "title": {
         "text": "Languages",
         "x": 0.5
        },
        "width": 800
       }
      },
      "image/png": "[encoded data removed]",
      "text/html": [
       "<div>                            <div id=\"4480a63d-5442-48b0-a312-df530f71b718\" class=\"plotly-graph-div\" style=\"height:600px; width:800px;\"></div>            <script type=\"text/javascript\">                require([\"plotly\"], function(Plotly) {                    window.PLOTLYENV=window.PLOTLYENV || {};                                    if (document.getElementById(\"4480a63d-5442-48b0-a312-df530f71b718\")) {                    Plotly.newPlot(                        \"4480a63d-5442-48b0-a312-df530f71b718\",                        [{\"labels\":[\"English\",\"French\",\"Spanish; Castilian\",\"Romanian; Moldavian; Moldovan\",\"German\",\"Portuguese\",\"Somali\",\"Afrikaans\",\"Italian\",\"Catalan; Valencian\",\"Czech\",\"Dutch; Flemish\",\"Tagalog\",\"Polish\",\"Swahili\",\"Indonesian\",\"Danish\",\"Hungarian\",\"Other\"],\"marker\":{\"colors\":[\"rgb(124, 124, 124)\",\"rgb(140, 120, 93)\",\"rgb(160, 97, 119)\",\"rgb(156, 156, 94)\",\"rgb(104, 133, 92)\",\"rgb(98, 83, 119)\",\"rgb(82, 106, 131)\",\"rgb(115, 111, 76)\",\"rgb(175, 100, 88)\",\"rgb(217, 175, 107)\",\"rgb(133, 92, 117)\"]},\"pull\":[0,0.2,0.2,0.2,0.2,0.2,0.2,0.2,0.2,0.2,0.2,0.2,0.2,0.2,0.2,0.2,0.2,0.2,0.2],\"values\":[18136,585,260,96,89,77,48,42,35,29,29,25,22,17,13,12,11,11,45],\"type\":\"pie\",\"textposition\":\"inside\"}],                        {\"template\":{\"data\":{\"histogram2dcontour\":[{\"type\":\"histogram2dcontour\",\"colorbar\":{\"outlinewidth\":0,\"ticks\":\"\"},\"colorscale\":[[0.0,\"#0d0887\"],[0.1111111111111111,\"#46039f\"],[0.2222222222222222,\"#7201a8\"],[0.3333333333333333,\"#9c179e\"],[0.4444444444444444,\"#bd3786\"],[0.5555555555555556,\"#d8576b\"],[0.6666666666666666,\"#ed7953\"],[0.7777777777777778,\"#fb9f3a\"],[0.8888888888888888,\"#fdca26\"],[1.0,\"#f0f921\"]]}],\"choropleth\":[{\"type\":\"choropleth\",\"colorbar\":{\"outlinewidth\":0,\"ticks\":\"\"}}],\"histogram2d\":[{\"type\":\"histogram2d\",\"colorbar\":{\"outlinewidth\":0,\"ticks\":\"\"},\"colorscale\":[[0.0,\"#0d0887\"],[0.1111111111111111,\"#46039f\"],[0.2222222222222222,\"#7201a8\"],[0.3333333333333333,\"#9c179e\"],[0.4444444444444444,\"#bd3786\"],[0.5555555555555556,\"#d8576b\"],[0.6666666666666666,\"#ed7953\"],[0.7777777777777778,\"#fb9f3a\"],[0.8888888888888888,\"#fdca26\"],[1.0,\"#f0f921\"]]}],\"heatmap\":[{\"type\":\"heatmap\",\"colorbar\":{\"outlinewidth\":0,\"ticks\":\"\"},\"colorscale\":[[0.0,\"#0d0887\"],[0.1111111111111111,\"#46039f\"],[0.2222222222222222,\"#7201a8\"],[0.3333333333333333,\"#9c179e\"],[0.4444444444444444,\"#bd3786\"],[0.5555555555555556,\"#d8576b\"],[0.6666666666666666,\"#ed7953\"],[0.7777777777777778,\"#fb9f3a\"],[0.8888888888888888,\"#fdca26\"],[1.0,\"#f0f921\"]]}],\"heatmapgl\":[{\"type\":\"heatmapgl\",\"colorbar\":{\"outlinewidth\":0,\"ticks\":\"\"},\"colorscale\":[[0.0,\"#0d0887\"],[0.1111111111111111,\"#46039f\"],[0.2222222222222222,\"#7201a8\"],[0.3333333333333333,\"#9c179e\"],[0.4444444444444444,\"#bd3786\"],[0.5555555555555556,\"#d8576b\"],[0.6666666666666666,\"#ed7953\"],[0.7777777777777778,\"#fb9f3a\"],[0.8888888888888888,\"#fdca26\"],[1.0,\"#f0f921\"]]}],\"contourcarpet\":[{\"type\":\"contourcarpet\",\"colorbar\":{\"outlinewidth\":0,\"ticks\":\"\"}}],\"contour\":[{\"type\":\"contour\",\"colorbar\":{\"outlinewidth\":0,\"ticks\":\"\"},\"colorscale\":[[0.0,\"#0d0887\"],[0.1111111111111111,\"#46039f\"],[0.2222222222222222,\"#7201a8\"],[0.3333333333333333,\"#9c179e\"],[0.4444444444444444,\"#bd3786\"],[0.5555555555555556,\"#d8576b\"],[0.6666666666666666,\"#ed7953\"],[0.7777777777777778,\"#fb9f3a\"],[0.8888888888888888,\"#fdca26\"],[1.0,\"#f0f921\"]]}],\"surface\":[{\"type\":\"surface\",\"colorbar\":{\"outlinewidth\":0,\"ticks\":\"\"},\"colorscale\":[[0.0,\"#0d0887\"],[0.1111111111111111,\"#46039f\"],[0.2222222222222222,\"#7201a8\"],[0.3333333333333333,\"#9c179e\"],[0.4444444444444444,\"#bd3786\"],[0.5555555555555556,\"#d8576b\"],[0.6666666666666666,\"#ed7953\"],[0.7777777777777778,\"#fb9f3a\"],[0.8888888888888888,\"#fdca26\"],[1.0,\"#f0f921\"]]}],\"mesh3d\":[{\"type\":\"mesh3d\",\"colorbar\":{\"outlinewidth\":0,\"ticks\":\"\"}}],\"scatter\":[{\"fillpattern\":{\"fillmode\":\"overlay\",\"size\":10,\"solidity\":0.2},\"type\":\"scatter\"}],\"parcoords\":[{\"type\":\"parcoords\",\"line\":{\"colorbar\":{\"outlinewidth\":0,\"ticks\":\"\"}}}],\"scatterpolargl\":[{\"type\":\"scatterpolargl\",\"marker\":{\"colorbar\":{\"outlinewidth\":0,\"ticks\":\"\"}}}],\"bar\":[{\"error_x\":{\"color\":\"#2a3f5f\"},\"error_y\":{\"color\":\"#2a3f5f\"},\"marker\":{\"line\":{\"color\":\"#E5ECF6\",\"width\":0.5},\"pattern\":{\"fillmode\":\"overlay\",\"size\":10,\"solidity\":0.2}},\"type\":\"bar\"}],\"scattergeo\":[{\"type\":\"scattergeo\",\"marker\":{\"colorbar\":{\"outlinewidth\":0,\"ticks\":\"\"}}}],\"scatterpolar\":[{\"type\":\"scatterpolar\",\"marker\":{\"colorbar\":{\"outlinewidth\":0,\"ticks\":\"\"}}}],\"histogram\":[{\"marker\":{\"pattern\":{\"fillmode\":\"overlay\",\"size\":10,\"solidity\":0.2}},\"type\":\"histogram\"}],\"scattergl\":[{\"type\":\"scattergl\",\"marker\":{\"colorbar\":{\"outlinewidth\":0,\"ticks\":\"\"}}}],\"scatter3d\":[{\"type\":\"scatter3d\",\"line\":{\"colorbar\":{\"outlinewidth\":0,\"ticks\":\"\"}},\"marker\":{\"colorbar\":{\"outlinewidth\":0,\"ticks\":\"\"}}}],\"scattermapbox\":[{\"type\":\"scattermapbox\",\"marker\":{\"colorbar\":{\"outlinewidth\":0,\"ticks\":\"\"}}}],\"scatterternary\":[{\"type\":\"scatterternary\",\"marker\":{\"colorbar\":{\"outlinewidth\":0,\"ticks\":\"\"}}}],\"scattercarpet\":[{\"type\":\"scattercarpet\",\"marker\":{\"colorbar\":{\"outlinewidth\":0,\"ticks\":\"\"}}}],\"carpet\":[{\"aaxis\":{\"endlinecolor\":\"#2a3f5f\",\"gridcolor\":\"white\",\"linecolor\":\"white\",\"minorgridcolor\":\"white\",\"startlinecolor\":\"#2a3f5f\"},\"baxis\":{\"endlinecolor\":\"#2a3f5f\",\"gridcolor\":\"white\",\"linecolor\":\"white\",\"minorgridcolor\":\"white\",\"startlinecolor\":\"#2a3f5f\"},\"type\":\"carpet\"}],\"table\":[{\"cells\":{\"fill\":{\"color\":\"#EBF0F8\"},\"line\":{\"color\":\"white\"}},\"header\":{\"fill\":{\"color\":\"#C8D4E3\"},\"line\":{\"color\":\"white\"}},\"type\":\"table\"}],\"barpolar\":[{\"marker\":{\"line\":{\"color\":\"#E5ECF6\",\"width\":0.5},\"pattern\":{\"fillmode\":\"overlay\",\"size\":10,\"solidity\":0.2}},\"type\":\"barpolar\"}],\"pie\":[{\"automargin\":true,\"type\":\"pie\"}]},\"layout\":{\"autotypenumbers\":\"strict\",\"colorway\":[\"#636efa\",\"#EF553B\",\"#00cc96\",\"#ab63fa\",\"#FFA15A\",\"#19d3f3\",\"#FF6692\",\"#B6E880\",\"#FF97FF\",\"#FECB52\"],\"font\":{\"color\":\"#2a3f5f\"},\"hovermode\":\"closest\",\"hoverlabel\":{\"align\":\"left\"},\"paper_bgcolor\":\"white\",\"plot_bgcolor\":\"#E5ECF6\",\"polar\":{\"bgcolor\":\"#E5ECF6\",\"angularaxis\":{\"gridcolor\":\"white\",\"linecolor\":\"white\",\"ticks\":\"\"},\"radialaxis\":{\"gridcolor\":\"white\",\"linecolor\":\"white\",\"ticks\":\"\"}},\"ternary\":{\"bgcolor\":\"#E5ECF6\",\"aaxis\":{\"gridcolor\":\"white\",\"linecolor\":\"white\",\"ticks\":\"\"},\"baxis\":{\"gridcolor\":\"white\",\"linecolor\":\"white\",\"ticks\":\"\"},\"caxis\":{\"gridcolor\":\"white\",\"linecolor\":\"white\",\"ticks\":\"\"}},\"coloraxis\":{\"colorbar\":{\"outlinewidth\":0,\"ticks\":\"\"}},\"colorscale\":{\"sequential\":[[0.0,\"#0d0887\"],[0.1111111111111111,\"#46039f\"],[0.2222222222222222,\"#7201a8\"],[0.3333333333333333,\"#9c179e\"],[0.4444444444444444,\"#bd3786\"],[0.5555555555555556,\"#d8576b\"],[0.6666666666666666,\"#ed7953\"],[0.7777777777777778,\"#fb9f3a\"],[0.8888888888888888,\"#fdca26\"],[1.0,\"#f0f921\"]],\"sequentialminus\":[[0.0,\"#0d0887\"],[0.1111111111111111,\"#46039f\"],[0.2222222222222222,\"#7201a8\"],[0.3333333333333333,\"#9c179e\"],[0.4444444444444444,\"#bd3786\"],[0.5555555555555556,\"#d8576b\"],[0.6666666666666666,\"#ed7953\"],[0.7777777777777778,\"#fb9f3a\"],[0.8888888888888888,\"#fdca26\"],[1.0,\"#f0f921\"]],\"diverging\":[[0,\"#8e0152\"],[0.1,\"#c51b7d\"],[0.2,\"#de77ae\"],[0.3,\"#f1b6da\"],[0.4,\"#fde0ef\"],[0.5,\"#f7f7f7\"],[0.6,\"#e6f5d0\"],[0.7,\"#b8e186\"],[0.8,\"#7fbc41\"],[0.9,\"#4d9221\"],[1,\"#276419\"]]},\"xaxis\":{\"gridcolor\":\"white\",\"linecolor\":\"white\",\"ticks\":\"\",\"title\":{\"standoff\":15},\"zerolinecolor\":\"white\",\"automargin\":true,\"zerolinewidth\":2},\"yaxis\":{\"gridcolor\":\"white\",\"linecolor\":\"white\",\"ticks\":\"\",\"title\":{\"standoff\":15},\"zerolinecolor\":\"white\",\"automargin\":true,\"zerolinewidth\":2},\"scene\":{\"xaxis\":{\"backgroundcolor\":\"#E5ECF6\",\"gridcolor\":\"white\",\"linecolor\":\"white\",\"showbackground\":true,\"ticks\":\"\",\"zerolinecolor\":\"white\",\"gridwidth\":2},\"yaxis\":{\"backgroundcolor\":\"#E5ECF6\",\"gridcolor\":\"white\",\"linecolor\":\"white\",\"showbackground\":true,\"ticks\":\"\",\"zerolinecolor\":\"white\",\"gridwidth\":2},\"zaxis\":{\"backgroundcolor\":\"#E5ECF6\",\"gridcolor\":\"white\",\"linecolor\":\"white\",\"showbackground\":true,\"ticks\":\"\",\"zerolinecolor\":\"white\",\"gridwidth\":2}},\"shapedefaults\":{\"line\":{\"color\":\"#2a3f5f\"}},\"annotationdefaults\":{\"arrowcolor\":\"#2a3f5f\",\"arrowhead\":0,\"arrowwidth\":1},\"geo\":{\"bgcolor\":\"white\",\"landcolor\":\"#E5ECF6\",\"subunitcolor\":\"white\",\"showland\":true,\"showlakes\":true,\"lakecolor\":\"white\"},\"title\":{\"x\":0.05},\"mapbox\":{\"style\":\"light\"}}},\"title\":{\"text\":\"Languages\",\"x\":0.5},\"width\":800,\"height\":600},                        {\"responsive\": true}                    ).then(function(){\n",
       "                            \n",
       "var gd = document.getElementById('4480a63d-5442-48b0-a312-df530f71b718');\n",
       "var x = new MutationObserver(function (mutations, observer) {{\n",
       "        var display = window.getComputedStyle(gd).display;\n",
       "        if (!display || display === 'none') {{\n",
       "            console.log([gd, 'removed!']);\n",
       "            Plotly.purge(gd);\n",
       "            observer.disconnect();\n",
       "        }}\n",
       "}});\n",
       "\n",
       "// Listen for the removal of the full notebook cells\n",
       "var notebookContainer = gd.closest('#notebook-container');\n",
       "if (notebookContainer) {{\n",
       "    x.observe(notebookContainer, {childList: true});\n",
       "}}\n",
       "\n",
       "// Listen for the clearing of the current output cell\n",
       "var outputEl = gd.closest('.output');\n",
       "if (outputEl) {{\n",
       "    x.observe(outputEl, {childList: true});\n",
       "}}\n",
       "\n",
       "                        })                };                });            </script>        </div>"
      ]
     },
     "metadata": {},
     "output_type": "display_data"
    }
   ],
   "source": [
    "import pandas as pd\n",
    "import plotly.graph_objs as go\n",
    "import plotly.express as px\n",
    "\n",
    "# create a Plotly pie chart\n",
    "fig = go.Figure(\n",
    "    data=[go.Pie(labels=filtered_lang_counts.index, \n",
    "                 values=filtered_lang_counts.values,\n",
    "                 pull=[0]+[0.2]*18,\n",
    "                 marker=dict(colors=px.colors.qualitative.Antique_r)\n",
    "                )],\n",
    "    layout_title_text='Languages',\n",
    "    layout_title_x=0.5\n",
    ")\n",
    "fig.update_traces(textposition='inside')\n",
    "\n",
    "fig.update_layout(\n",
    "    width=800,\n",
    "    height=600\n",
    ")\n",
    "\n",
    "fig.show()"
   ]
  },
  {
   "cell_type": "markdown",
   "id": "ccbfa9fc-7788-445a-9cff-e8b76e0d9145",
   "metadata": {},
   "source": [
    "The data shows the language usage distribution for Airbnb listings in Toronto, with English being the dominant language at 92.62%. French is the second most commonly used language at 2.99%, followed by Spanish at 1.33%, and Romanian at 0.49%. Other languages, such as German, Portuguese, Somali, Afrikaans, Italian, Catalan, and Czech, each account for less than 1% of the total language usage. The remaining languages listed, including Dutch, Tagalog, Polish, Swahili, Indonesian, Danish, and Hungarian, each make up less than 0.2% of the language usage.\n",
    "\n",
    "It is important to note that the dataset is limited to Airbnb listings in Toronto and may not be representative of language usage in the wider community. It is possible that the high use of French is related to the fact that Toronto is located in Ontario which is adjacent to Quebec. However, the data does provide insight into the linguistic diversity of Airbnb hosts and guests in Toronto."
   ]
  }
 ],
 "metadata": {
  "kernelspec": {
   "display_name": "Python 3 (ipykernel)",
   "language": "python",
   "name": "python3"
  },
  "language_info": {
   "codemirror_mode": {
    "name": "ipython",
    "version": 3
   },
   "file_extension": ".py",
   "mimetype": "text/x-python",
   "name": "python",
   "nbconvert_exporter": "python",
   "pygments_lexer": "ipython3",
   "version": "3.10.7"
  }
 },
 "nbformat": 4,
 "nbformat_minor": 5
}
