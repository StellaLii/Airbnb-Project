{
 "cells": [
  {
   "cell_type": "code",
   "execution_count": 69,
   "metadata": {},
   "outputs": [],
   "source": [
    "import pandas as pd\n",
    "from sklearn.preprocessing import LabelEncoder\n",
    "from sklearn.model_selection import train_test_split\n",
    "from sklearn.ensemble import RandomForestRegressor, GradientBoostingRegressor\n",
    "from skopt import BayesSearchCV\n",
    "import subprocess\n",
    "import matplotlib.pyplot as plt\n",
    "import math  \n",
    "import sklearn.metrics\n",
    "import shap\n",
    "from sklearn.tree import DecisionTreeRegressor"
   ]
  },
  {
   "cell_type": "code",
   "execution_count": 70,
   "metadata": {},
   "outputs": [],
   "source": [
    "df = pd.read_csv('airbnb_model_fitting.csv')"
   ]
  },
  {
   "cell_type": "code",
   "execution_count": 71,
   "metadata": {},
   "outputs": [],
   "source": [
    "X = df.loc[:, df.columns != 'price']\n",
    "y = df['price']\n",
    "X_train, X_test, y_train, y_test = train_test_split(X, y,test_size=0.1, train_size = 0.9,  random_state=42)"
   ]
  },
  {
   "cell_type": "code",
   "execution_count": 72,
   "metadata": {},
   "outputs": [
    {
     "name": "stdout",
     "output_type": "stream",
     "text": [
      "<class 'pandas.core.frame.DataFrame'>\n",
      "Int64Index: 3685 entries, 3891 to 3174\n",
      "Data columns (total 14 columns):\n",
      " #   Column                     Non-Null Count  Dtype  \n",
      "---  ------                     --------------  -----  \n",
      " 0   bathrooms_number           3685 non-null   float64\n",
      " 1   accommodates               3685 non-null   int64  \n",
      " 2   bedrooms                   3685 non-null   float64\n",
      " 3   beds                       3685 non-null   float64\n",
      " 4   property_type              3685 non-null   int64  \n",
      " 5   latitude                   3685 non-null   float64\n",
      " 6   longitude                  3685 non-null   float64\n",
      " 7   bathrooms_type             3685 non-null   int64  \n",
      " 8   room_type                  3685 non-null   int64  \n",
      " 9   white_goods                3685 non-null   float64\n",
      " 10  neighbourhood_cleansed     3685 non-null   int64  \n",
      " 11  host_total_listings_count  3685 non-null   int64  \n",
      " 12  average_nearest_price      3685 non-null   float64\n",
      " 13  bbq                        3685 non-null   float64\n",
      "dtypes: float64(8), int64(6)\n",
      "memory usage: 431.8 KB\n"
     ]
    }
   ],
   "source": [
    "regressor = RandomForestRegressor(n_estimators = 100, max_features = 1, max_depth = 10, min_samples_split = 20)\n",
    "regressor.fit(X_train, y_train)\n",
    "\n",
    "feature_importances = regressor.feature_importances_\n",
    "\n",
    "# Create a pandas dataframe of feature importances\n",
    "df_importances = pd.DataFrame({'feature': list(range(X_train.shape[1])), 'importance': feature_importances}).sort_values('importance', ascending=False)\n",
    "\n",
    "# Select features with highest importance scores\n",
    "top_features = df_importances[df_importances['importance'] >= 0.02]['feature'].values.tolist()\n",
    "\n",
    "X_train_selected = X_train.iloc[:, top_features]\n",
    "X_test_selected = X_test.iloc[:, top_features]\n",
    "X_train_selected.info()"
   ]
  },
  {
   "cell_type": "code",
   "execution_count": 73,
   "metadata": {},
   "outputs": [],
   "source": [
    "X_train_1 = X_train_selected\n",
    "y_train_1 = y_train\n",
    "\n",
    "X_test_1 = X_test_selected\n",
    "y_test_1 = y_test"
   ]
  },
  {
   "cell_type": "code",
   "execution_count": 74,
   "metadata": {},
   "outputs": [],
   "source": [
    "rf = RandomForestRegressor(n_estimators = 40, max_features = 1, max_depth = 10, min_samples_split = 10)\n",
    "rf.fit(X_train_1, y_train_1)\n",
    "y_predict_rf = rf.predict(X_test_1)"
   ]
  },
  {
   "cell_type": "code",
   "execution_count": 75,
   "metadata": {},
   "outputs": [],
   "source": [
    "importancesRF = rf.feature_importances_\n",
    "feat_imp1 = pd.DataFrame(importancesRF, columns=['Weight'], index=X_train_1.columns)\n",
    "feat_imp1.sort_values('Weight', inplace=True, ascending=False)"
   ]
  },
  {
   "cell_type": "code",
   "execution_count": 77,
   "metadata": {},
   "outputs": [
    {
     "data": {
      "image/png": "[encoded data removed]",
      "text/plain": [
       "<Figure size 360x360 with 1 Axes>"
      ]
     },
     "metadata": {
      "needs_background": "light"
     },
     "output_type": "display_data"
    }
   ],
   "source": [
    "feat_imp = pd.DataFrame({'importance':rf.feature_importances_})  \n",
    "feat_imp['feature'] = X_train_1.columns\n",
    "feat_imp.sort_values(by='importance', ascending=False, inplace=True)\n",
    "\n",
    "feat_imp.sort_values(by='importance', inplace=True)\n",
    "feat_imp = feat_imp.set_index('feature', drop=True)\n",
    "feat_imp = feat_imp[len(feat_imp1)-10:len(feat_imp1)]\n",
    "feat_imp.plot.barh(figsize=(5,5))\n",
    "plt.xlabel('Importance Score')\n",
    "plt.ylabel('Top 10 Features')\n",
    "plt.show()"
   ]
  },
  {
   "cell_type": "code",
   "execution_count": 66,
   "metadata": {},
   "outputs": [
    {
     "name": "stdout",
     "output_type": "stream",
     "text": [
      "RMSE =  56.59978189982079\n",
      "MAE =  43.75409932244056\n"
     ]
    }
   ],
   "source": [
    "mse = sklearn.metrics.mean_squared_error(y_test_1, y_predict_rf)  \n",
    "mae_rf_1 = sklearn.metrics.mean_absolute_error(y_test_1, y_predict_rf) \n",
    "\n",
    "rmse_rf_1 = math.sqrt(mse)  \n",
    "\n",
    "print(\"RMSE = \", rmse_rf_1)\n",
    "print(\"MAE = \", mae_rf_1)"
   ]
  },
  {
   "cell_type": "code",
   "execution_count": 67,
   "metadata": {},
   "outputs": [],
   "source": [
    "from dtreeviz.trees import *\n",
    "\n",
    "selected_tree = rf.estimators_[0]\n",
    "\n",
    "viz_model = dtreeviz(selected_tree,\n",
    "                       x_data=X_train_1,\n",
    "                       y_data=y_train_1,\n",
    "                       target_name='price',\n",
    "                       feature_names=X_train_1.columns)"
   ]
  },
  {
   "cell_type": "code",
   "execution_count": 33,
   "metadata": {},
   "outputs": [],
   "source": [
    "viz_model.view()"
   ]
  },
  {
   "cell_type": "code",
   "execution_count": 68,
   "metadata": {},
   "outputs": [],
   "source": [
    "viz_model.save(\"tree.svg\")"
   ]
  },
  {
   "cell_type": "code",
   "execution_count": null,
   "metadata": {},
   "outputs": [],
   "source": []
  }
 ],
 "metadata": {
  "kernelspec": {
   "display_name": "Python 3 (ipykernel)",
   "language": "python",
   "name": "python3"
  },
  "language_info": {
   "codemirror_mode": {
    "name": "ipython",
    "version": 3
   },
   "file_extension": ".py",
   "mimetype": "text/x-python",
   "name": "python",
   "nbconvert_exporter": "python",
   "pygments_lexer": "ipython3",
   "version": "3.8.5"
  }
 },
 "nbformat": 4,
 "nbformat_minor": 4
}
